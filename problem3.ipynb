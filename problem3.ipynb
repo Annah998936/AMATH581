{
 "cells": [
  {
   "cell_type": "code",
   "execution_count": 1,
   "id": "2b86f005",
   "metadata": {
    "scrolled": true
   },
   "outputs": [],
   "source": [
    "import numpy as np\n",
    "from numpy.linalg import norm\n",
    "import matplotlib.pyplot as plt\n",
    "import scipy.integrate\n",
    "from matplotlib.pyplot import figure"
   ]
  },
  {
   "cell_type": "code",
   "execution_count": 2,
   "id": "be90f1cf",
   "metadata": {},
   "outputs": [],
   "source": [
    "import sys\n",
    "np.set_printoptions(threshold=sys.maxsize)"
   ]
  },
  {
   "cell_type": "markdown",
   "id": "4bb48bc0",
   "metadata": {},
   "source": [
    "### Problem 3"
   ]
  },
  {
   "cell_type": "code",
   "execution_count": 3,
   "id": "d6aa0a0c",
   "metadata": {},
   "outputs": [],
   "source": [
    "# Define the function\n",
    "def rhs_ivp(x, y, ep, gamma):\n",
    "    f1 = y[1]\n",
    "    f2 = ((gamma*np.abs(y[0])**2)+x**2 - ep) * y[0]\n",
    "    \n",
    "    return np.array([f1,f2])"
   ]
  },
  {
   "cell_type": "code",
   "execution_count": 4,
   "id": "7b16f3d8",
   "metadata": {},
   "outputs": [],
   "source": [
    "# Define some constants \n",
    "K = 1\n",
    "L = 3\n",
    "tol = 10**(-5) \n",
    "\n",
    "xp = [-L, L]\n",
    "x_span = np.linspace(-L,L,20*L+1) \n",
    "gamma = [0.05, -0.05]"
   ]
  },
  {
   "cell_type": "code",
   "execution_count": 5,
   "id": "376b53d9",
   "metadata": {},
   "outputs": [],
   "source": [
    "A15_18 = np.array([])\n",
    "Eigenfunctions_all = np.array([])\n",
    "\n",
    "for gamma in gamma:\n",
    "    A = 0.000001\n",
    "    ep_start = 0\n",
    "    ep = ep_start\n",
    "    dep = K/100 \n",
    "    y0 = np.array([A,(((K*L**2) - ep)**.5)*(A)])\n",
    "\n",
    "    for modes in range(2):\n",
    "        ep = ep_start\n",
    "        dep = K/100\n",
    "\n",
    "        for j in range(1000): # using for loop to make sure it stops. \n",
    "            # update initial condition\n",
    "            y0 = np.array([A,((((K*L**2) - ep))**.5)*(A)])\n",
    "\n",
    "            # solve ODE \n",
    "            sol = scipy.integrate.solve_ivp(lambda x,y: rhs_ivp(x,y,ep,gamma), xp, y0, t_eval = x_span)\n",
    "            y_sol = sol.y[0,:] # f1 \n",
    "            y_sol_dx = sol.y[1,:] #f2\n",
    "\n",
    "            # define/compute norm and boundary conditions \n",
    "            norm = np.abs(scipy.integrate.trapz(y_sol**2,x_span)) #norm\n",
    "            norm_tol = np.abs(scipy.integrate.trapz(y_sol**2,x_span)-1)\n",
    "            boundary = np.abs(y_sol_dx[-1] + (((K*L**2)-ep)**.5)*y_sol[-1]) # same bc as problem 1 and 2. \n",
    "    #         boundary = np.abs(y_sol_dx[-1] + (((gamma*np.abs(y_sol[-1])**2)+(K*L**2)-ep)**.5)*y_sol[-1])\n",
    "\n",
    "    # Norm Shooting \n",
    "\n",
    "            #if norm and boundary condiiton met, break, else A = A/sqrt(norm)\n",
    "            if boundary < tol and norm_tol < tol:\n",
    "                break\n",
    "            else:\n",
    "                A = A/np.sqrt(norm)\n",
    "    #             print('norm:', norm)\n",
    "    #             print('A:', A)\n",
    "\n",
    "    # BC Shooting\n",
    "\n",
    "            # update initial condition with new A \n",
    "            y0 = np.array([A,((((K*L**2) - ep))**.5)*(A)])\n",
    "\n",
    "            # solve ODE \n",
    "            sol = scipy.integrate.solve_ivp(lambda x,y: rhs_ivp(x,y,ep,gamma), xp, y0, t_eval = x_span)\n",
    "            y_sol = sol.y[0,:] # f1 \n",
    "            y_sol_dx = sol.y[1,:] #f2 \n",
    "\n",
    "            # define/compute norm and boundary conditions \n",
    "            norm = np.abs(scipy.integrate.trapz(y_sol**2,x_span)) #norm\n",
    "            norm_tol = np.abs(scipy.integrate.trapz(y_sol**2,x_span)-1)\n",
    "            boundary = np.abs(y_sol_dx[-1] + (((K*L**2)-ep)**.5)*y_sol[-1])\n",
    "\n",
    "            if boundary < tol and norm_tol < tol:\n",
    "                break\n",
    "\n",
    "            if (-1)**(modes)*(y_sol_dx[-1] + (((K*L**2)-ep)**.5)*y_sol[-1]) > tol:\n",
    "                ep = ep + dep # Increase \n",
    "            else:\n",
    "                ep = ep - dep/2 # Decrease \n",
    "                dep = dep/2 # Cut dep in half to make sure we converge\n",
    "\n",
    "        ep_start = ep + 0.1 \n",
    "        A = A\n",
    "\n",
    "        A15_18 = np.append(A15_18, ep)\n",
    "        Eigenfunctions_all = np.append(Eigenfunctions_all, y_sol)"
   ]
  },
  {
   "cell_type": "code",
   "execution_count": 6,
   "id": "c35458c4",
   "metadata": {},
   "outputs": [
    {
     "name": "stdout",
     "output_type": "stream",
     "text": [
      "eigenvalues for gamma = 0.05 [[1.01945129 3.01267334]]\n",
      "eigenvalues for gamma = -0.05 [[0.97994629 2.98324341]]\n"
     ]
    }
   ],
   "source": [
    "A15 = A15_18[0:2].reshape(1,2)\n",
    "A18 = A15_18[2:4].reshape(1,2)\n",
    "\n",
    "print('eigenvalues for gamma = 0.05', A15)\n",
    "print('eigenvalues for gamma = -0.05', A18)"
   ]
  },
  {
   "cell_type": "code",
   "execution_count": 7,
   "id": "d4470883",
   "metadata": {},
   "outputs": [],
   "source": [
    "A13 = Eigenfunctions_all[0:61]"
   ]
  },
  {
   "cell_type": "code",
   "execution_count": 8,
   "id": "bec4d2bf",
   "metadata": {},
   "outputs": [],
   "source": [
    "A14 = Eigenfunctions_all[61:122]"
   ]
  },
  {
   "cell_type": "code",
   "execution_count": 9,
   "id": "08c1d6f1",
   "metadata": {},
   "outputs": [],
   "source": [
    "A16 = Eigenfunctions_all[122:183]"
   ]
  },
  {
   "cell_type": "code",
   "execution_count": 10,
   "id": "112069df",
   "metadata": {},
   "outputs": [],
   "source": [
    "A17 = Eigenfunctions_all[183:244]"
   ]
  },
  {
   "cell_type": "code",
   "execution_count": 11,
   "id": "290dcf99",
   "metadata": {},
   "outputs": [
    {
     "data": {
      "text/plain": [
       "<matplotlib.legend.Legend at 0x7fb0500e47f0>"
      ]
     },
     "execution_count": 11,
     "metadata": {},
     "output_type": "execute_result"
    },
    {
     "data": {
      "image/png": "[encoded data removed]",
      "text/plain": [
       "<Figure size 432x288 with 1 Axes>"
      ]
     },
     "metadata": {
      "needs_background": "light"
     },
     "output_type": "display_data"
    }
   ],
   "source": [
    "# 0.05\n",
    "plt.plot(sol.t, A13, linewidth=2, label = 'A13')\n",
    "plt.plot(sol.t, A14, linewidth=2, label = 'A14')\n",
    "plt.plot(sol.t, 0*sol.t, 'k')\n",
    "plt.legend(loc=\"lower right\")"
   ]
  },
  {
   "cell_type": "code",
   "execution_count": 12,
   "id": "e4e3a787",
   "metadata": {},
   "outputs": [
    {
     "data": {
      "text/plain": [
       "<matplotlib.legend.Legend at 0x7fb072784df0>"
      ]
     },
     "execution_count": 12,
     "metadata": {},
     "output_type": "execute_result"
    },
    {
     "data": {
      "image/png": "[encoded data removed]",
      "text/plain": [
       "<Figure size 432x288 with 1 Axes>"
      ]
     },
     "metadata": {
      "needs_background": "light"
     },
     "output_type": "display_data"
    }
   ],
   "source": [
    "# -0.05\n",
    "plt.plot(sol.t, A13, linewidth=2, label = 'A16')\n",
    "plt.plot(sol.t, A14, linewidth=2, label = 'A17')\n",
    "plt.plot(sol.t, 0*sol.t, 'k')\n",
    "plt.legend(loc=\"lower right\")"
   ]
  }
 ],
 "metadata": {
  "kernelspec": {
   "display_name": "Python 3 (ipykernel)",
   "language": "python",
   "name": "python3"
  },
  "language_info": {
   "codemirror_mode": {
    "name": "ipython",
    "version": 3
   },
   "file_extension": ".py",
   "mimetype": "text/x-python",
   "name": "python",
   "nbconvert_exporter": "python",
   "pygments_lexer": "ipython3",
   "version": "3.9.7"
  }
 },
 "nbformat": 4,
 "nbformat_minor": 5
}
