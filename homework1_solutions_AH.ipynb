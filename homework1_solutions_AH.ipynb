{
 "cells": [
  {
   "cell_type": "code",
   "execution_count": 2,
   "id": "5b1f3dce",
   "metadata": {},
   "outputs": [],
   "source": [
    "import numpy as np\n",
    "import matplotlib.pyplot as plt\n",
    "from scipy.integrate import solve_ivp"
   ]
  },
  {
   "cell_type": "code",
   "execution_count": 2,
   "id": "feee9c86",
   "metadata": {},
   "outputs": [],
   "source": [
    "# Define the mathematical parameters for the problem\n",
    "f = lambda t, y: -3*y*np.sin(t) # ODE\n",
    "y0 = np.pi/(2**.5) # Initial Condition\n",
    "d_t = 2**(-8) # Step Size \n",
    "t = np.arange(0,5+d_t,d_t) # time step"
   ]
  },
  {
   "cell_type": "code",
   "execution_count": 3,
   "id": "7a580d52",
   "metadata": {},
   "outputs": [],
   "source": [
    "# Forward Euler function\n",
    "y = np.zeros(len(t))\n",
    "y[0] = y0\n",
    "    \n",
    "for i in range(0, len(t)-1):\n",
    "    y[i + 1] = y[i] + d_t*f(t[i], y[i])\n",
    "\n",
    "A1 = y[:, np.newaxis]"
   ]
  },
  {
   "cell_type": "markdown",
   "id": "5ccde2fa",
   "metadata": {},
   "source": [
    "### Problem 1a - Forward Euler Method"
   ]
  },
  {
   "cell_type": "code",
   "execution_count": 4,
   "id": "b165c76c",
   "metadata": {},
   "outputs": [],
   "source": [
    "# Array for dt \n",
    "x = np.array([])\n",
    "\n",
    "for k in range(2,9):\n",
    "    x = np.append(x,2**(-k))"
   ]
  },
  {
   "cell_type": "code",
   "execution_count": 5,
   "id": "8a39a52a",
   "metadata": {},
   "outputs": [],
   "source": [
    "# Y true function\n",
    "def y_true(t):\n",
    "    return (np.pi * np.exp(3*(np.cos(t)-1))/(2**.5)) "
   ]
  },
  {
   "cell_type": "code",
   "execution_count": 6,
   "id": "e276f061",
   "metadata": {},
   "outputs": [],
   "source": [
    "A2 = np.array([])\n",
    "\n",
    "for dt in x:\n",
    "    f = lambda t, y: -3*y*np.sin(t) # ODE\n",
    "    y0 = np.pi/(2**.5) # Initial Condition\n",
    "    t = np.arange(0,5+dt,dt) # time step\n",
    "    \n",
    "    # Y function\n",
    "    y = np.zeros(len(t))\n",
    "    y[0] = y0\n",
    "    \n",
    "    for i in range(0, len(t)-1):\n",
    "        y[i + 1] = y[i] + dt*f(t[i], y[i])\n",
    "    \n",
    "    # Error function\n",
    "    A2 = np.append(A2,abs(y_true(5) - y[len(t)-1]))"
   ]
  },
  {
   "cell_type": "code",
   "execution_count": 7,
   "id": "daebe47a",
   "metadata": {},
   "outputs": [],
   "source": [
    "# plt.plot(np.log(A2),np.log(x))"
   ]
  },
  {
   "cell_type": "code",
   "execution_count": 8,
   "id": "d780b986",
   "metadata": {},
   "outputs": [],
   "source": [
    "A3 = np.polyfit(np.log(x), np.log(A2), 1)\n",
    "A3 = A3[0]"
   ]
  },
  {
   "cell_type": "code",
   "execution_count": 9,
   "id": "f2195186",
   "metadata": {},
   "outputs": [],
   "source": [
    "A2 = A2.reshape(1,7)"
   ]
  },
  {
   "cell_type": "markdown",
   "id": "71b4a774",
   "metadata": {},
   "source": [
    "### Problem 1b - Heun's Method"
   ]
  },
  {
   "cell_type": "code",
   "execution_count": 3,
   "id": "572b9869",
   "metadata": {},
   "outputs": [],
   "source": [
    "# Define the mathematical parameters for the problem\n",
    "f = lambda t, y: -3*y*np.sin(t) # ODE\n",
    "y0 = np.pi/(2**.5) # Initial Condition\n",
    "d_t = 2**(-8) # Step Size \n",
    "t = np.arange(0,5+d_t,d_t) # time step"
   ]
  },
  {
   "cell_type": "code",
   "execution_count": 10,
   "id": "20f2533e-5a6b-4be3-81c5-ad45e67450ca",
   "metadata": {},
   "outputs": [
    {
     "data": {
      "text/plain": [
       "array([0.00000000e+00, 3.90625000e-03, 7.81250000e-03, ...,\n",
       "       4.99218750e+00, 4.99609375e+00, 5.00000000e+00])"
      ]
     },
     "execution_count": 10,
     "metadata": {},
     "output_type": "execute_result"
    }
   ],
   "source": [
    "t"
   ]
  },
  {
   "cell_type": "code",
   "execution_count": 5,
   "id": "d37548c0-78c6-4eab-8e04-d63386d99164",
   "metadata": {},
   "outputs": [
    {
     "data": {
      "text/plain": [
       "0.00390625"
      ]
     },
     "execution_count": 5,
     "metadata": {},
     "output_type": "execute_result"
    }
   ],
   "source": [
    "d_t"
   ]
  },
  {
   "cell_type": "code",
   "execution_count": 6,
   "id": "09046dcc-8aca-40b5-ba7a-f8d4b622dc1b",
   "metadata": {},
   "outputs": [],
   "source": [
    "y = np.zeros(len(t))"
   ]
  },
  {
   "cell_type": "code",
   "execution_count": 11,
   "id": "a9e77b55-3ccf-481d-bac7-9d7d3228f5c3",
   "metadata": {},
   "outputs": [
    {
     "data": {
      "text/plain": [
       "array([0., 0., 0., ..., 0., 0., 0.])"
      ]
     },
     "execution_count": 11,
     "metadata": {},
     "output_type": "execute_result"
    }
   ],
   "source": [
    "y"
   ]
  },
  {
   "cell_type": "code",
   "execution_count": 11,
   "id": "00a014b9",
   "metadata": {},
   "outputs": [],
   "source": [
    "# Heun's function\n",
    "y = np.zeros(len(t))\n",
    "y[0] = y0\n",
    "    \n",
    "for i in range(0, len(t)-1):\n",
    "    y[i + 1] = y[i] + (d_t/2)*(f(t[i],y[i]) + f(t[i+1], y[i]+ d_t*f(t[i],y[i])))\n",
    "\n",
    "A4 = y[:, np.newaxis]"
   ]
  },
  {
   "cell_type": "code",
   "execution_count": 12,
   "id": "25e21226",
   "metadata": {},
   "outputs": [],
   "source": [
    "# Array for dt \n",
    "x = np.array([])\n",
    "\n",
    "for k in range(2,9):\n",
    "    x = np.append(x,2**(-k))"
   ]
  },
  {
   "cell_type": "code",
   "execution_count": 13,
   "id": "973967f0",
   "metadata": {},
   "outputs": [],
   "source": [
    "# Y true function\n",
    "def y_true(t):\n",
    "    return (np.pi * np.exp(3*(np.cos(t)-1))/(2**.5)) "
   ]
  },
  {
   "cell_type": "code",
   "execution_count": 14,
   "id": "27d11912",
   "metadata": {},
   "outputs": [],
   "source": [
    "A5 = np.array([])\n",
    "\n",
    "for dt in x:\n",
    "    f = lambda t, y: -3*y*np.sin(t) # ODE\n",
    "    y0 = np.pi/(2**.5) # Initial Condition\n",
    "    t = np.arange(0,5+dt,dt) # time step\n",
    "    \n",
    "    # Y function\n",
    "    y = np.zeros(len(t))\n",
    "    y[0] = y0\n",
    "    \n",
    "    for i in range(0, len(t)-1):\n",
    "        y[i + 1] = y[i] + (dt/2)*(f(t[i],y[i]) + f(t[i+1], y[i]+ dt*f(t[i],y[i])))\n",
    "    \n",
    "    # Error function\n",
    "#     print(abs(y_true(5) - y[len(t)-1]))\n",
    "    A5 = np.append(A5,abs(y_true(5) - y[len(t)-1]))"
   ]
  },
  {
   "cell_type": "code",
   "execution_count": 15,
   "id": "467c69a6",
   "metadata": {},
   "outputs": [],
   "source": [
    "# plt.loglog(x,A5)"
   ]
  },
  {
   "cell_type": "code",
   "execution_count": 16,
   "id": "cc50b38c",
   "metadata": {},
   "outputs": [],
   "source": [
    "A6 = np.polyfit(np.log(x), np.log(A5), 1)\n",
    "A6 = A6[0]"
   ]
  },
  {
   "cell_type": "code",
   "execution_count": 17,
   "id": "14b5c4c8",
   "metadata": {},
   "outputs": [],
   "source": [
    "A5 = A5.reshape(1,7)"
   ]
  },
  {
   "cell_type": "markdown",
   "id": "62dae497",
   "metadata": {},
   "source": [
    "### Problem 1c - Adam's Predictor  Method"
   ]
  },
  {
   "cell_type": "code",
   "execution_count": 18,
   "id": "acbba998",
   "metadata": {},
   "outputs": [],
   "source": [
    "# Define the mathematical parameters for the problem\n",
    "f = lambda t, y: -3*y*np.sin(t) # ODE\n",
    "y0 = np.pi/(2**.5) # Initial Condition\n",
    "d_t = 2**(-8) # Step Size \n",
    "t = np.arange(0,5+d_t,d_t) # time step"
   ]
  },
  {
   "cell_type": "code",
   "execution_count": 19,
   "id": "5c5a7375",
   "metadata": {
    "scrolled": true
   },
   "outputs": [],
   "source": [
    "# Adam's Predictor Method\n",
    "\n",
    "y = np.zeros(len(t))\n",
    "y[0] = y0\n",
    "y[1] = y0 + d_t*f(t[0]+(d_t/2),y[0]+((d_t/2)*f(t[0],y[0])))\n",
    "    \n",
    "for i in range(0,len(t)-1):\n",
    "    y_p = y[i+1] + (d_t/2)*(3*f(t[i+1],y[i+1])-f(t[i],y[i]))\n",
    "#     print(y_p)\n",
    "    if i == len(t)-2 : \n",
    "        break\n",
    "    else:\n",
    "        y[i + 2] = y[i+1] + (d_t/2)*(f(t[i+2],y_p)+f(t[i+1],y[i+1]))\n",
    "\n",
    "A7 = y[:, np.newaxis]"
   ]
  },
  {
   "cell_type": "code",
   "execution_count": 20,
   "id": "2c2f6fd2",
   "metadata": {},
   "outputs": [],
   "source": [
    "# Array for dt \n",
    "x = np.array([])\n",
    "\n",
    "for k in range(2,9):\n",
    "    x = np.append(x,2**(-k))"
   ]
  },
  {
   "cell_type": "code",
   "execution_count": 21,
   "id": "b83fade8",
   "metadata": {},
   "outputs": [],
   "source": [
    "# Y true function\n",
    "def y_true(t):\n",
    "    return (np.pi * np.exp(3*(np.cos(t)-1))/(2**.5)) "
   ]
  },
  {
   "cell_type": "code",
   "execution_count": 22,
   "id": "aff6a024",
   "metadata": {},
   "outputs": [],
   "source": [
    "A8 = np.array([])\n",
    "\n",
    "for dt in x:\n",
    "    t = np.arange(0,5+dt,dt) # time step\n",
    "    y1 = np.zeros(len(t)) # define y array\n",
    "    \n",
    "    f = lambda t, y1: -3*y1*np.sin(t) # ODE function\n",
    "    y0 = np.pi/(2**.5) # Initial Condition definition\n",
    "    y1[0] = y0 # Initial Condition \n",
    "    y1[1] = y0 + dt*f(t[0]+(dt/2),y1[0]+((dt/2)*f(t[0],y1[0]))) # Second Initial Condition\n",
    "    \n",
    "    for i in range(0,len(t)-1): \n",
    "        y_p = y1[i+1] + (dt/2)*(3*f(t[i+1],y1[i+1])-f(t[i],y1[i]))\n",
    "        \n",
    "        if i == len(t)-2 : \n",
    "            break\n",
    "        else:\n",
    "            y1[i + 2] = y1[i+1] + (dt/2)*(f(t[i+2],y_p)+f(t[i+1],y1[i+1]))\n",
    "    \n",
    "    # Error function\n",
    "    A8 = np.append(A8,abs(y_true(5) - y1[len(t)-1]))"
   ]
  },
  {
   "cell_type": "code",
   "execution_count": 23,
   "id": "06237f0e",
   "metadata": {},
   "outputs": [],
   "source": [
    "A9 = np.polyfit(np.log(x), np.log(A8), 1)\n",
    "A9 = A9[0]"
   ]
  },
  {
   "cell_type": "code",
   "execution_count": 24,
   "id": "e80ba7ce",
   "metadata": {},
   "outputs": [],
   "source": [
    "A8 = A8.reshape(1,7)"
   ]
  },
  {
   "cell_type": "markdown",
   "id": "26eb04c2",
   "metadata": {},
   "source": [
    "### MISC for Problem 1 "
   ]
  },
  {
   "cell_type": "code",
   "execution_count": 25,
   "id": "b6a818b7",
   "metadata": {},
   "outputs": [],
   "source": [
    "# Plotting "
   ]
  },
  {
   "cell_type": "code",
   "execution_count": 26,
   "id": "73d86bc9",
   "metadata": {},
   "outputs": [],
   "source": [
    "# # Plotting the y_true and y function\n",
    "# plt.plot(t, y, 'b--', label='Approximate')\n",
    "# plt.plot(t, (np.pi * np.exp(3*np.cos(t)-1))/(2**.5), 'g', label='Exact')"
   ]
  },
  {
   "cell_type": "code",
   "execution_count": 27,
   "id": "48cc8b79",
   "metadata": {},
   "outputs": [],
   "source": [
    "# # Error function\n",
    "# def error(x):\n",
    "#     return y_true(x) - y(x)"
   ]
  },
  {
   "cell_type": "markdown",
   "id": "bc010508",
   "metadata": {},
   "source": [
    "### Problem 2a - Van Der Pol Oscillator"
   ]
  },
  {
   "cell_type": "code",
   "execution_count": 28,
   "id": "0b162e9c",
   "metadata": {},
   "outputs": [],
   "source": [
    "from scipy.integrate import solve_ivp\n",
    "import numpy as np\n",
    "import matplotlib.pyplot as plt"
   ]
  },
  {
   "cell_type": "code",
   "execution_count": 29,
   "id": "df967c87",
   "metadata": {},
   "outputs": [],
   "source": [
    "# Set the times\n",
    "tspan = [0, 32]\n",
    "dt = 0.5\n",
    "t = np.arange(0,32+dt,dt)\n",
    "\n",
    "# Initial condition\n",
    "yt0 = [3**.5, 1]\n",
    "\n",
    "# Define the e\n",
    "er = [0.1, 1, 20]"
   ]
  },
  {
   "cell_type": "code",
   "execution_count": 30,
   "id": "8384f5b7",
   "metadata": {},
   "outputs": [],
   "source": [
    "# Define the ODE\n",
    "def f(t, y, e):\n",
    "    w1 = y[0]\n",
    "    w2 = y[1]\n",
    "\n",
    "    dw1dt = w2\n",
    "    dw2dt = -w1-(e * w2* ((w1)**2-1))\n",
    "\n",
    "    return np.array([dw1dt, dw2dt])"
   ]
  },
  {
   "cell_type": "code",
   "execution_count": 31,
   "id": "a651c159",
   "metadata": {},
   "outputs": [],
   "source": [
    "# Define the ODE\n",
    "\n",
    "d_array = np.array([])\n",
    "\n",
    "for e in er:\n",
    "#     def f(t, y, e):\n",
    "#         w1 = y[0]\n",
    "#         w2 = y[1]\n",
    "\n",
    "#         dw1dt = w2\n",
    "#         dw2dt = -w1-(e * w2* ((w1)**2-1))\n",
    "\n",
    "#         return np.array([dw1dt, dw2dt])\n",
    "\n",
    "    sol = solve_ivp(f, tspan, y0 = yt0, args=[e], method='RK45', t_eval= t)#np.linspace(0, 32,100)\n",
    "    y = sol.y[0].reshape(1,len(t))\n",
    "    \n",
    "    d_array = np.append(d_array, y)\n",
    "    \n",
    "A10 = d_array.reshape(3,len(t)).transpose()"
   ]
  },
  {
   "cell_type": "markdown",
   "id": "63ddf712",
   "metadata": {},
   "source": [
    "### Problem 2b - Van Der Pol Oscillator (2)"
   ]
  },
  {
   "cell_type": "code",
   "execution_count": 32,
   "id": "03f278ae",
   "metadata": {},
   "outputs": [],
   "source": [
    "# Array for tol\n",
    "tols = np.array([])\n",
    "\n",
    "for m in range(4,11):\n",
    "    tols = np.append(tols,10**(-m))"
   ]
  },
  {
   "cell_type": "code",
   "execution_count": 33,
   "id": "957e49e1",
   "metadata": {},
   "outputs": [],
   "source": [
    "# Set the times\n",
    "tspan = [0, 32]\n",
    "dt = 0.5\n",
    "t = np.arange(0,32+dt,dt)\n",
    "\n",
    "# Initial condition\n",
    "yt0 = [2, np.pi**2]\n",
    "\n",
    "# Define the e\n",
    "er = 1"
   ]
  },
  {
   "cell_type": "code",
   "execution_count": 34,
   "id": "0de85378",
   "metadata": {},
   "outputs": [],
   "source": [
    "# def f(t, y, er):\n",
    "#     w1 = y[0]\n",
    "#     w2 = y[1]\n",
    "\n",
    "#     dw1dt = w2\n",
    "#     dw2dt = -w1-(tol * w2* ((w1)**2-1))\n",
    "\n",
    "#     return np.array([dw1dt, dw2dt])"
   ]
  },
  {
   "cell_type": "code",
   "execution_count": 35,
   "id": "b7d445a6",
   "metadata": {},
   "outputs": [],
   "source": [
    "# Define the ODE RK45\n",
    "\n",
    "dt_avg = np.array([])\n",
    "\n",
    "for tol in tols: \n",
    "\n",
    "    def f(t, y, er):\n",
    "        w1 = y[0]\n",
    "        w2 = y[1]\n",
    "\n",
    "        dw1dt = w2\n",
    "        dw2dt = -w1-(er * w2* ((w1)**2-1))\n",
    "\n",
    "        return np.array([dw1dt, dw2dt])\n",
    "\n",
    "    sol = solve_ivp(f, tspan, y0 = yt0, args=[er], method='RK45', atol=tol, rtol=tol)\n",
    "#     print(sol.y.shape)\n",
    "\n",
    "    T = sol.t\n",
    "    Y = sol.y\n",
    "\n",
    "    dt_avg = np.append(dt_avg,np.mean(np.diff(T)))"
   ]
  },
  {
   "cell_type": "code",
   "execution_count": 36,
   "id": "0092240f",
   "metadata": {},
   "outputs": [],
   "source": [
    "A11 = np.polyfit(np.log(dt_avg), np.log(tols), 1)\n",
    "A11 = A11[0]"
   ]
  },
  {
   "cell_type": "code",
   "execution_count": 37,
   "id": "fda78b1b",
   "metadata": {},
   "outputs": [],
   "source": [
    "# Define the ODE RK23\n",
    "\n",
    "dt_avg1 = np.array([])\n",
    "\n",
    "for tol in tols: \n",
    "\n",
    "    def f(t, y, er):\n",
    "        w1 = y[0]\n",
    "        w2 = y[1]\n",
    "\n",
    "        dw1dt = w2\n",
    "        dw2dt = -w1-(er * w2* ((w1)**2-1))\n",
    "\n",
    "        return np.array([dw1dt, dw2dt])\n",
    "\n",
    "    sol = solve_ivp(f, tspan, y0 = yt0, args=[er], method='RK23', atol=tol, rtol=tol)\n",
    "#     print(sol.y.shape)\n",
    "\n",
    "    T = sol.t\n",
    "    Y = sol.y\n",
    "\n",
    "    dt_avg1 = np.append(dt_avg1,np.mean(np.diff(T)))"
   ]
  },
  {
   "cell_type": "code",
   "execution_count": 38,
   "id": "53b012ff",
   "metadata": {},
   "outputs": [],
   "source": [
    "A12 = np.polyfit(np.log(dt_avg1), np.log(tols), 1)\n",
    "A12 = A12[0]"
   ]
  },
  {
   "cell_type": "code",
   "execution_count": 39,
   "id": "a106075e",
   "metadata": {},
   "outputs": [],
   "source": [
    "# Define the ODE BDF\n",
    "\n",
    "dt_avg2 = np.array([])\n",
    "\n",
    "for tol in tols: \n",
    "\n",
    "    def f(t, y, er):\n",
    "        w1 = y[0]\n",
    "        w2 = y[1]\n",
    "\n",
    "        dw1dt = w2\n",
    "        dw2dt = -w1-(er * w2* ((w1)**2-1))\n",
    "\n",
    "        return np.array([dw1dt, dw2dt])\n",
    "\n",
    "    sol = solve_ivp(f, tspan, y0 = yt0, args=[er], method='BDF', atol=tol, rtol=tol)\n",
    "#     print(sol.y.shape)\n",
    "\n",
    "    T = sol.t\n",
    "    Y = sol.y\n",
    "\n",
    "    dt_avg2 = np.append(dt_avg2,np.mean(np.diff(T)))\n",
    "\n",
    "# dt_avg2"
   ]
  },
  {
   "cell_type": "code",
   "execution_count": 40,
   "id": "d8df9505",
   "metadata": {},
   "outputs": [],
   "source": [
    "A13 = np.polyfit(np.log(dt_avg2), np.log(tols), 1)\n",
    "A13 = A13[0]"
   ]
  },
  {
   "cell_type": "markdown",
   "id": "923bb3f0",
   "metadata": {},
   "source": [
    "### Problem 3 - Fitzhugh (FH) model"
   ]
  },
  {
   "cell_type": "markdown",
   "id": "6edb8f8d",
   "metadata": {},
   "source": [
    "### A14"
   ]
  },
  {
   "cell_type": "code",
   "execution_count": 41,
   "id": "b0cccc25",
   "metadata": {},
   "outputs": [],
   "source": [
    "import numpy as np\n",
    "import matplotlib.pyplot as plt\n",
    "from scipy.integrate import solve_ivp"
   ]
  },
  {
   "cell_type": "code",
   "execution_count": 42,
   "id": "a4b0901a",
   "metadata": {},
   "outputs": [],
   "source": [
    "tspan = [0, 100]\n",
    "dt = 0.5\n",
    "t = np.arange(tspan[0],tspan[1]+dt,dt)\n",
    "\n",
    "v1 = 0.1\n",
    "v2 = 0.1\n",
    "w1 = 0\n",
    "w2 = 0\n",
    "\n",
    "yt0 = [v1, v2, w1, w2]\n",
    "\n",
    "d12 = 0; d21 = 0\n",
    "\n",
    "a1 = 0.05; a2 = 0.25; b = 0.1; c = 0.1; I = 0.1"
   ]
  },
  {
   "cell_type": "code",
   "execution_count": 43,
   "id": "e65c4dc9",
   "metadata": {},
   "outputs": [],
   "source": [
    "def sys_rhs0(t, y, d1, d2, a1, a2, b, c, I):\n",
    "    \n",
    "    v1, v2, w1, w2 = y\n",
    "        \n",
    "    dv1dt = -v1**3+((1+a1)*v1**2)-(a1*v1)-w1+I+(d1*v2)\n",
    "    dw1dt = (b*v1) - (c*w1)\n",
    "    dv2dt = -v2**3+((1+a2)*v2**2)-(a2*v2)-w2+I+(d2*v1)\n",
    "    dw2dt = (b*v2) - (c*w2)\n",
    "    \n",
    "    return [dv1dt, dv2dt, dw1dt, dw2dt]"
   ]
  },
  {
   "cell_type": "code",
   "execution_count": 44,
   "id": "fed5fb40",
   "metadata": {},
   "outputs": [],
   "source": [
    "sol_0 = solve_ivp(sys_rhs0, tspan, y0 = yt0, args=(d12, d21, a1, a2, b, c, I), method='BDF', t_eval = t)"
   ]
  },
  {
   "cell_type": "code",
   "execution_count": 45,
   "id": "7582ffff",
   "metadata": {},
   "outputs": [],
   "source": [
    "A14 = sol_0.y.T"
   ]
  },
  {
   "cell_type": "markdown",
   "id": "7ba18a66",
   "metadata": {},
   "source": [
    "### A15"
   ]
  },
  {
   "cell_type": "code",
   "execution_count": 46,
   "id": "159bf2a6",
   "metadata": {},
   "outputs": [],
   "source": [
    "tspan = [0, 100]\n",
    "dt = 0.5\n",
    "t = np.arange(tspan[0],tspan[1]+dt,dt)\n",
    "\n",
    "v1 = 0.1\n",
    "v2 = 0.1\n",
    "w1 = 0\n",
    "w2 = 0\n",
    "\n",
    "yt0 = [v1, v2, w1, w2]\n",
    "\n",
    "d12_0 = 0; d21_0 = 0.2\n",
    "\n",
    "a1 = 0.05; a2 = 0.25; b = 0.1; c = 0.1; I = 0.1"
   ]
  },
  {
   "cell_type": "code",
   "execution_count": 47,
   "id": "85c5b124",
   "metadata": {},
   "outputs": [],
   "source": [
    "def sys_rhs1(t, y, d1, d2, a1, a2, b, c, I):\n",
    "    \n",
    "    v1, v2, w1, w2 = y\n",
    "        \n",
    "    dv1dt0 = -v1**3+((1+a1)*v1**2)-(a1*v1)-w1+I+(d1*v2)\n",
    "    dw1dt0 = (b*v1) - (c*w1)\n",
    "    dv2dt0 = -v2**3+((1+a2)*v2**2)-(a2*v2)-w2+I+(d2*v1)\n",
    "    dw2dt0 = (b*v2) - (c*w2)\n",
    "    \n",
    "    return [dv1dt0, dv2dt0, dw1dt0, dw2dt0]"
   ]
  },
  {
   "cell_type": "code",
   "execution_count": 48,
   "id": "9fa42fb8",
   "metadata": {},
   "outputs": [],
   "source": [
    "sol_1 = solve_ivp(sys_rhs1, tspan, y0 = yt0, args=(d12_0, d21_0, a1, a2, b, c, I), method='BDF', t_eval = t)"
   ]
  },
  {
   "cell_type": "code",
   "execution_count": 49,
   "id": "4b83d487",
   "metadata": {},
   "outputs": [],
   "source": [
    "A15 = sol_1.y.T"
   ]
  },
  {
   "cell_type": "markdown",
   "id": "c00106db",
   "metadata": {},
   "source": [
    "### A16"
   ]
  },
  {
   "cell_type": "code",
   "execution_count": 50,
   "id": "17e65b17",
   "metadata": {},
   "outputs": [],
   "source": [
    "tspan = [0, 100]\n",
    "dt = 0.5\n",
    "t = np.arange(tspan[0],tspan[1]+dt,dt)\n",
    "\n",
    "v1 = 0.1\n",
    "v2 = 0.1\n",
    "w1 = 0\n",
    "w2 = 0\n",
    "\n",
    "yt0 = [v1, v2, w1, w2]\n",
    "\n",
    "d12_1 = -0.1; d21_1 = 0.2\n",
    "\n",
    "a1 = 0.05; a2 = 0.25; b = 0.1; c = 0.1; I = 0.1"
   ]
  },
  {
   "cell_type": "code",
   "execution_count": 51,
   "id": "8314738d",
   "metadata": {},
   "outputs": [],
   "source": [
    "def sys_rhs2(t, y, d1, d2, a1, a2, b, c, I):\n",
    "    \n",
    "    v1, v2, w1, w2 = y\n",
    "        \n",
    "    dv1dt1 = -v1**3+((1+a1)*v1**2)-(a1*v1)-w1+I+(d1*v2)\n",
    "    dw1dt1 = (b*v1) - (c*w1)\n",
    "    dv2dt1 = -v2**3+((1+a2)*v2**2)-(a2*v2)-w2+I+(d2*v1)\n",
    "    dw2dt1 = (b*v2) - (c*w2)\n",
    "    \n",
    "    return [dv1dt1, dv2dt1, dw1dt1, dw2dt1]"
   ]
  },
  {
   "cell_type": "code",
   "execution_count": 52,
   "id": "f4d160bb",
   "metadata": {},
   "outputs": [],
   "source": [
    "sol_2 = solve_ivp(sys_rhs2, tspan, y0 = yt0, args=(d12_1, d21_1, a1, a2, b, c, I), method='BDF', t_eval = t)"
   ]
  },
  {
   "cell_type": "code",
   "execution_count": 53,
   "id": "c517d500",
   "metadata": {},
   "outputs": [],
   "source": [
    "A16 = sol_2.y.T"
   ]
  },
  {
   "cell_type": "markdown",
   "id": "43f02c6a",
   "metadata": {},
   "source": [
    "### A17"
   ]
  },
  {
   "cell_type": "code",
   "execution_count": 54,
   "id": "f2fcf6ec",
   "metadata": {},
   "outputs": [],
   "source": [
    "tspan = [0, 100]\n",
    "dt = 0.5\n",
    "t = np.arange(tspan[0],tspan[1]+dt,dt)\n",
    "\n",
    "v1 = 0.1\n",
    "v2 = 0.1\n",
    "w1 = 0\n",
    "w2 = 0\n",
    "\n",
    "yt0 = [v1, v2, w1, w2]\n",
    "\n",
    "d12_2 = -0.3; d21_2 = 0.2\n",
    "\n",
    "a1 = 0.05; a2 = 0.25; b = 0.1; c = 0.1; I = 0.1"
   ]
  },
  {
   "cell_type": "code",
   "execution_count": 55,
   "id": "fcb0d9b6",
   "metadata": {},
   "outputs": [],
   "source": [
    "def sys_rhs3(t, y, d1, d2, a1, a2, b, c, I):\n",
    "    \n",
    "    v1, v2, w1, w2 = y\n",
    "        \n",
    "    dv1dt2 = -v1**3+((1+a1)*v1**2)-(a1*v1)-w1+I+(d1*v2)\n",
    "    dw1dt2 = (b*v1) - (c*w1)\n",
    "    dv2dt2 = -v2**3+((1+a2)*v2**2)-(a2*v2)-w2+I+(d2*v1)\n",
    "    dw2dt2 = (b*v2) - (c*w2)\n",
    "    \n",
    "    return [dv1dt2, dv2dt2, dw1dt2, dw2dt2]"
   ]
  },
  {
   "cell_type": "code",
   "execution_count": 56,
   "id": "31ac2e7d",
   "metadata": {},
   "outputs": [],
   "source": [
    "sol_3 = solve_ivp(sys_rhs3, tspan, y0 = yt0, args=(d12_2, d21_2, a1, a2, b, c, I), method='BDF', t_eval = t)"
   ]
  },
  {
   "cell_type": "code",
   "execution_count": 57,
   "id": "0338fc73",
   "metadata": {},
   "outputs": [],
   "source": [
    "A17 = sol_3.y.T"
   ]
  },
  {
   "cell_type": "markdown",
   "id": "ea10514d",
   "metadata": {},
   "source": [
    "### A18"
   ]
  },
  {
   "cell_type": "code",
   "execution_count": 58,
   "id": "ecc71f6d",
   "metadata": {},
   "outputs": [],
   "source": [
    "tspan = [0, 100]\n",
    "dt = 0.5\n",
    "t = np.arange(tspan[0],tspan[1]+dt,dt)\n",
    "\n",
    "v1 = 0.1\n",
    "v2 = 0.1\n",
    "w1 = 0\n",
    "w2 = 0\n",
    "\n",
    "yt0 = [v1, v2, w1, w2]\n",
    "\n",
    "d12_3 = -0.5; d21_3 = 0.2\n",
    "\n",
    "a1 = 0.05; a2 = 0.25; b = 0.1; c = 0.1; I = 0.1"
   ]
  },
  {
   "cell_type": "code",
   "execution_count": 59,
   "id": "029ad2f1",
   "metadata": {},
   "outputs": [],
   "source": [
    "def sys_rhs4(t, y, d1, d2, a1, a2, b, c, I):\n",
    "    \n",
    "    v1, v2, w1, w2 = y\n",
    "        \n",
    "    dv1dt3 = -v1**3+((1+a1)*v1**2)-(a1*v1)-w1+I+(d1*v2)\n",
    "    dw1dt3 = (b*v1) - (c*w1)\n",
    "    dv2dt3 = -v2**3+((1+a2)*v2**2)-(a2*v2)-w2+I+(d2*v1)\n",
    "    dw2dt3 = (b*v2) - (c*w2)\n",
    "    \n",
    "    return [dv1dt3, dv2dt3, dw1dt3, dw2dt3]"
   ]
  },
  {
   "cell_type": "code",
   "execution_count": 60,
   "id": "3ab56048",
   "metadata": {},
   "outputs": [],
   "source": [
    "sol_4 = solve_ivp(sys_rhs4, tspan, y0 = yt0, args=(d12_3, d21_3, a1, a2, b, c, I), method='BDF', t_eval = t)"
   ]
  },
  {
   "cell_type": "code",
   "execution_count": 61,
   "id": "fe689e18",
   "metadata": {},
   "outputs": [],
   "source": [
    "A18 = sol_4.y.T"
   ]
  }
 ],
 "metadata": {
  "kernelspec": {
   "display_name": "Python 3 (ipykernel)",
   "language": "python",
   "name": "python3"
  },
  "language_info": {
   "codemirror_mode": {
    "name": "ipython",
    "version": 3
   },
   "file_extension": ".py",
   "mimetype": "text/x-python",
   "name": "python",
   "nbconvert_exporter": "python",
   "pygments_lexer": "ipython3",
   "version": "3.9.7"
  }
 },
 "nbformat": 4,
 "nbformat_minor": 5
}
