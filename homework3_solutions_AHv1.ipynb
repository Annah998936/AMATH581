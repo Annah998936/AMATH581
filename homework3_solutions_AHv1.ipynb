{
 "cells": [
  {
   "cell_type": "code",
   "execution_count": 1,
   "id": "7396293b-a470-4150-ab34-b5cd495a8b5e",
   "metadata": {},
   "outputs": [],
   "source": [
    "import numpy as np\n",
    "import numpy.matlib\n",
    "\n",
    "import matplotlib.pyplot as plt\n",
    "import matplotlib.pylab as plt\n",
    "from matplotlib.pyplot import figure\n",
    "\n",
    "import scipy.integrate\n",
    "from scipy.integrate import solve_ivp\n",
    "from scipy.sparse import csr_matrix, triu, spdiags\n",
    "from scipy.sparse.linalg import spsolve, splu\n",
    "import scipy.sparse\n",
    "\n",
    "import sys\n",
    "np.set_printoptions(threshold=sys.maxsize)\n",
    "\n",
    "import time\n",
    "import warnings\n",
    "warnings.filterwarnings('ignore')\n",
    "# %matplotlib notebook\n",
    "%matplotlib widget"
   ]
  },
  {
   "cell_type": "markdown",
   "id": "85d8cea5-d055-4ab2-8df5-01371eab195e",
   "metadata": {},
   "source": [
    "### Problem 1"
   ]
  },
  {
   "cell_type": "markdown",
   "id": "b98bc300-1296-4236-bcb9-9c22df7cfa93",
   "metadata": {},
   "source": [
    "### A1"
   ]
  },
  {
   "cell_type": "code",
   "execution_count": 2,
   "id": "54f79f18-ef76-4a41-9c49-7f412627b0d4",
   "metadata": {},
   "outputs": [],
   "source": [
    "# L = 10 \n",
    "# x_change = np.linspace(-L, L, 200)\n",
    "# deltax = x_change[-1] - x_change[-2]"
   ]
  },
  {
   "cell_type": "code",
   "execution_count": 3,
   "id": "63133bb6-6064-4b7d-aea0-0e1a8cfdc27c",
   "metadata": {},
   "outputs": [],
   "source": [
    "L = 10\n",
    "x = np.arange(-L, L, 0.1)\n",
    "deltax = x[-1] - x[-2]"
   ]
  },
  {
   "cell_type": "code",
   "execution_count": 4,
   "id": "058a1949-2ea3-4e06-b769-128cca79169c",
   "metadata": {},
   "outputs": [],
   "source": [
    "m = 200\n",
    "zero = np.zeros((m))\n",
    "one = np.ones((m))\n",
    "Bin = np.array([-one, zero, one])\n",
    "d = np.array([-1,0,1])\n",
    "A = spdiags(Bin, d, m, m, format = 'csc')"
   ]
  },
  {
   "cell_type": "code",
   "execution_count": 5,
   "id": "6e1e158f-0bd6-4b25-84d9-b01cbd524837",
   "metadata": {},
   "outputs": [],
   "source": [
    "A[0,-1] = 1\n",
    "A[-1,0] = -1"
   ]
  },
  {
   "cell_type": "code",
   "execution_count": 6,
   "id": "8aee02b6-204f-48d1-8c3a-e947d228b811",
   "metadata": {},
   "outputs": [],
   "source": [
    "A = A/(2*deltax)"
   ]
  },
  {
   "cell_type": "code",
   "execution_count": 7,
   "id": "aeb5d302-da1d-4428-a451-c2d480d74c72",
   "metadata": {},
   "outputs": [],
   "source": [
    "A1 = A.todense().copy()"
   ]
  },
  {
   "cell_type": "code",
   "execution_count": 8,
   "id": "7df67bbe-e345-4850-8484-5bef00b9549d",
   "metadata": {},
   "outputs": [],
   "source": [
    "# plt.spy(A)"
   ]
  },
  {
   "cell_type": "markdown",
   "id": "53ab1eaf-3725-43cf-a179-e01fc64fbb93",
   "metadata": {},
   "source": [
    "### A2"
   ]
  },
  {
   "cell_type": "code",
   "execution_count": 8,
   "id": "fc9770eb-f689-476a-a334-84c867953dac",
   "metadata": {},
   "outputs": [],
   "source": [
    "f = lambda x: np.exp(-(x-5)**2)\n",
    "xp = [-L, L]\n",
    "\n",
    "dt = 0.5\n",
    "term = 10 # t = 10 \n",
    "x = np.arange(-L,L,0.1)\n",
    "N = len(x)\n",
    "\n",
    "x_evals = np.arange(0,term+dt, dt)\n",
    "\n",
    "y0 = f(x)"
   ]
  },
  {
   "cell_type": "code",
   "execution_count": 9,
   "id": "6b39f6d5-725b-4ee7-b3be-282b4a620ef3",
   "metadata": {},
   "outputs": [],
   "source": [
    "# C = -0.5 \n",
    "A_2 = (-0.5*A)"
   ]
  },
  {
   "cell_type": "code",
   "execution_count": 10,
   "id": "73e88137-5ac3-474f-951a-29c623b0ecdc",
   "metadata": {},
   "outputs": [],
   "source": [
    "def PDE(t,x,A):\n",
    "    u_t = A@x\n",
    "    return u_t "
   ]
  },
  {
   "cell_type": "code",
   "execution_count": 11,
   "id": "c877d1e4-3956-41a4-acd2-f9ba111cb504",
   "metadata": {},
   "outputs": [],
   "source": [
    "tic = time.time()\n",
    "sol = solve_ivp(lambda t,x: PDE(t,x,A_2), xp, y0, t_eval = x_evals)\n",
    "toc = time.time()\n",
    "# print(toc-tic)"
   ]
  },
  {
   "cell_type": "code",
   "execution_count": 12,
   "id": "3ae081be-7ba0-4e26-b909-82bd51367881",
   "metadata": {},
   "outputs": [],
   "source": [
    "A2 = sol.y"
   ]
  },
  {
   "cell_type": "code",
   "execution_count": 13,
   "id": "783d0ab2-6521-4de0-99c6-29c9688a8d4c",
   "metadata": {},
   "outputs": [],
   "source": [
    "# A2.shape"
   ]
  },
  {
   "cell_type": "markdown",
   "id": "ff012198-4bd6-4c78-bbbc-7cd8d7ab7ee8",
   "metadata": {
    "tags": []
   },
   "source": [
    "### A3"
   ]
  },
  {
   "cell_type": "code",
   "execution_count": 14,
   "id": "40fe6af9-9eea-4159-b1d9-aee17fa435c7",
   "metadata": {},
   "outputs": [],
   "source": [
    "f = lambda x: np.exp(-(x-5)**2)\n",
    "L = 10 \n",
    "xp = [-L, L]\n",
    "# x = np.arange(-L,L,0.1)\n",
    "# N = len(x)\n",
    "\n",
    "dt = 0.5\n",
    "term = 10 # t = 10 \n",
    "\n",
    "x_evals = np.arange(0,term+dt, dt)\n",
    "\n",
    "y0 = f(x)"
   ]
  },
  {
   "cell_type": "code",
   "execution_count": 15,
   "id": "34b82228-8fc8-4fdf-83c5-45bbde2eab4c",
   "metadata": {},
   "outputs": [],
   "source": [
    "# C = function\n",
    "def funcPDE(t,u,A):\n",
    "    c = -(1+2*np.sin(5*t)- np.heaviside((x-4),0))\n",
    "    A_3 = -(c*A)\n",
    "    u_t = A_3@u\n",
    "    return u_t"
   ]
  },
  {
   "cell_type": "code",
   "execution_count": 16,
   "id": "9bcc1260-c41d-4586-8bf8-d87a7f2a45c8",
   "metadata": {},
   "outputs": [],
   "source": [
    "tic = time.time()\n",
    "sol1 = solve_ivp(lambda t,u: funcPDE(t,u,A),xp, y0, t_eval = x_evals)\n",
    "toc = time.time()\n",
    "# print(toc-tic)"
   ]
  },
  {
   "cell_type": "code",
   "execution_count": 17,
   "id": "8b7d275c-5ff1-4cbe-8658-2d5d9a3865ee",
   "metadata": {},
   "outputs": [],
   "source": [
    "A3 = sol1.y"
   ]
  },
  {
   "cell_type": "code",
   "execution_count": 18,
   "id": "011fca97-4750-4976-b076-1b9281d009fd",
   "metadata": {},
   "outputs": [
    {
     "data": {
      "text/plain": [
       "(21,)"
      ]
     },
     "execution_count": 18,
     "metadata": {},
     "output_type": "execute_result"
    }
   ],
   "source": [
    "x_evals.shape"
   ]
  },
  {
   "cell_type": "markdown",
   "id": "b56b8e76-e86b-48b8-91ed-3189965544dc",
   "metadata": {
    "tags": []
   },
   "source": [
    "### Problem 2"
   ]
  },
  {
   "cell_type": "markdown",
   "id": "d817efc5-e746-4121-a87b-6a7b7396552e",
   "metadata": {
    "tags": []
   },
   "source": [
    "### A4"
   ]
  },
  {
   "cell_type": "code",
   "execution_count": 26,
   "id": "e35c1428-777c-4e27-8dfc-37e9b373b35c",
   "metadata": {},
   "outputs": [],
   "source": [
    "# delta x or delta y \n",
    "n = 64\n",
    "l = np.linspace(-L, L, n+1)\n",
    "dl = l[1]-l[0]"
   ]
  },
  {
   "cell_type": "code",
   "execution_count": 8,
   "id": "688ed039-3cfa-4b11-adbc-0e218111883a",
   "metadata": {},
   "outputs": [
    {
     "data": {
      "application/vnd.jupyter.widget-view+json": {
       "model_id": "d47fd6a2bee84ef986db525b08e11c06",
       "version_major": 2,
       "version_minor": 0
      },
      "image/png": "[encoded data removed]",
      "text/html": [
       "\n",
       "            <div style=\"display: inline-block;\">\n",
       "                <div class=\"jupyter-widgets widget-label\" style=\"text-align: center;\">\n",
       "                    Figure 1\n",
       "                </div>\n",
       "                <img src='data:image/png;base64,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' width=640.0/>\n",
       "            </div>\n",
       "        "
      ],
      "text/plain": [
       "Canvas(toolbar=Toolbar(toolitems=[('Home', 'Reset original view', 'home', 'home'), ('Back', 'Back to previous …"
      ]
     },
     "metadata": {},
     "output_type": "display_data"
    }
   ],
   "source": [
    "import numpy as np\n",
    "import scipy.sparse\n",
    "import matplotlib.pyplot as plt\n",
    "\n",
    "def A(m):\n",
    "\n",
    "    # m = 64 # N value in x and y directions\n",
    "    n = m*m # total size of matrix\n",
    "\n",
    "    e1 = np.ones(n) # vector of ones\n",
    "    Low1 = np.tile(np.concatenate((np.ones(m-1), [0])), (m,)) # Lower diagonal 1\n",
    "    Low2 = np.tile(np.concatenate(([1], np.zeros(m-1))), (m,)) #Lower diagonal 2\n",
    "                                        # Low2 is NOT on the second lower diagonal,\n",
    "                                        # it is just the next lower diagonal we see\n",
    "                                        # in the matrix.\n",
    "\n",
    "    Up1 = np.roll(Low1, 1) # Shift the array for spdiags\n",
    "    Up2 = np.roll(Low2, m-1) # Shift the other array\n",
    "\n",
    "    A = scipy.sparse.spdiags([e1, e1, Low2, Low1, -4*e1, Up1, Up2, e1, e1],\n",
    "                             [-(n-m), -m, -m+1, -1, 0, 1, m-1, m, (n-m)], n, n)\n",
    "    \n",
    "    return A\n",
    "\n",
    "plt.spy(A(5)) # view the matrix structure\n",
    "plt.show()"
   ]
  },
  {
   "cell_type": "code",
   "execution_count": 32,
   "id": "bd208a36-06e7-4852-bf6d-2450d363d338",
   "metadata": {},
   "outputs": [],
   "source": [
    "A[0,0] = 2\n",
    "A = A/(dl**2)"
   ]
  },
  {
   "cell_type": "code",
   "execution_count": null,
   "id": "849a8661-8aee-424b-8448-06b5f2632626",
   "metadata": {},
   "outputs": [],
   "source": [
    "A4 = np.copy(A.toarray())"
   ]
  },
  {
   "cell_type": "code",
   "execution_count": 22,
   "id": "7a2d4914-4fd2-404b-b9d1-666244c6e501",
   "metadata": {},
   "outputs": [],
   "source": [
    "# #alternatively\n",
    "# m = 64\n",
    "# n = m*m\n",
    "# e1 = np.ones((n)).T # vector of ones\n",
    "# Low1 = np.matlib.repmat(np.concatenate((np.ones((m-1)), np.array([0]))), 1,m).reshape(n)\n",
    "# Low2 = np.matlib.repmat(np.concatenate((np.array([1]),np.zeros((m-1)))), 1,m).reshape(n)\n",
    "# Up1 = np.roll(Low1, 1) # Shift the array\n",
    "# Up2 = np.roll(Low2, m-1) # Shift the other array\n",
    "# Bin = np.array([e1, e1, Low2, Low1, -4*e1, Up1, Up2, e1, e1])\n",
    "# d = np.array([-(n-m), -m, -m+1, -1, 0, 1, m-1, m, (n-m)])\n",
    "# A = spdiags(Bin,d, n, n, format = 'csc')\n",
    "# A[0,0] = 2\n",
    "# # A = A/(d1**2)"
   ]
  },
  {
   "cell_type": "code",
   "execution_count": 23,
   "id": "a34b2817-3c7b-44d3-91a3-17bc58c3d2f6",
   "metadata": {},
   "outputs": [
    {
     "data": {
      "text/plain": [
       "<matplotlib.lines.Line2D at 0x7ff088027520>"
      ]
     },
     "execution_count": 23,
     "metadata": {},
     "output_type": "execute_result"
    }
   ],
   "source": [
    "# plt.spy(A, markersize='8', marker='o')"
   ]
  },
  {
   "cell_type": "code",
   "execution_count": 25,
   "id": "25fadac8-1b32-4297-ac26-b64a546cde48",
   "metadata": {},
   "outputs": [],
   "source": [
    "# plt.show()"
   ]
  },
  {
   "cell_type": "code",
   "execution_count": 53,
   "id": "d69d8358-42c1-476b-b3ab-86458b190c76",
   "metadata": {},
   "outputs": [],
   "source": [
    "# print(A.toarray()[0:18,-5:-1])"
   ]
  },
  {
   "cell_type": "code",
   "execution_count": 26,
   "id": "bd2308cd-b1ac-4bcd-bdc1-07fbdd2c9acd",
   "metadata": {},
   "outputs": [],
   "source": [
    "# A4 = A.todense().copy()"
   ]
  },
  {
   "cell_type": "markdown",
   "id": "020f0f86-1436-4c07-977a-83335e153c2f",
   "metadata": {},
   "source": [
    "### A5"
   ]
  },
  {
   "cell_type": "code",
   "execution_count": 9,
   "id": "b97c1aee-466b-46db-9f28-4091cd4631f3",
   "metadata": {},
   "outputs": [],
   "source": [
    "def B(m):\n",
    "    # m = 5\n",
    "    n = m*m\n",
    "    e1 = np.ones((n)).T # vector of ones\n",
    "\n",
    "    d = np.array([-((m**2)-m), - m, m, (m**2)-m])\n",
    "    Bin = np.array([e1, -e1, e1, -e1])\n",
    "\n",
    "\n",
    "    B = spdiags(Bin,d, n, n, format = 'csc')\n",
    "    # B = B/(2 * dl)\n",
    "    return B"
   ]
  },
  {
   "cell_type": "code",
   "execution_count": 10,
   "id": "6d31bef0-8657-497f-aa90-ff017983bd03",
   "metadata": {},
   "outputs": [
    {
     "data": {
      "application/vnd.jupyter.widget-view+json": {
       "model_id": "d47fd6a2bee84ef986db525b08e11c06",
       "version_major": 2,
       "version_minor": 0
      },
      "image/png": "[encoded data removed]",
      "text/html": [
       "\n",
       "            <div style=\"display: inline-block;\">\n",
       "                <div class=\"jupyter-widgets widget-label\" style=\"text-align: center;\">\n",
       "                    Figure 1\n",
       "                </div>\n",
       "                <img src='data:image/png;base64,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' width=640.0/>\n",
       "            </div>\n",
       "        "
      ],
      "text/plain": [
       "Canvas(toolbar=Toolbar(toolitems=[('Home', 'Reset original view', 'home', 'home'), ('Back', 'Back to previous …"
      ]
     },
     "metadata": {},
     "output_type": "display_data"
    }
   ],
   "source": [
    "plt.spy(B(5))\n",
    "plt.show()"
   ]
  },
  {
   "cell_type": "code",
   "execution_count": 12,
   "id": "d0eb8173-371a-4f0b-9dab-6e4973d751c4",
   "metadata": {},
   "outputs": [],
   "source": [
    "# A5 = np.copy(B.toarray())"
   ]
  },
  {
   "cell_type": "code",
   "execution_count": 13,
   "id": "db25c54b-c1d9-45b6-86db-c03b9e717817",
   "metadata": {},
   "outputs": [],
   "source": [
    "# A5 = B.todense().copy()"
   ]
  },
  {
   "cell_type": "code",
   "execution_count": 3,
   "id": "2eb51876-3ac2-4a4c-91b4-9ec6295616bb",
   "metadata": {},
   "outputs": [
    {
     "data": {
      "text/plain": [
       "<matplotlib.lines.Line2D at 0x7fb1705b6820>"
      ]
     },
     "execution_count": 3,
     "metadata": {},
     "output_type": "execute_result"
    },
    {
     "data": {
      "application/vnd.jupyter.widget-view+json": {
       "model_id": "d47fd6a2bee84ef986db525b08e11c06",
       "version_major": 2,
       "version_minor": 0
      },
      "image/png": "[encoded data removed]",
      "text/html": [
       "\n",
       "            <div style=\"display: inline-block;\">\n",
       "                <div class=\"jupyter-widgets widget-label\" style=\"text-align: center;\">\n",
       "                    Figure\n",
       "                </div>\n",
       "                <img src='data:image/png;base64,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' width=640.0/>\n",
       "            </div>\n",
       "        "
      ],
      "text/plain": [
       "Canvas(toolbar=Toolbar(toolitems=[('Home', 'Reset original view', 'home', 'home'), ('Back', 'Back to previous …"
      ]
     },
     "metadata": {},
     "output_type": "display_data"
    }
   ],
   "source": [
    "plt.spy(B)"
   ]
  },
  {
   "cell_type": "code",
   "execution_count": 4,
   "id": "3c1ed47a-c2d0-403e-a6fb-a594a3a11cb7",
   "metadata": {},
   "outputs": [
    {
     "data": {
      "application/vnd.jupyter.widget-view+json": {
       "model_id": "d47fd6a2bee84ef986db525b08e11c06",
       "version_major": 2,
       "version_minor": 0
      },
      "image/png": "[encoded data removed]",
      "text/html": [
       "\n",
       "            <div style=\"display: inline-block;\">\n",
       "                <div class=\"jupyter-widgets widget-label\" style=\"text-align: center;\">\n",
       "                    Figure 1\n",
       "                </div>\n",
       "                <img src='data:image/png;base64,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' width=640.0/>\n",
       "            </div>\n",
       "        "
      ],
      "text/plain": [
       "Canvas(toolbar=Toolbar(toolitems=[('Home', 'Reset original view', 'home', 'home'), ('Back', 'Back to previous …"
      ]
     },
     "metadata": {},
     "output_type": "display_data"
    }
   ],
   "source": [
    "plt.show()"
   ]
  },
  {
   "cell_type": "code",
   "execution_count": 16,
   "id": "f26298b1-16d8-4d72-a9cc-7df746aaa998",
   "metadata": {},
   "outputs": [],
   "source": [
    "# print(B.toarray()[0:21,0:21])"
   ]
  },
  {
   "cell_type": "markdown",
   "id": "dc9a102a-1db2-49ce-8243-41c8fd967fd7",
   "metadata": {},
   "source": [
    "### A6"
   ]
  },
  {
   "cell_type": "code",
   "execution_count": 2,
   "id": "ec217105-14ff-453a-a8b4-bece97175be7",
   "metadata": {},
   "outputs": [
    {
     "ename": "NameError",
     "evalue": "name 'spdiags' is not defined",
     "output_type": "error",
     "traceback": [
      "\u001b[0;31m---------------------------------------------------------------------------\u001b[0m",
      "\u001b[0;31mNameError\u001b[0m                                 Traceback (most recent call last)",
      "\u001b[0;32m/var/folders/f0/bl2j7q556r10y_kd0rb6qwyh0000gn/T/ipykernel_19123/2475107234.py\u001b[0m in \u001b[0;36m<module>\u001b[0;34m\u001b[0m\n\u001b[1;32m      6\u001b[0m \u001b[0mBin_C\u001b[0m \u001b[0;34m=\u001b[0m \u001b[0mnp\u001b[0m\u001b[0;34m.\u001b[0m\u001b[0marray\u001b[0m\u001b[0;34m(\u001b[0m\u001b[0;34m[\u001b[0m\u001b[0me1\u001b[0m\u001b[0;34m,\u001b[0m \u001b[0;34m-\u001b[0m\u001b[0;36m2\u001b[0m\u001b[0;34m*\u001b[0m\u001b[0me1\u001b[0m\u001b[0;34m,\u001b[0m \u001b[0me1\u001b[0m\u001b[0;34m]\u001b[0m\u001b[0;34m)\u001b[0m\u001b[0;34m\u001b[0m\u001b[0;34m\u001b[0m\u001b[0m\n\u001b[1;32m      7\u001b[0m \u001b[0;34m\u001b[0m\u001b[0m\n\u001b[0;32m----> 8\u001b[0;31m \u001b[0mC\u001b[0m \u001b[0;34m=\u001b[0m \u001b[0mspdiags\u001b[0m\u001b[0;34m(\u001b[0m\u001b[0mBin_C\u001b[0m\u001b[0;34m,\u001b[0m\u001b[0md_C\u001b[0m\u001b[0;34m,\u001b[0m \u001b[0mn\u001b[0m\u001b[0;34m,\u001b[0m \u001b[0mn\u001b[0m\u001b[0;34m,\u001b[0m \u001b[0mformat\u001b[0m \u001b[0;34m=\u001b[0m \u001b[0;34m'csc'\u001b[0m\u001b[0;34m)\u001b[0m\u001b[0;34m\u001b[0m\u001b[0;34m\u001b[0m\u001b[0m\n\u001b[0m\u001b[1;32m      9\u001b[0m \u001b[0;34m\u001b[0m\u001b[0m\n\u001b[1;32m     10\u001b[0m \u001b[0;31m# periodic\u001b[0m\u001b[0;34m\u001b[0m\u001b[0;34m\u001b[0m\u001b[0m\n",
      "\u001b[0;31mNameError\u001b[0m: name 'spdiags' is not defined"
     ]
    }
   ],
   "source": [
    "m = 64\n",
    "n = m*m\n",
    "e1 = np.ones((n)).T # vector of ones\n",
    "\n",
    "d_C = np.array([-1, 0, 1])\n",
    "Bin_C = np.array([e1, -2*e1, e1])\n",
    "\n",
    "C = spdiags(Bin_C,d_C, n, n, format = 'csc')\n",
    "\n",
    "# periodic\n",
    "C[0,4095] = 1\n",
    "C[4095,0] = 1\n",
    "\n",
    "C = C/(dl**2)"
   ]
  },
  {
   "cell_type": "code",
   "execution_count": 33,
   "id": "3e6fe7d9-d541-4053-b9f4-7fb4fccadac7",
   "metadata": {},
   "outputs": [
    {
     "data": {
      "text/plain": [
       "<matplotlib.lines.Line2D at 0x7fae10a2e0d0>"
      ]
     },
     "execution_count": 33,
     "metadata": {},
     "output_type": "execute_result"
    }
   ],
   "source": [
    "plt.spy(C)"
   ]
  },
  {
   "cell_type": "code",
   "execution_count": 34,
   "id": "5ccb89c8-3fe2-425c-9464-dae1dbe30af8",
   "metadata": {},
   "outputs": [],
   "source": [
    "A6 = np.copy(C.toarray())"
   ]
  },
  {
   "cell_type": "code",
   "execution_count": 35,
   "id": "1ded6b6a-dd4f-4ac4-89dd-ac19c9f390a1",
   "metadata": {},
   "outputs": [],
   "source": [
    "# A6 = C.todense().copy()"
   ]
  },
  {
   "cell_type": "markdown",
   "id": "4e5eeb95-b138-4f67-8260-fb204773800c",
   "metadata": {
    "tags": []
   },
   "source": [
    "### A7"
   ]
  },
  {
   "cell_type": "code",
   "execution_count": 36,
   "id": "c9a411c9",
   "metadata": {},
   "outputs": [],
   "source": [
    "v = 0.001\n",
    "L = 10\n",
    "xp = [0, 4]\n",
    "\n",
    "# time\n",
    "t_evals = np.linspace(0,4,9)\n",
    "dt = 0.5\n",
    "\n",
    "# delta x or delta y \n",
    "n = 64\n",
    "l = np.linspace(-L, L, n+1)\n",
    "dl = l[1]-l[0]"
   ]
  },
  {
   "cell_type": "code",
   "execution_count": 37,
   "id": "dae77eea-3db4-4092-84b1-f0009437b465",
   "metadata": {},
   "outputs": [],
   "source": [
    "# # initial conditions \n",
    "# for x and y (1 - 64)\n",
    "\n",
    "w0 = np.array([])\n",
    "\n",
    "for x in range(1, 65):\n",
    "    for y in range(1, 65):\n",
    "        k = np.exp(-2*(x**2) - ((y**2)/20))\n",
    "        w0 = np.append(w0,k)"
   ]
  },
  {
   "cell_type": "code",
   "execution_count": 38,
   "id": "d99cf54e-4499-4296-ae92-6b7bcc7a7736",
   "metadata": {},
   "outputs": [],
   "source": [
    "def func_ivp(t, w):\n",
    "    \n",
    "    v = 0.001\n",
    "    \n",
    "    # update psi \n",
    "    psi = scipy.sparse.linalg.spsolve(A, w * (dl**2))\n",
    "    \n",
    "    dw = (v*A@w) - ((B@psi)*(C@w)) + ((C@psi)*(B@w))\n",
    "    # dw = dw.reshape(4096,)\n",
    "    \n",
    "    return dw "
   ]
  },
  {
   "cell_type": "code",
   "execution_count": null,
   "id": "6d2732b8-0e53-43fc-a38c-39bb7205e422",
   "metadata": {},
   "outputs": [],
   "source": [
    "sol = scipy.integrate.solve_ivp(lambda t, w: func_ivp(t, w), xp, w0, t_eval = t_evals)"
   ]
  },
  {
   "cell_type": "code",
   "execution_count": null,
   "id": "41cde1ca-f7c3-4279-b057-b3c0bf1b147d",
   "metadata": {},
   "outputs": [],
   "source": []
  },
  {
   "cell_type": "code",
   "execution_count": null,
   "id": "8b39ab0e-c989-4e41-a933-cdfd03b441c4",
   "metadata": {},
   "outputs": [],
   "source": []
  },
  {
   "cell_type": "code",
   "execution_count": null,
   "id": "5e578c45-070a-4d2a-a80e-cc018421e435",
   "metadata": {},
   "outputs": [],
   "source": []
  },
  {
   "cell_type": "code",
   "execution_count": null,
   "id": "fcda69d9-a3aa-4b6a-bf9d-d9ce25edd1a3",
   "metadata": {},
   "outputs": [],
   "source": []
  },
  {
   "cell_type": "code",
   "execution_count": null,
   "id": "9629b616-922b-409b-a3e0-cdd87d6d446a",
   "metadata": {},
   "outputs": [],
   "source": []
  },
  {
   "cell_type": "code",
   "execution_count": null,
   "id": "9ffcc1dd-634d-4ff5-b14c-5d8d78661674",
   "metadata": {},
   "outputs": [],
   "source": []
  },
  {
   "cell_type": "code",
   "execution_count": null,
   "id": "db28bf87-50cb-426e-855a-be8d73d90500",
   "metadata": {},
   "outputs": [],
   "source": []
  },
  {
   "cell_type": "code",
   "execution_count": null,
   "id": "1ffc344b-cb50-4bed-b3e6-c2d2232cef35",
   "metadata": {},
   "outputs": [],
   "source": []
  },
  {
   "cell_type": "code",
   "execution_count": null,
   "id": "ec28db74-bcef-4396-b4bb-3143c1034744",
   "metadata": {},
   "outputs": [],
   "source": []
  },
  {
   "cell_type": "markdown",
   "id": "77d2a641-81de-44f7-aa59-03ec5092a69c",
   "metadata": {},
   "source": [
    "### misc code "
   ]
  },
  {
   "cell_type": "code",
   "execution_count": 34,
   "id": "dcdf9705",
   "metadata": {},
   "outputs": [],
   "source": [
    "def func_ivp(w, psi):\n",
    "    \n",
    "    # update w\n",
    "    for a in range(1,65):\n",
    "        print(a)\n",
    "        \n",
    "    w = np.zeros(len(t_evals))\n",
    "    \n",
    "    for i in range(\n",
    "    \n",
    "    # update psi\n",
    "    psi = scipy.sparse.linalg.spsolve(A, w*l**2)\n",
    "    \n",
    "    dw = (v*A*w) - ((B*psi)*(C*w)) + ((C*psi)*(B*w))\n",
    "    dw = dw.reshape(4096,)\n",
    "    \n",
    "    return dw "
   ]
  },
  {
   "cell_type": "code",
   "execution_count": 35,
   "id": "2ec6ddbd",
   "metadata": {},
   "outputs": [],
   "source": [
    "# sol = scipy.integrate.solve_ivp(lambda w, psi: func_ivp(w0_psi, psi_0), xp, w0, t_eval = t_evals)\n",
    "# # scipy.integrate.solve_ivp(func_ivp, xp, w0, t_eval = t_evals)"
   ]
  },
  {
   "cell_type": "code",
   "execution_count": null,
   "id": "20ea64cc-9f23-4a22-99d2-b8e4ab7b00dc",
   "metadata": {},
   "outputs": [],
   "source": []
  },
  {
   "cell_type": "code",
   "execution_count": null,
   "id": "ddf77a7d-bbb0-49cc-a6bb-3a04e063e389",
   "metadata": {},
   "outputs": [],
   "source": []
  },
  {
   "cell_type": "code",
   "execution_count": null,
   "id": "fee850b2-07cc-4aab-a736-c34f1eb56af6",
   "metadata": {},
   "outputs": [],
   "source": []
  },
  {
   "cell_type": "code",
   "execution_count": null,
   "id": "f4700747",
   "metadata": {},
   "outputs": [],
   "source": []
  },
  {
   "cell_type": "code",
   "execution_count": null,
   "id": "4dade1dd",
   "metadata": {},
   "outputs": [],
   "source": []
  },
  {
   "cell_type": "code",
   "execution_count": null,
   "id": "f018174c-3558-46d6-a08d-76899432c581",
   "metadata": {},
   "outputs": [],
   "source": []
  },
  {
   "cell_type": "markdown",
   "id": "4e38d177-ba6a-4986-8f00-116c8e455775",
   "metadata": {},
   "source": [
    "### A8"
   ]
  },
  {
   "cell_type": "code",
   "execution_count": 36,
   "id": "4101a545-627c-4ad3-965f-db2f225a4d11",
   "metadata": {},
   "outputs": [],
   "source": [
    "import scipy.linalg \n",
    "\n",
    "P,L,U = scipy.linalg.lu(A.todense())"
   ]
  },
  {
   "cell_type": "code",
   "execution_count": 37,
   "id": "0cf2f212-c0ef-46ce-9896-1ceaab68977f",
   "metadata": {
    "tags": []
   },
   "outputs": [],
   "source": [
    "y = np.linalg.solve(L,P.T@(w0_psi*dl**2))"
   ]
  },
  {
   "cell_type": "code",
   "execution_count": 38,
   "id": "db07ceb9-d3e7-4781-97b2-1f78d0bbb683",
   "metadata": {},
   "outputs": [],
   "source": [
    "psi_0_PLU = np.linalg.solve(U,y)"
   ]
  },
  {
   "cell_type": "code",
   "execution_count": null,
   "id": "9b508977-b332-4140-a4b9-ff46665a7b9d",
   "metadata": {},
   "outputs": [],
   "source": []
  },
  {
   "cell_type": "code",
   "execution_count": null,
   "id": "beb767dd-1bd0-4817-84ec-1f2365c988f0",
   "metadata": {},
   "outputs": [],
   "source": []
  },
  {
   "cell_type": "markdown",
   "id": "e509a473-d95b-46ea-a8e3-4345b09c403d",
   "metadata": {},
   "source": [
    "### A9"
   ]
  },
  {
   "cell_type": "code",
   "execution_count": null,
   "id": "bc97d985-b90c-4c4b-a3a2-457a7ee761b4",
   "metadata": {},
   "outputs": [],
   "source": []
  },
  {
   "cell_type": "code",
   "execution_count": null,
   "id": "765a2069-0f57-4fff-b2ab-3f282979e0ca",
   "metadata": {},
   "outputs": [],
   "source": []
  },
  {
   "cell_type": "code",
   "execution_count": null,
   "id": "b5cecfd6-04a7-4328-a4ac-7ba69e1fd50d",
   "metadata": {},
   "outputs": [],
   "source": []
  },
  {
   "cell_type": "code",
   "execution_count": null,
   "id": "46eaa27f-da49-4211-aa6b-e8a51a663281",
   "metadata": {},
   "outputs": [],
   "source": []
  },
  {
   "cell_type": "code",
   "execution_count": null,
   "id": "fb5171ea-af79-4902-85d1-507ccf9d5a79",
   "metadata": {},
   "outputs": [],
   "source": []
  }
 ],
 "metadata": {
  "kernelspec": {
   "display_name": "Python 3 (ipykernel)",
   "language": "python",
   "name": "python3"
  },
  "language_info": {
   "codemirror_mode": {
    "name": "ipython",
    "version": 3
   },
   "file_extension": ".py",
   "mimetype": "text/x-python",
   "name": "python",
   "nbconvert_exporter": "python",
   "pygments_lexer": "ipython3",
   "version": "3.9.7"
  }
 },
 "nbformat": 4,
 "nbformat_minor": 5
}
