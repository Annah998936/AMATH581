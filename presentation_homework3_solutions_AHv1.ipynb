{
 "cells": [
  {
   "cell_type": "code",
   "execution_count": 1,
   "id": "7396293b-a470-4150-ab34-b5cd495a8b5e",
   "metadata": {},
   "outputs": [],
   "source": [
    "import numpy as np\n",
    "import numpy.matlib\n",
    "\n",
    "import matplotlib.pyplot as plt\n",
    "import matplotlib.pylab as plt\n",
    "from matplotlib.pyplot import figure\n",
    "\n",
    "import scipy.integrate\n",
    "from scipy.integrate import solve_ivp\n",
    "from scipy.sparse import csr_matrix, triu, spdiags\n",
    "from scipy.sparse.linalg import spsolve, splu\n",
    "import scipy.sparse\n",
    "import time"
   ]
  },
  {
   "cell_type": "markdown",
   "id": "85d8cea5-d055-4ab2-8df5-01371eab195e",
   "metadata": {},
   "source": [
    "### Problem 1"
   ]
  },
  {
   "cell_type": "markdown",
   "id": "b98bc300-1296-4236-bcb9-9c22df7cfa93",
   "metadata": {},
   "source": [
    "### A1"
   ]
  },
  {
   "cell_type": "code",
   "execution_count": 2,
   "id": "63133bb6-6064-4b7d-aea0-0e1a8cfdc27c",
   "metadata": {},
   "outputs": [],
   "source": [
    "L = 10\n",
    "x = np.arange(-L, L, 0.1)\n",
    "deltax = x[-1] - x[-2]"
   ]
  },
  {
   "cell_type": "code",
   "execution_count": 3,
   "id": "058a1949-2ea3-4e06-b769-128cca79169c",
   "metadata": {},
   "outputs": [],
   "source": [
    "m = 200\n",
    "zero = np.zeros((m))\n",
    "one = np.ones((m))\n",
    "Bin = np.array([-one, zero, one])\n",
    "d = np.array([-1,0,1])\n",
    "A = spdiags(Bin, d, m, m, format = 'csc')"
   ]
  },
  {
   "cell_type": "code",
   "execution_count": 4,
   "id": "6e1e158f-0bd6-4b25-84d9-b01cbd524837",
   "metadata": {},
   "outputs": [
    {
     "name": "stderr",
     "output_type": "stream",
     "text": [
      "/Users/annahuang/opt/anaconda3/lib/python3.9/site-packages/scipy/sparse/_index.py:82: SparseEfficiencyWarning: Changing the sparsity structure of a csc_matrix is expensive. lil_matrix is more efficient.\n",
      "  self._set_intXint(row, col, x.flat[0])\n"
     ]
    }
   ],
   "source": [
    "A[0,-1] = -1\n",
    "A[-1,0] = 1"
   ]
  },
  {
   "cell_type": "code",
   "execution_count": 5,
   "id": "8aee02b6-204f-48d1-8c3a-e947d228b811",
   "metadata": {},
   "outputs": [],
   "source": [
    "A = A/(2*deltax)"
   ]
  },
  {
   "cell_type": "code",
   "execution_count": 6,
   "id": "aeb5d302-da1d-4428-a451-c2d480d74c72",
   "metadata": {},
   "outputs": [],
   "source": [
    "A1 = A.todense().copy()"
   ]
  },
  {
   "cell_type": "markdown",
   "id": "53ab1eaf-3725-43cf-a179-e01fc64fbb93",
   "metadata": {},
   "source": [
    "### A2"
   ]
  },
  {
   "cell_type": "code",
   "execution_count": 7,
   "id": "fc9770eb-f689-476a-a334-84c867953dac",
   "metadata": {},
   "outputs": [],
   "source": [
    "f = lambda x: np.exp(-(x-5)**2)\n",
    "xp = [-L, L]\n",
    "\n",
    "dt = 0.5\n",
    "term = 10 # t = 10 \n",
    "x = np.arange(-L,L,0.1)\n",
    "N = len(x)\n",
    "\n",
    "x_evals = np.arange(0,term+dt, dt)\n",
    "\n",
    "y0 = f(x)"
   ]
  },
  {
   "cell_type": "code",
   "execution_count": 8,
   "id": "de24d3dd-837c-40f0-8c42-30f4c3a7a17f",
   "metadata": {},
   "outputs": [
    {
     "data": {
      "text/plain": [
       "array([ 0. ,  0.5,  1. ,  1.5,  2. ,  2.5,  3. ,  3.5,  4. ,  4.5,  5. ,\n",
       "        5.5,  6. ,  6.5,  7. ,  7.5,  8. ,  8.5,  9. ,  9.5, 10. ])"
      ]
     },
     "execution_count": 8,
     "metadata": {},
     "output_type": "execute_result"
    }
   ],
   "source": [
    "x_evals"
   ]
  },
  {
   "cell_type": "code",
   "execution_count": 9,
   "id": "6b39f6d5-725b-4ee7-b3be-282b4a620ef3",
   "metadata": {},
   "outputs": [],
   "source": [
    "# U = 0.5 * A * U\n",
    "A_2 = (0.5*A)"
   ]
  },
  {
   "cell_type": "code",
   "execution_count": 10,
   "id": "73e88137-5ac3-474f-951a-29c623b0ecdc",
   "metadata": {},
   "outputs": [],
   "source": [
    "def PDE(t,x,A):\n",
    "    u_t = A@x\n",
    "    return u_t "
   ]
  },
  {
   "cell_type": "code",
   "execution_count": 11,
   "id": "c877d1e4-3956-41a4-acd2-f9ba111cb504",
   "metadata": {},
   "outputs": [],
   "source": [
    "sol = solve_ivp(lambda t,x: PDE(t,x,A_2), [0,10], y0, t_eval = x_evals)"
   ]
  },
  {
   "cell_type": "code",
   "execution_count": 12,
   "id": "3ae081be-7ba0-4e26-b909-82bd51367881",
   "metadata": {},
   "outputs": [],
   "source": [
    "A2 = sol.y"
   ]
  },
  {
   "cell_type": "markdown",
   "id": "ff012198-4bd6-4c78-bbbc-7cd8d7ab7ee8",
   "metadata": {
    "tags": []
   },
   "source": [
    "### A3"
   ]
  },
  {
   "cell_type": "code",
   "execution_count": 13,
   "id": "40fe6af9-9eea-4159-b1d9-aee17fa435c7",
   "metadata": {},
   "outputs": [],
   "source": [
    "f = lambda x: np.exp(-(x-5)**2)\n",
    "L = 10 \n",
    "xp = [-L, L]\n",
    "\n",
    "dt = 0.5\n",
    "term = 10 # t = 10 \n",
    "\n",
    "x_evals = np.arange(0,term+dt, dt)\n",
    "\n",
    "y0 = f(x)\n",
    "\n",
    "x_range = np.arange(-L,L,0.1)"
   ]
  },
  {
   "cell_type": "code",
   "execution_count": 14,
   "id": "ba7d7ac2-d800-4e78-b3ba-2b07ac489c12",
   "metadata": {},
   "outputs": [],
   "source": [
    "def funcPDE(t,u,x,A):\n",
    "    \n",
    "    z = x-4\n",
    "    c = 1+2*np.sin(5*t)- np.heaviside(z,0)\n",
    "    c_reshape = c.reshape(-1,1)\n",
    "    \n",
    "    A = A.multiply(c_reshape)\n",
    "    u_t = A@u\n",
    "    \n",
    "    return u_t"
   ]
  },
  {
   "cell_type": "code",
   "execution_count": 15,
   "id": "21ae7c30-0a70-499d-9fb9-1ef41d5a5399",
   "metadata": {},
   "outputs": [],
   "source": [
    "sol1 = scipy.integrate.solve_ivp(lambda t,u: funcPDE(t,u,x,A),[0, 10],y0, t_eval = x_evals)"
   ]
  },
  {
   "cell_type": "code",
   "execution_count": 16,
   "id": "42d38884-b4a0-4f26-8b84-bf4d5f4463b6",
   "metadata": {},
   "outputs": [],
   "source": [
    "A3 = sol1.y"
   ]
  },
  {
   "cell_type": "markdown",
   "id": "b56b8e76-e86b-48b8-91ed-3189965544dc",
   "metadata": {
    "jp-MarkdownHeadingCollapsed": true,
    "tags": []
   },
   "source": [
    "### Problem 2"
   ]
  },
  {
   "cell_type": "markdown",
   "id": "d817efc5-e746-4121-a87b-6a7b7396552e",
   "metadata": {
    "tags": []
   },
   "source": [
    "### A4"
   ]
  },
  {
   "cell_type": "code",
   "execution_count": 17,
   "id": "e35c1428-777c-4e27-8dfc-37e9b373b35c",
   "metadata": {},
   "outputs": [],
   "source": [
    "# delta x or delta y \n",
    "n = 64\n",
    "L = 10\n",
    "l = np.linspace(-L, L, n+1)\n",
    "dl = l[1]-l[0]"
   ]
  },
  {
   "cell_type": "code",
   "execution_count": 18,
   "id": "688ed039-3cfa-4b11-adbc-0e218111883a",
   "metadata": {},
   "outputs": [],
   "source": [
    "def A(m):\n",
    "\n",
    "    # m = 64 # N value in x and y directions\n",
    "    n = m*m # total size of matrix\n",
    "\n",
    "    e1 = np.ones(n) # vector of ones\n",
    "    Low1 = np.tile(np.concatenate((np.ones(m-1), [0])), (m,)) # Lower diagonal 1\n",
    "    Low2 = np.tile(np.concatenate(([1], np.zeros(m-1))), (m,)) #Lower diagonal 2\n",
    "                                        # Low2 is NOT on the second lower diagonal,\n",
    "                                        # it is just the next lower diagonal we see\n",
    "                                        # in the matrix.\n",
    "\n",
    "    Up1 = np.roll(Low1, 1) # Shift the array for spdiags\n",
    "    Up2 = np.roll(Low2, m-1) # Shift the other array\n",
    "\n",
    "    A = scipy.sparse.spdiags([e1, e1, Low2, Low1, -4*e1, Up1, Up2, e1, e1],\n",
    "                             [-(n-m), -m, -m+1, -1, 0, 1, m-1, m, (n-m)], n, n,format = 'csr')\n",
    "    \n",
    "    return A"
   ]
  },
  {
   "cell_type": "code",
   "execution_count": 19,
   "id": "9c3ea250-3c1e-43a7-9dc6-feef9d577911",
   "metadata": {},
   "outputs": [],
   "source": [
    "# plt.spy(A(4)) # view the matrix structure\n",
    "# plt.show()"
   ]
  },
  {
   "cell_type": "code",
   "execution_count": 20,
   "id": "bd208a36-06e7-4852-bf6d-2450d363d338",
   "metadata": {},
   "outputs": [],
   "source": [
    "# A(64)[0,0] = 2\n",
    "A = A(64)\n",
    "A[0,0] = 2\n",
    "A = A/(dl**2)"
   ]
  },
  {
   "cell_type": "code",
   "execution_count": 21,
   "id": "849a8661-8aee-424b-8448-06b5f2632626",
   "metadata": {},
   "outputs": [],
   "source": [
    "A4 = np.copy(A.toarray())"
   ]
  },
  {
   "cell_type": "markdown",
   "id": "020f0f86-1436-4c07-977a-83335e153c2f",
   "metadata": {},
   "source": [
    "### A5"
   ]
  },
  {
   "cell_type": "code",
   "execution_count": 22,
   "id": "b97c1aee-466b-46db-9f28-4091cd4631f3",
   "metadata": {},
   "outputs": [],
   "source": [
    "def B(m):\n",
    "    # m = 5\n",
    "    n = m*m\n",
    "    e1_B = np.ones((n)).T # vector of ones\n",
    "\n",
    "    d_B = np.array([-((m**2)-m), - m, m, (m**2)-m])\n",
    "    Bin_B = np.array([e1_B, -e1_B, e1_B, -e1_B])\n",
    "\n",
    "\n",
    "    B = spdiags(Bin_B,d_B, n, n, format = 'csc')\n",
    "    B = B/(2 * dl)\n",
    "    return B"
   ]
  },
  {
   "cell_type": "code",
   "execution_count": 23,
   "id": "c336bc52-f7d8-4924-87de-b49b70c58dc6",
   "metadata": {},
   "outputs": [],
   "source": [
    "B = B(64)"
   ]
  },
  {
   "cell_type": "code",
   "execution_count": 24,
   "id": "7b1a2e33-6440-4bfc-9063-45d60894867b",
   "metadata": {},
   "outputs": [],
   "source": [
    "A5 = np.copy(B.toarray())"
   ]
  },
  {
   "cell_type": "code",
   "execution_count": 25,
   "id": "6d31bef0-8657-497f-aa90-ff017983bd03",
   "metadata": {},
   "outputs": [],
   "source": [
    "# plt.spy(B(4))\n",
    "# plt.show()"
   ]
  },
  {
   "cell_type": "markdown",
   "id": "dc9a102a-1db2-49ce-8243-41c8fd967fd7",
   "metadata": {},
   "source": [
    "### A6"
   ]
  },
  {
   "cell_type": "code",
   "execution_count": 26,
   "id": "8d6d64d0-2d55-4efc-96f6-6b66bcd84c68",
   "metadata": {},
   "outputs": [],
   "source": [
    "def C(m):\n",
    "    # m = 5 \n",
    "    n = m*m\n",
    "\n",
    "    e1_C = np.ones(n) # vector of ones\n",
    "    Low1_C = np.tile(np.concatenate((np.ones(m-1), [0])), (m,)) # Lower diagonal 1\n",
    "    Low2_C = np.tile(np.concatenate(([1], np.zeros(m-1))), (m,)) #Lower diagonal 2\n",
    "\n",
    "    Up1_C = np.roll(Low1_C, 1) \n",
    "    Up2_C = np.roll(Low2_C, m-1)\n",
    "\n",
    "    C = scipy.sparse.spdiags([Low2_C, -Low1_C, Up1_C, -Up2_C],\n",
    "                            [-m+1, -1, 1, m-1], n, n,format = 'csc')\n",
    "    C = C/(2 * dl)\n",
    "    return C\n",
    "# plt.spy(C(5))\n",
    "# plt.show()"
   ]
  },
  {
   "cell_type": "code",
   "execution_count": 27,
   "id": "f720eb57-85da-40cf-9ccd-a926605feb0d",
   "metadata": {},
   "outputs": [],
   "source": [
    "C = C(64)"
   ]
  },
  {
   "cell_type": "code",
   "execution_count": 28,
   "id": "5ccb89c8-3fe2-425c-9464-dae1dbe30af8",
   "metadata": {},
   "outputs": [],
   "source": [
    "A6 = np.copy(C.toarray())"
   ]
  },
  {
   "cell_type": "markdown",
   "id": "4e5eeb95-b138-4f67-8260-fb204773800c",
   "metadata": {
    "tags": []
   },
   "source": [
    "### A7"
   ]
  },
  {
   "cell_type": "code",
   "execution_count": 29,
   "id": "c9a411c9",
   "metadata": {},
   "outputs": [],
   "source": [
    "L = 10\n",
    "xp = [0, 4]\n",
    "\n",
    "# time\n",
    "t_evals = np.linspace(0,4,500)\n",
    "dt = 0.5"
   ]
  },
  {
   "cell_type": "code",
   "execution_count": 30,
   "id": "013502ae-e961-4790-8a55-b31c3478e1a2",
   "metadata": {},
   "outputs": [],
   "source": [
    "x = np.linspace(-10, 10, 64, endpoint=False)\n",
    "y = np.linspace(-10, 10, 64, endpoint=False)\n",
    "# k = np.exp(-2*(x**2) - ((y**2)/20))"
   ]
  },
  {
   "cell_type": "code",
   "execution_count": 31,
   "id": "dae77eea-3db4-4092-84b1-f0009437b465",
   "metadata": {},
   "outputs": [],
   "source": [
    "w0_func = lambda x,y: np.exp((-2*(x**2))-((y**2)/20))\n",
    "w0=np.zeros(len(x)**2)\n",
    "k=0\n",
    "for i in x:\n",
    "    for j in y:\n",
    "        w0[k]= w0_func(i,j)\n",
    "        k=k+1"
   ]
  },
  {
   "cell_type": "code",
   "execution_count": 32,
   "id": "d99cf54e-4499-4296-ae92-6b7bcc7a7736",
   "metadata": {},
   "outputs": [],
   "source": [
    "def func_ivp(t, w):\n",
    "    \n",
    "    v = 0.001\n",
    "    \n",
    "    # update psi \n",
    "    psi = scipy.sparse.linalg.spsolve(A, w)\n",
    "    \n",
    "    dw = (v*A@w) - ((B@psi)*(C@w)) + ((C@psi)*(B@w))\n",
    "    \n",
    "    return dw "
   ]
  },
  {
   "cell_type": "code",
   "execution_count": 33,
   "id": "6d2732b8-0e53-43fc-a38c-39bb7205e422",
   "metadata": {},
   "outputs": [
    {
     "name": "stdout",
     "output_type": "stream",
     "text": [
      "0.7322778701782227\n"
     ]
    }
   ],
   "source": [
    "tic_gaus = time.time()\n",
    "sol = scipy.integrate.solve_ivp(lambda t, w: func_ivp(t, w), xp, w0, t_eval = t_evals)\n",
    "toc_gaus = time.time()\n",
    "print(toc_gaus-tic_gaus)"
   ]
  },
  {
   "cell_type": "code",
   "execution_count": 34,
   "id": "5e578c45-070a-4d2a-a80e-cc018421e435",
   "metadata": {},
   "outputs": [],
   "source": [
    "A7 = sol.y.T"
   ]
  },
  {
   "cell_type": "markdown",
   "id": "4e38d177-ba6a-4986-8f00-116c8e455775",
   "metadata": {
    "tags": []
   },
   "source": [
    "### A8"
   ]
  },
  {
   "cell_type": "code",
   "execution_count": 35,
   "id": "16e9f236-77dd-4157-984b-7b107fd7f724",
   "metadata": {},
   "outputs": [],
   "source": [
    "L = 10\n",
    "xp = [0, 4]\n",
    "\n",
    "# time\n",
    "t_evals = np.linspace(0,4,500)\n",
    "dt = 0.5"
   ]
  },
  {
   "cell_type": "code",
   "execution_count": 36,
   "id": "8d2fb696-2cae-4988-a3cb-e55ebcf54ebc",
   "metadata": {},
   "outputs": [
    {
     "data": {
      "text/plain": [
       "range(0, 500)"
      ]
     },
     "execution_count": 36,
     "metadata": {},
     "output_type": "execute_result"
    }
   ],
   "source": [
    "range(len(t_evals))"
   ]
  },
  {
   "cell_type": "code",
   "execution_count": 37,
   "id": "8d8c41d8-8b89-465e-ac93-e2ef04fa0c51",
   "metadata": {},
   "outputs": [],
   "source": [
    "T = 2\n",
    "t = np.arange(0, T+0.01,0.01)"
   ]
  },
  {
   "cell_type": "code",
   "execution_count": 38,
   "id": "f9810574-23a9-4034-91c7-acd4d8454828",
   "metadata": {},
   "outputs": [
    {
     "data": {
      "text/plain": [
       "range(0, 201)"
      ]
     },
     "execution_count": 38,
     "metadata": {},
     "output_type": "execute_result"
    }
   ],
   "source": [
    "range(len(t))"
   ]
  },
  {
   "cell_type": "code",
   "execution_count": 39,
   "id": "64e84a85-3b7d-4cd9-97c5-e1b05584957e",
   "metadata": {},
   "outputs": [],
   "source": [
    "w0_func = lambda x,y: np.exp((-2*(x**2))-((y**2)/20))\n",
    "w0=np.zeros(len(x)**2)\n",
    "k=0\n",
    "for i in x:\n",
    "    for j in y:\n",
    "        w0[k]= w0_func(i,j)\n",
    "        k=k+1"
   ]
  },
  {
   "cell_type": "code",
   "execution_count": 40,
   "id": "1f70d25a-a708-4c7a-8988-e71a5a67b4ca",
   "metadata": {},
   "outputs": [
    {
     "name": "stderr",
     "output_type": "stream",
     "text": [
      "/Users/annahuang/opt/anaconda3/lib/python3.9/site-packages/scipy/sparse/linalg/dsolve/linsolve.py:318: SparseEfficiencyWarning: splu requires CSC matrix format\n",
      "  warn('splu requires CSC matrix format', SparseEfficiencyWarning)\n"
     ]
    }
   ],
   "source": [
    "PLU = scipy.sparse.linalg.splu(A)\n",
    "\n",
    "def func_ivp_plu(t, w):\n",
    "    \n",
    "    v = 0.001\n",
    "    \n",
    "    # update psi \n",
    "    psi = PLU.solve(w)\n",
    "    \n",
    "    dw = (v*A@w) - ((B@psi)*(C@w)) + ((C@psi)*(B@w))\n",
    "    \n",
    "    return dw "
   ]
  },
  {
   "cell_type": "code",
   "execution_count": 41,
   "id": "439f71f4-1a07-4c50-9143-38d7203b803c",
   "metadata": {},
   "outputs": [
    {
     "name": "stdout",
     "output_type": "stream",
     "text": [
      "0.0502467155456543\n"
     ]
    }
   ],
   "source": [
    "tic_plu = time.time()\n",
    "sol2 = scipy.integrate.solve_ivp(lambda t, w: func_ivp_plu(t, w), xp, w0, t_eval = t_evals)\n",
    "toc_plu = time.time()\n",
    "print(toc_plu-tic_plu)"
   ]
  },
  {
   "cell_type": "code",
   "execution_count": 42,
   "id": "90c8f638-d780-4a46-9498-faf8d0308453",
   "metadata": {},
   "outputs": [],
   "source": [
    "A8 = sol2.y.T"
   ]
  },
  {
   "cell_type": "markdown",
   "id": "e509a473-d95b-46ea-a8e3-4345b09c403d",
   "metadata": {},
   "source": [
    "### A9"
   ]
  },
  {
   "cell_type": "code",
   "execution_count": 43,
   "id": "1a313a06-90ee-4d18-b116-c5fa6107ea41",
   "metadata": {
    "tags": []
   },
   "outputs": [
    {
     "data": {
      "text/plain": [
       "array([0.        , 0.00801603, 0.01603206, 0.0240481 , 0.03206413,\n",
       "       0.04008016, 0.04809619, 0.05611222, 0.06412826, 0.07214429,\n",
       "       0.08016032, 0.08817635, 0.09619238, 0.10420842, 0.11222445,\n",
       "       0.12024048, 0.12825651, 0.13627255, 0.14428858, 0.15230461,\n",
       "       0.16032064, 0.16833667, 0.17635271, 0.18436874, 0.19238477,\n",
       "       0.2004008 , 0.20841683, 0.21643287, 0.2244489 , 0.23246493,\n",
       "       0.24048096, 0.24849699, 0.25651303, 0.26452906, 0.27254509,\n",
       "       0.28056112, 0.28857715, 0.29659319, 0.30460922, 0.31262525,\n",
       "       0.32064128, 0.32865731, 0.33667335, 0.34468938, 0.35270541,\n",
       "       0.36072144, 0.36873747, 0.37675351, 0.38476954, 0.39278557,\n",
       "       0.4008016 , 0.40881764, 0.41683367, 0.4248497 , 0.43286573,\n",
       "       0.44088176, 0.4488978 , 0.45691383, 0.46492986, 0.47294589,\n",
       "       0.48096192, 0.48897796, 0.49699399, 0.50501002, 0.51302605,\n",
       "       0.52104208, 0.52905812, 0.53707415, 0.54509018, 0.55310621,\n",
       "       0.56112224, 0.56913828, 0.57715431, 0.58517034, 0.59318637,\n",
       "       0.6012024 , 0.60921844, 0.61723447, 0.6252505 , 0.63326653,\n",
       "       0.64128257, 0.6492986 , 0.65731463, 0.66533066, 0.67334669,\n",
       "       0.68136273, 0.68937876, 0.69739479, 0.70541082, 0.71342685,\n",
       "       0.72144289, 0.72945892, 0.73747495, 0.74549098, 0.75350701,\n",
       "       0.76152305, 0.76953908, 0.77755511, 0.78557114, 0.79358717,\n",
       "       0.80160321, 0.80961924, 0.81763527, 0.8256513 , 0.83366733,\n",
       "       0.84168337, 0.8496994 , 0.85771543, 0.86573146, 0.87374749,\n",
       "       0.88176353, 0.88977956, 0.89779559, 0.90581162, 0.91382766,\n",
       "       0.92184369, 0.92985972, 0.93787575, 0.94589178, 0.95390782,\n",
       "       0.96192385, 0.96993988, 0.97795591, 0.98597194, 0.99398798,\n",
       "       1.00200401, 1.01002004, 1.01803607, 1.0260521 , 1.03406814,\n",
       "       1.04208417, 1.0501002 , 1.05811623, 1.06613226, 1.0741483 ,\n",
       "       1.08216433, 1.09018036, 1.09819639, 1.10621242, 1.11422846,\n",
       "       1.12224449, 1.13026052, 1.13827655, 1.14629259, 1.15430862,\n",
       "       1.16232465, 1.17034068, 1.17835671, 1.18637275, 1.19438878,\n",
       "       1.20240481, 1.21042084, 1.21843687, 1.22645291, 1.23446894,\n",
       "       1.24248497, 1.250501  , 1.25851703, 1.26653307, 1.2745491 ,\n",
       "       1.28256513, 1.29058116, 1.29859719, 1.30661323, 1.31462926,\n",
       "       1.32264529, 1.33066132, 1.33867735, 1.34669339, 1.35470942,\n",
       "       1.36272545, 1.37074148, 1.37875752, 1.38677355, 1.39478958,\n",
       "       1.40280561, 1.41082164, 1.41883768, 1.42685371, 1.43486974,\n",
       "       1.44288577, 1.4509018 , 1.45891784, 1.46693387, 1.4749499 ,\n",
       "       1.48296593, 1.49098196, 1.498998  , 1.50701403, 1.51503006,\n",
       "       1.52304609, 1.53106212, 1.53907816, 1.54709419, 1.55511022,\n",
       "       1.56312625, 1.57114228, 1.57915832, 1.58717435, 1.59519038,\n",
       "       1.60320641, 1.61122244, 1.61923848, 1.62725451, 1.63527054,\n",
       "       1.64328657, 1.65130261, 1.65931864, 1.66733467, 1.6753507 ,\n",
       "       1.68336673, 1.69138277, 1.6993988 , 1.70741483, 1.71543086,\n",
       "       1.72344689, 1.73146293, 1.73947896, 1.74749499, 1.75551102,\n",
       "       1.76352705, 1.77154309, 1.77955912, 1.78757515, 1.79559118,\n",
       "       1.80360721, 1.81162325, 1.81963928, 1.82765531, 1.83567134,\n",
       "       1.84368737, 1.85170341, 1.85971944, 1.86773547, 1.8757515 ,\n",
       "       1.88376754, 1.89178357, 1.8997996 , 1.90781563, 1.91583166,\n",
       "       1.9238477 , 1.93186373, 1.93987976, 1.94789579, 1.95591182,\n",
       "       1.96392786, 1.97194389, 1.97995992, 1.98797595, 1.99599198,\n",
       "       2.00400802, 2.01202405, 2.02004008, 2.02805611, 2.03607214,\n",
       "       2.04408818, 2.05210421, 2.06012024, 2.06813627, 2.0761523 ,\n",
       "       2.08416834, 2.09218437, 2.1002004 , 2.10821643, 2.11623246,\n",
       "       2.1242485 , 2.13226453, 2.14028056, 2.14829659, 2.15631263,\n",
       "       2.16432866, 2.17234469, 2.18036072, 2.18837675, 2.19639279,\n",
       "       2.20440882, 2.21242485, 2.22044088, 2.22845691, 2.23647295,\n",
       "       2.24448898, 2.25250501, 2.26052104, 2.26853707, 2.27655311,\n",
       "       2.28456914, 2.29258517, 2.3006012 , 2.30861723, 2.31663327,\n",
       "       2.3246493 , 2.33266533, 2.34068136, 2.34869739, 2.35671343,\n",
       "       2.36472946, 2.37274549, 2.38076152, 2.38877756, 2.39679359,\n",
       "       2.40480962, 2.41282565, 2.42084168, 2.42885772, 2.43687375,\n",
       "       2.44488978, 2.45290581, 2.46092184, 2.46893788, 2.47695391,\n",
       "       2.48496994, 2.49298597, 2.501002  , 2.50901804, 2.51703407,\n",
       "       2.5250501 , 2.53306613, 2.54108216, 2.5490982 , 2.55711423,\n",
       "       2.56513026, 2.57314629, 2.58116232, 2.58917836, 2.59719439,\n",
       "       2.60521042, 2.61322645, 2.62124248, 2.62925852, 2.63727455,\n",
       "       2.64529058, 2.65330661, 2.66132265, 2.66933868, 2.67735471,\n",
       "       2.68537074, 2.69338677, 2.70140281, 2.70941884, 2.71743487,\n",
       "       2.7254509 , 2.73346693, 2.74148297, 2.749499  , 2.75751503,\n",
       "       2.76553106, 2.77354709, 2.78156313, 2.78957916, 2.79759519,\n",
       "       2.80561122, 2.81362725, 2.82164329, 2.82965932, 2.83767535,\n",
       "       2.84569138, 2.85370741, 2.86172345, 2.86973948, 2.87775551,\n",
       "       2.88577154, 2.89378758, 2.90180361, 2.90981964, 2.91783567,\n",
       "       2.9258517 , 2.93386774, 2.94188377, 2.9498998 , 2.95791583,\n",
       "       2.96593186, 2.9739479 , 2.98196393, 2.98997996, 2.99799599,\n",
       "       3.00601202, 3.01402806, 3.02204409, 3.03006012, 3.03807615,\n",
       "       3.04609218, 3.05410822, 3.06212425, 3.07014028, 3.07815631,\n",
       "       3.08617234, 3.09418838, 3.10220441, 3.11022044, 3.11823647,\n",
       "       3.12625251, 3.13426854, 3.14228457, 3.1503006 , 3.15831663,\n",
       "       3.16633267, 3.1743487 , 3.18236473, 3.19038076, 3.19839679,\n",
       "       3.20641283, 3.21442886, 3.22244489, 3.23046092, 3.23847695,\n",
       "       3.24649299, 3.25450902, 3.26252505, 3.27054108, 3.27855711,\n",
       "       3.28657315, 3.29458918, 3.30260521, 3.31062124, 3.31863727,\n",
       "       3.32665331, 3.33466934, 3.34268537, 3.3507014 , 3.35871743,\n",
       "       3.36673347, 3.3747495 , 3.38276553, 3.39078156, 3.3987976 ,\n",
       "       3.40681363, 3.41482966, 3.42284569, 3.43086172, 3.43887776,\n",
       "       3.44689379, 3.45490982, 3.46292585, 3.47094188, 3.47895792,\n",
       "       3.48697395, 3.49498998, 3.50300601, 3.51102204, 3.51903808,\n",
       "       3.52705411, 3.53507014, 3.54308617, 3.5511022 , 3.55911824,\n",
       "       3.56713427, 3.5751503 , 3.58316633, 3.59118236, 3.5991984 ,\n",
       "       3.60721443, 3.61523046, 3.62324649, 3.63126253, 3.63927856,\n",
       "       3.64729459, 3.65531062, 3.66332665, 3.67134269, 3.67935872,\n",
       "       3.68737475, 3.69539078, 3.70340681, 3.71142285, 3.71943888,\n",
       "       3.72745491, 3.73547094, 3.74348697, 3.75150301, 3.75951904,\n",
       "       3.76753507, 3.7755511 , 3.78356713, 3.79158317, 3.7995992 ,\n",
       "       3.80761523, 3.81563126, 3.82364729, 3.83166333, 3.83967936,\n",
       "       3.84769539, 3.85571142, 3.86372745, 3.87174349, 3.87975952,\n",
       "       3.88777555, 3.89579158, 3.90380762, 3.91182365, 3.91983968,\n",
       "       3.92785571, 3.93587174, 3.94388778, 3.95190381, 3.95991984,\n",
       "       3.96793587, 3.9759519 , 3.98396794, 3.99198397, 4.        ])"
      ]
     },
     "execution_count": 43,
     "metadata": {},
     "output_type": "execute_result"
    }
   ],
   "source": [
    "sol2.t"
   ]
  },
  {
   "cell_type": "code",
   "execution_count": 44,
   "id": "fc1d6564-e7d0-4f36-aac9-d2690897d4c3",
   "metadata": {},
   "outputs": [],
   "source": [
    "a = sol2.y[:,0].reshape(64,64)"
   ]
  },
  {
   "cell_type": "code",
   "execution_count": 45,
   "id": "17ced87d-d6ba-4640-90df-f6f221a4e81b",
   "metadata": {},
   "outputs": [],
   "source": [
    "b = sol2.y[:,1].reshape(64, 64)"
   ]
  },
  {
   "cell_type": "code",
   "execution_count": 46,
   "id": "7d2592c6-f116-420f-a4c1-2c1ccea81a3d",
   "metadata": {},
   "outputs": [],
   "source": [
    "c = sol2.y[:,2].reshape(64, 64)"
   ]
  },
  {
   "cell_type": "code",
   "execution_count": 47,
   "id": "226d28d6-e369-403c-8782-0bfb486ad60d",
   "metadata": {},
   "outputs": [],
   "source": [
    "d = sol2.y[:,3].reshape(64, 64)"
   ]
  },
  {
   "cell_type": "code",
   "execution_count": 48,
   "id": "1c8e2111-b971-491e-8284-c6adfb3f47f3",
   "metadata": {},
   "outputs": [],
   "source": [
    "e = sol2.y[:,4].reshape(64, 64)"
   ]
  },
  {
   "cell_type": "code",
   "execution_count": 49,
   "id": "f1718e87-37ee-4f6d-9ccd-8b03e62900db",
   "metadata": {},
   "outputs": [],
   "source": [
    "f = sol2.y[:,5].reshape(64, 64)"
   ]
  },
  {
   "cell_type": "code",
   "execution_count": 50,
   "id": "4ce862ae-d1ab-46d7-80c0-f2b680ae7607",
   "metadata": {},
   "outputs": [],
   "source": [
    "g = sol2.y[:,6].reshape(64, 64)"
   ]
  },
  {
   "cell_type": "code",
   "execution_count": 51,
   "id": "452014b4-dceb-4536-93be-de95e35fae7f",
   "metadata": {},
   "outputs": [],
   "source": [
    "h = sol2.y[:,7].reshape(64, 64)"
   ]
  },
  {
   "cell_type": "code",
   "execution_count": 52,
   "id": "7638bbda-424b-47e6-b3a3-3079c18971f5",
   "metadata": {},
   "outputs": [],
   "source": [
    "i = sol2.y[:,8].reshape(64, 64)"
   ]
  },
  {
   "cell_type": "code",
   "execution_count": 53,
   "id": "4dab7f07-aca9-4c43-8277-d60cc40622e4",
   "metadata": {},
   "outputs": [],
   "source": [
    "j = sol2.y[:,9].reshape(64, 64)"
   ]
  },
  {
   "cell_type": "code",
   "execution_count": 54,
   "id": "2ffdd5cf-bc07-46d5-8855-e03fcb19ee54",
   "metadata": {},
   "outputs": [],
   "source": [
    "k = sol2.y[:,10].reshape(64, 64)"
   ]
  },
  {
   "cell_type": "code",
   "execution_count": 55,
   "id": "0e00d1d7-9ce6-4c7f-84b4-734af71aa9ee",
   "metadata": {},
   "outputs": [],
   "source": [
    "l = sol2.y[:,11].reshape(64, 64)"
   ]
  },
  {
   "cell_type": "code",
   "execution_count": 56,
   "id": "e131ef02-234a-454a-8bbf-3b66dcc6a9eb",
   "metadata": {},
   "outputs": [],
   "source": [
    "A9 = np.stack([a,b,c,d,e,f,g,h,i,j,k,l])"
   ]
  },
  {
   "cell_type": "code",
   "execution_count": 73,
   "id": "a6d9f36b-7cce-4b99-8321-f014772920de",
   "metadata": {},
   "outputs": [],
   "source": [
    "A9_new = np.array([])\n",
    "\n",
    "for i in range(len(t_evals)):\n",
    "    ep = sol2.y[:,i].reshape(64, 64)\n",
    "    \n",
    "    A9_new = np.append(A9_new, ep)"
   ]
  },
  {
   "cell_type": "code",
   "execution_count": 77,
   "id": "3e958d8c-c551-4a25-8072-e25086014da7",
   "metadata": {},
   "outputs": [],
   "source": [
    "A9 = A9_new.reshape(len(t_evals),64,64)"
   ]
  },
  {
   "cell_type": "code",
   "execution_count": 79,
   "id": "6ae33db2-5e65-4067-86eb-b35a9efb9750",
   "metadata": {},
   "outputs": [],
   "source": [
    "L = 10\n",
    "term = 4\n",
    "x = np.arange(-L, L, 0.3125)\n",
    "y = np.arange(-L, L, 0.3125)\n",
    "N = len(x)"
   ]
  },
  {
   "cell_type": "code",
   "execution_count": 80,
   "id": "4c8f5ec4-fe2b-41ec-9b3f-a8d024d435db",
   "metadata": {},
   "outputs": [],
   "source": [
    "import numpy as np\n",
    "import matplotlib.pyplot as plt\n",
    "import matplotlib.animation as animation"
   ]
  },
  {
   "cell_type": "code",
   "execution_count": 81,
   "id": "85391fc2-aec1-4b5e-ab90-e1712b090f5e",
   "metadata": {},
   "outputs": [
    {
     "data": {
      "text/plain": [
       "(500, 64, 64)"
      ]
     },
     "execution_count": 81,
     "metadata": {},
     "output_type": "execute_result"
    }
   ],
   "source": [
    "A9.shape"
   ]
  },
  {
   "cell_type": "code",
   "execution_count": 82,
   "id": "24ba6bb8-1c9a-4fcd-ac63-d99248ea1228",
   "metadata": {},
   "outputs": [
    {
     "data": {
      "text/plain": [
       "(4096, 500)"
      ]
     },
     "execution_count": 82,
     "metadata": {},
     "output_type": "execute_result"
    }
   ],
   "source": [
    "sol2.y.shape"
   ]
  },
  {
   "cell_type": "code",
   "execution_count": 83,
   "id": "16f44296-8d20-4a3d-b2f6-31246342cbc0",
   "metadata": {},
   "outputs": [],
   "source": [
    "A10 = sol2.y.reshape(64,64,len(t_evals))"
   ]
  },
  {
   "cell_type": "code",
   "execution_count": 92,
   "id": "3b4241ce-52ca-42f5-91c5-57c55b06a852",
   "metadata": {
    "tags": []
   },
   "outputs": [
    {
     "data": {
      "image/png": "[encoded data removed]",
      "text/plain": [
       "<Figure size 432x288 with 2 Axes>"
      ]
     },
     "metadata": {
      "needs_background": "light"
     },
     "output_type": "display_data"
    }
   ],
   "source": [
    "from numpy import array, zeros, linspace, meshgrid\n",
    "\n",
    "# div = make_axes_locatable(ax)\n",
    "# cax = div.append_axes('right', '5%', '5%')\n",
    "\n",
    "# Generate grid for plotting\n",
    "x = np.arange(-L, L, 0.3125)\n",
    "y = np.arange(-L, L, 0.3125)\n",
    "x,y = meshgrid(x,y)\n",
    "\n",
    "fig = plt.figure()\n",
    "ax = plt.axes(xlim=(-10, L), ylim=(-10, L))  \n",
    "plt.xlabel(r'x-values')\n",
    "plt.ylabel(r'y-values')\n",
    "\n",
    "# animation function\n",
    "def animate(i): \n",
    "    z = A9[i,:,:].T\n",
    "    cont = plt.contourf(x, y, z)\n",
    "    plt.title(r'Vorticity Dynamics at time t = %0.2f' % sol2.t[i])\n",
    "\n",
    "    return cont \n",
    "\n",
    "z = A9[0,:,:].T\n",
    "cont = plt.contourf(x, y, z)\n",
    "fig.colorbar(cont)\n",
    "\n",
    "# anim = animation.FuncAnimation(fig, animate, frames=12, interval=1000, save_count = 50)\n",
    "\n",
    "# anim = animation.FuncAnimation(fig, animate, frames=60, interval=1000)\n",
    "\n",
    "anim = animation.FuncAnimation(fig, animate, frames=len(t_evals), interval=13)\n",
    "\n",
    "anim.save('animation.mp4')"
   ]
  },
  {
   "cell_type": "code",
   "execution_count": 69,
   "id": "3bfc4800-f9ce-4b40-b5da-90deafd1fb78",
   "metadata": {},
   "outputs": [],
   "source": [
    "# fig4, ax4 = plt.subplots()\n",
    "\n",
    "# X, Y = np.meshgrid(x, y)\n",
    "# surf = ax4.contourf(Y, X, A9)\n",
    "# fig5.colorbar(surf)\n",
    "\n",
    "# ax4.set_xlabel(r'$y-value$', fontsize=14)\n",
    "# ax4.set_ylabel(r'$x-value$', fontsize=14)"
   ]
  },
  {
   "cell_type": "code",
   "execution_count": 70,
   "id": "3a59d757-7a2f-45fd-979c-2f1294401484",
   "metadata": {},
   "outputs": [],
   "source": [
    "# fig5, ax5 = plt.subplots()\n",
    "\n",
    "# X, Y = np.meshgrid(x, y)\n",
    "# surf = ax5.contourf(Y, X, o)\n",
    "# fig5.colorbar(surf)\n",
    "\n",
    "# # ax5.set_title('Contour plot of the time evolution of the second mode', fontsize = 16)\n",
    "# ax5.set_xlabel(r'$y-value$', fontsize=14)\n",
    "# ax5.set_ylabel(r'$x-value$', fontsize=14)"
   ]
  }
 ],
 "metadata": {
  "kernelspec": {
   "display_name": "Python 3 (ipykernel)",
   "language": "python",
   "name": "python3"
  },
  "language_info": {
   "codemirror_mode": {
    "name": "ipython",
    "version": 3
   },
   "file_extension": ".py",
   "mimetype": "text/x-python",
   "name": "python",
   "nbconvert_exporter": "python",
   "pygments_lexer": "ipython3",
   "version": "3.9.7"
  }
 },
 "nbformat": 4,
 "nbformat_minor": 5
}
