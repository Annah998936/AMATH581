{
 "cells": [
  {
   "cell_type": "code",
   "execution_count": 1,
   "id": "9ef945db-084f-4c48-881c-7157cf297231",
   "metadata": {},
   "outputs": [],
   "source": [
    "import numpy as np\n",
    "import numpy.matlib\n",
    "\n",
    "import matplotlib.pyplot as plt\n",
    "import matplotlib.pylab as plt\n",
    "from matplotlib.pyplot import figure\n",
    "from matplotlib import cm\n",
    "from mpl_toolkits.mplot3d import axes3d\n",
    "\n",
    "import scipy.integrate\n",
    "from scipy.integrate import solve_ivp\n",
    "from scipy.sparse import csr_matrix, triu, spdiags\n",
    "from scipy.sparse.linalg import spsolve, splu\n",
    "import scipy.sparse\n",
    "import scipy.optimize\n",
    "from numpy.linalg import inv\n",
    "\n",
    "import time"
   ]
  },
  {
   "cell_type": "markdown",
   "id": "19a656f5-9021-4d9a-920d-3affc27141bc",
   "metadata": {},
   "source": [
    "### Number 1"
   ]
  },
  {
   "cell_type": "code",
   "execution_count": 2,
   "id": "21d99c4d-054d-4b49-971f-de0cd800c08b",
   "metadata": {},
   "outputs": [
    {
     "data": {
      "text/plain": [
       "0.32768"
      ]
     },
     "execution_count": 2,
     "metadata": {},
     "output_type": "execute_result"
    }
   ],
   "source": [
    "#initialize \n",
    "Time = 2\n",
    "L = 10\n",
    "n = 128 \n",
    "x2 = np.linspace(-L, L, n+1)\n",
    "x = x2[0:n]\n",
    "dx = x[1]-x[0]\n",
    "\n",
    "#time\n",
    "t = np.linspace(0, Time, 501)\n",
    "dt = t[1] - t[0]\n",
    "time_steps = int(Time/dt)\n",
    "\n",
    "CFL = (2*dt)/(dx**2) \n",
    "CFL"
   ]
  },
  {
   "cell_type": "markdown",
   "id": "30f674d0-c553-4ca7-add7-f77e50e591c9",
   "metadata": {},
   "source": [
    "### Number 2 (A1)"
   ]
  },
  {
   "cell_type": "code",
   "execution_count": 3,
   "id": "29562270-d05e-4b3f-9042-854df36b8b74",
   "metadata": {},
   "outputs": [],
   "source": [
    "#von-Neumann analysis \n",
    "\n",
    "G = lambda l,z: (1/6)*(6-(15*l)+(16*l*np.cos(z))-(l*np.cos(2*z)))\n",
    "\n",
    "# zvals = np.linspace(-np.pi,np.pi,128)\n",
    "# lvals = np.linspace(0,3,128)\n",
    "# [Z, L] = np.meshgrid(zvals,lvals)\n",
    "\n",
    "# fig,ax = plt.subplots(figsize=(10,10),subplot_kw = {\"projection\":\"3d\"})\n",
    "# ax.plot_surface(Z,L,G(L,Z), cmap = \"magma\")"
   ]
  },
  {
   "cell_type": "code",
   "execution_count": 4,
   "id": "b1eddd35-4f5e-4f72-8ecc-768965aed799",
   "metadata": {},
   "outputs": [],
   "source": [
    "A1 = np.abs(G(CFL,1))"
   ]
  },
  {
   "cell_type": "code",
   "execution_count": 5,
   "id": "06f83f76-ffba-4c89-b720-32674e1bddd1",
   "metadata": {},
   "outputs": [
    {
     "data": {
      "text/plain": [
       "0.6756505247982867"
      ]
     },
     "execution_count": 5,
     "metadata": {},
     "output_type": "execute_result"
    }
   ],
   "source": [
    "A1"
   ]
  },
  {
   "cell_type": "markdown",
   "id": "5816a379-6462-46e3-a59b-f06e1d69b0d7",
   "metadata": {},
   "source": [
    "### Number 3 (A2)"
   ]
  },
  {
   "cell_type": "code",
   "execution_count": 6,
   "id": "5fc381ea-133b-49c3-9986-9f852ea59690",
   "metadata": {},
   "outputs": [],
   "source": [
    "G_one = lambda z: np.abs(G(CFL,z))\n",
    "x_optimize = scipy.optimize.fminbound(lambda z:-G_one(z), -np.pi,np.pi) # This gives the *maximizer*\n",
    "A2 = G_one(x_optimize)"
   ]
  },
  {
   "cell_type": "code",
   "execution_count": 7,
   "id": "54d34259-8fe3-4bbe-9536-afd2ca63d40c",
   "metadata": {},
   "outputs": [
    {
     "data": {
      "text/plain": [
       "1.0"
      ]
     },
     "execution_count": 7,
     "metadata": {},
     "output_type": "execute_result"
    }
   ],
   "source": [
    "A2"
   ]
  },
  {
   "cell_type": "markdown",
   "id": "e8b47afc-bfbb-4060-8f42-e4036478819c",
   "metadata": {},
   "source": [
    "### Number 4 (A3)"
   ]
  },
  {
   "cell_type": "code",
   "execution_count": 8,
   "id": "ba4d3b5d-ecd7-491b-8a3e-780b55de9379",
   "metadata": {},
   "outputs": [
    {
     "name": "stderr",
     "output_type": "stream",
     "text": [
      "/Users/annahuang/opt/anaconda3/lib/python3.9/site-packages/scipy/sparse/_index.py:82: SparseEfficiencyWarning: Changing the sparsity structure of a csc_matrix is expensive. lil_matrix is more efficient.\n",
      "  self._set_intXint(row, col, x.flat[0])\n"
     ]
    }
   ],
   "source": [
    "# n = 128\n",
    "e1 = np.ones(n)\n",
    "A = scipy.sparse.spdiags([-e1, -e1,16*e1,30*e1,16*e1,-e1, -e1], [-n+2,-2,-1,0,1,2,n-2],n,n, format = 'csc')\n",
    "A[0,n-1] = 16\n",
    "A[n-1,0] = 16\n",
    "\n",
    "# p = 256\n",
    "p = 256\n",
    "e1 = np.ones(p)\n",
    "A_256 = scipy.sparse.spdiags([-e1, -e1,16*e1,30*e1,16*e1,-e1, -e1], [-p+2,-2,-1,0,1,2,p-2],p,p, format = 'csc')\n",
    "A_256[0,p-1] = 16\n",
    "A_256[p-1,0] = 16"
   ]
  },
  {
   "cell_type": "code",
   "execution_count": 9,
   "id": "70674b98-94f2-45c1-a34d-3466d63bf31d",
   "metadata": {},
   "outputs": [],
   "source": [
    "A = A/12\n",
    "A_256 = A_256/12"
   ]
  },
  {
   "cell_type": "code",
   "execution_count": 10,
   "id": "4a4ba011-6ab7-42a6-a469-463db88703c0",
   "metadata": {},
   "outputs": [
    {
     "data": {
      "text/plain": [
       "matrix([[ 2.5       ,  1.33333333, -0.08333333, ...,  0.        ,\n",
       "         -0.08333333,  1.33333333],\n",
       "        [ 1.33333333,  2.5       ,  1.33333333, ...,  0.        ,\n",
       "          0.        , -0.08333333],\n",
       "        [-0.08333333,  1.33333333,  2.5       , ...,  0.        ,\n",
       "          0.        ,  0.        ],\n",
       "        ...,\n",
       "        [ 0.        ,  0.        ,  0.        , ...,  2.5       ,\n",
       "          1.33333333, -0.08333333],\n",
       "        [-0.08333333,  0.        ,  0.        , ...,  1.33333333,\n",
       "          2.5       ,  1.33333333],\n",
       "        [ 1.33333333, -0.08333333,  0.        , ..., -0.08333333,\n",
       "          1.33333333,  2.5       ]])"
      ]
     },
     "execution_count": 10,
     "metadata": {},
     "output_type": "execute_result"
    }
   ],
   "source": [
    "A.todense()"
   ]
  },
  {
   "cell_type": "code",
   "execution_count": 11,
   "id": "f00ae983-ae36-4306-81fc-c8495db935ff",
   "metadata": {},
   "outputs": [],
   "source": [
    "A3 = A"
   ]
  },
  {
   "cell_type": "code",
   "execution_count": 12,
   "id": "dbf1229f-e626-4764-8a7d-6425022b2c0a",
   "metadata": {},
   "outputs": [
    {
     "data": {
      "text/plain": [
       "(128, 128)"
      ]
     },
     "execution_count": 12,
     "metadata": {},
     "output_type": "execute_result"
    }
   ],
   "source": [
    "A.shape"
   ]
  },
  {
   "cell_type": "code",
   "execution_count": 13,
   "id": "13871bb4-3581-4ad9-81a1-853bc78518cc",
   "metadata": {},
   "outputs": [
    {
     "data": {
      "text/plain": [
       "<128x128 sparse matrix of type '<class 'numpy.float64'>'\n",
       "\twith 640 stored elements in Compressed Sparse Column format>"
      ]
     },
     "execution_count": 13,
     "metadata": {},
     "output_type": "execute_result"
    }
   ],
   "source": [
    "A"
   ]
  },
  {
   "cell_type": "markdown",
   "id": "c441bb13-c71a-463a-9c0a-36ab8d968849",
   "metadata": {},
   "source": [
    "### Number 6 (A5)"
   ]
  },
  {
   "cell_type": "code",
   "execution_count": 15,
   "id": "13b4604e-6723-4eb6-89fd-2fe46b566051",
   "metadata": {},
   "outputs": [],
   "source": [
    "#initialize \n",
    "Time = 2\n",
    "L = 10\n",
    "# n = 128 \n",
    "x2 = np.linspace(-L, L, n+1)\n",
    "x = x2[0:n]\n",
    "dx = x[1]-x[0]\n",
    "\n",
    "#time \n",
    "t = np.linspace(0, Time, 501)\n",
    "dt = t[1] - t[0]\n",
    "time_steps = int(Time/dt)"
   ]
  },
  {
   "cell_type": "code",
   "execution_count": 16,
   "id": "711be193-ec20-4181-a003-0256950a6c62",
   "metadata": {
    "tags": []
   },
   "outputs": [],
   "source": [
    "#Forward Euler \n",
    "def FE(n):\n",
    "    usol_fe = np.zeros((len(x), len(t)))\n",
    "    u0 = (10*np.cos((2*np.pi*x)/L) + 30*np.cos((8*np.pi*x)/L)).T\n",
    "    usol_fe[:,0] = u0\n",
    "\n",
    "    u1 = u0\n",
    "    for j in range(time_steps):\n",
    "        u2 = u1 + 0.5*CFL*A@u1\n",
    "        u1 = u2\n",
    "        usol_fe[:,j+1] = u2\n",
    "    \n",
    "    return usol_fe"
   ]
  },
  {
   "cell_type": "code",
   "execution_count": 17,
   "id": "07e81392-7590-4f79-b390-2075f0930acc",
   "metadata": {},
   "outputs": [],
   "source": [
    "# # plotting \n",
    "# fig, ax = plt.subplots(1,1)\n",
    "# T, X = np.meshgrid(t,x)\n",
    "# cp = ax.pcolor(x, t, FE(128).T, cmap='magma', shading='auto')\n",
    "# fig.colorbar(cp)\n",
    "# plt.show()\n",
    "\n",
    "# # A lot of instability in this solution "
   ]
  },
  {
   "cell_type": "code",
   "execution_count": 18,
   "id": "78da4150-5c0b-4b9d-bbe3-4bd0e988bb0b",
   "metadata": {},
   "outputs": [],
   "source": [
    "A5 = FE(128)[:,-1].reshape(128,1)"
   ]
  },
  {
   "cell_type": "code",
   "execution_count": 19,
   "id": "c74e1401-f206-4bda-ab78-9a4c576a1713",
   "metadata": {},
   "outputs": [
    {
     "data": {
      "text/plain": [
       "(128, 1)"
      ]
     },
     "execution_count": 19,
     "metadata": {},
     "output_type": "execute_result"
    }
   ],
   "source": [
    "A5.shape"
   ]
  },
  {
   "cell_type": "markdown",
   "id": "1b822efb-ee8e-472a-8b6c-694d0daad02d",
   "metadata": {},
   "source": [
    "### Number 7 (A6)"
   ]
  },
  {
   "cell_type": "code",
   "execution_count": 18,
   "id": "5046f214-ad06-4457-a063-c75c5a3d61b2",
   "metadata": {},
   "outputs": [],
   "source": [
    "#von-Neumann analysis \n",
    "\n",
    "G1 = lambda l,z: (1-l+(l*np.cos(z)))/(1+l-(l*np.cos(z)))\n",
    "\n",
    "# zvals = np.linspace(-np.pi,np.pi,128)\n",
    "# lvals = np.linspace(0,3,128)\n",
    "# [Z, L] = np.meshgrid(zvals,lvals)\n",
    "\n",
    "# fig,ax = plt.subplots(figsize=(10,10),subplot_kw = {\"projection\":\"3d\"})\n",
    "# ax.plot_surface(Z,L,G1(L,Z), cmap = \"magma\")"
   ]
  },
  {
   "cell_type": "code",
   "execution_count": 19,
   "id": "0b7cd4c1-fe51-4691-8d40-1df315d06320",
   "metadata": {},
   "outputs": [],
   "source": [
    "G_one1 = lambda z: np.abs(G1(CFL,z))\n",
    "x_optimize1 = scipy.optimize.fminbound(lambda z:-G_one1(z), -np.pi,np.pi) # This gives the *maximizer*\n",
    "A6 = G_one1(x_optimize1)"
   ]
  },
  {
   "cell_type": "code",
   "execution_count": 20,
   "id": "546d0c11-f8a3-4c05-9ebe-795c1487ea75",
   "metadata": {},
   "outputs": [
    {
     "data": {
      "text/plain": [
       "1.0"
      ]
     },
     "execution_count": 20,
     "metadata": {},
     "output_type": "execute_result"
    }
   ],
   "source": [
    "A6"
   ]
  },
  {
   "cell_type": "markdown",
   "id": "d767be49-fdb5-4f79-b9b5-4157ef9bad41",
   "metadata": {},
   "source": [
    "### Number 8 (A7 & A8)"
   ]
  },
  {
   "cell_type": "code",
   "execution_count": 21,
   "id": "7f5844aa-8cd2-4a1c-baa0-23e6705f5711",
   "metadata": {},
   "outputs": [],
   "source": [
    "e1 = np.ones(n)\n",
    "e1_p = np.ones(p)\n",
    "\n",
    "M = scipy.sparse.spdiags([e1,-2*e1,e1], [-1,0,1],n,n, format = 'csc')\n",
    "M_256 = scipy.sparse.spdiags([e1_p,-2*e1_p,e1_p], [-1,0,1],p,p, format = 'csc')\n",
    "\n",
    "M[0,n-1] = 1\n",
    "M[n-1,0] = 1\n",
    "\n",
    "M_256[0,p-1] = 1\n",
    "M_256[p-1,0] = 1"
   ]
  },
  {
   "cell_type": "code",
   "execution_count": 22,
   "id": "75b597ad-ab08-44fb-bcdf-49caf47a20c7",
   "metadata": {},
   "outputs": [],
   "source": [
    "B = (scipy.sparse.eye(n) - ((CFL/2)*M))\n",
    "C = (scipy.sparse.eye(n) + ((CFL/2)*M))\n",
    "\n",
    "B_256 = (scipy.sparse.eye(p) - ((CFL/2)*M_256))\n",
    "C_256 = (scipy.sparse.eye(p) + ((CFL/2)*M_256))"
   ]
  },
  {
   "cell_type": "code",
   "execution_count": 23,
   "id": "ce2b422b-ec69-40f5-aeda-36fc814d7000",
   "metadata": {},
   "outputs": [],
   "source": [
    "A7 = B.todense()\n",
    "A8 = C.todense()\n",
    "\n",
    "A7_256 = B_256.todense()\n",
    "A8_256 = C_256.todense()"
   ]
  },
  {
   "cell_type": "markdown",
   "id": "02858410-b875-404f-88f1-ddf7233b66c7",
   "metadata": {},
   "source": [
    "### Number 9 (A9)"
   ]
  },
  {
   "cell_type": "code",
   "execution_count": 24,
   "id": "2820dd22-0016-4071-bdd1-165b418d5fd7",
   "metadata": {},
   "outputs": [],
   "source": [
    "#initialize \n",
    "Time = 2\n",
    "L = 10\n",
    "n = 128 \n",
    "x2 = np.linspace(-L, L, n+1)\n",
    "x = x2[0:n]\n",
    "dx = x[1]-x[0]\n",
    "\n",
    "#time \n",
    "t = np.linspace(0, Time, 501)\n",
    "dt = t[1] - t[0]\n",
    "time_steps = int(Time/dt)"
   ]
  },
  {
   "cell_type": "code",
   "execution_count": 25,
   "id": "dc18e14a-c511-400f-bc49-9e47536f2d45",
   "metadata": {},
   "outputs": [],
   "source": [
    "def PLU(n):\n",
    "    A = scipy.sparse.linalg.inv(B)*C\n",
    "    PLU = scipy.sparse.linalg.splu(A)\n",
    "    \n",
    "    usol_plu = np.zeros((len(x),len(t))) #placeholder for solution - more effcient\n",
    "    u0 = (10*np.cos((2*np.pi*x)/L) + 30*np.cos((8*np.pi*x)/L)).T\n",
    "    usol_plu[:,0] = u0\n",
    "\n",
    "    start = time.time()\n",
    "    for j in range(time_steps):\n",
    "        u1 = PLU.solve(u0)\n",
    "        u0 = u1 \n",
    "        usol_plu[:,j+1] = u1\n",
    "\n",
    "    end = time.time()\n",
    "    # print(end-start)\n",
    "    \n",
    "    return usol_plu"
   ]
  },
  {
   "cell_type": "code",
   "execution_count": 26,
   "id": "2ebf511c-afdc-4283-a5c7-92f9664d814f",
   "metadata": {},
   "outputs": [],
   "source": [
    "# #plotting x and t \n",
    "# fig,ax = plt.subplots(1,1)\n",
    "# T,X = np.meshgrid(t,x)\n",
    "# cp=ax.pcolor(x,t,PLU(128).T,cmap=\"magma\",shading = 'auto')\n",
    "# fig.colorbar(cp)\n",
    "# plt.show()"
   ]
  },
  {
   "cell_type": "code",
   "execution_count": 27,
   "id": "8310b7d5-bc48-4694-a726-7ea10fc83480",
   "metadata": {},
   "outputs": [
    {
     "name": "stderr",
     "output_type": "stream",
     "text": [
      "/Users/annahuang/opt/anaconda3/lib/python3.9/site-packages/scipy/sparse/linalg/dsolve/linsolve.py:318: SparseEfficiencyWarning: splu requires CSC matrix format\n",
      "  warn('splu requires CSC matrix format', SparseEfficiencyWarning)\n",
      "/Users/annahuang/opt/anaconda3/lib/python3.9/site-packages/scipy/sparse/linalg/dsolve/linsolve.py:215: SparseEfficiencyWarning: spsolve is more efficient when sparse b is in the CSC matrix format\n",
      "  warn('spsolve is more efficient when sparse b '\n"
     ]
    }
   ],
   "source": [
    "A9 = PLU(128)[:,-1].reshape(128,1)"
   ]
  },
  {
   "cell_type": "markdown",
   "id": "a2ce962c-d5fd-4a5e-b250-7cf7d048d780",
   "metadata": {},
   "source": [
    "### Number 10 (A10)"
   ]
  },
  {
   "cell_type": "code",
   "execution_count": 28,
   "id": "8097a201-641f-40fa-98b3-3dab8022037f",
   "metadata": {},
   "outputs": [],
   "source": [
    "#initialize \n",
    "Time = 2\n",
    "L = 10\n",
    "n = 128 \n",
    "x2 = np.linspace(-L, L, n+1)\n",
    "x = x2[0:n]\n",
    "dx = x[1]-x[0]\n",
    "\n",
    "#time \n",
    "t = np.linspace(0, Time, 501)\n",
    "dt = t[1] - t[0]\n",
    "time_steps = int(Time/dt)"
   ]
  },
  {
   "cell_type": "code",
   "execution_count": 29,
   "id": "6baec7cc-3149-4494-b712-a9ef2e7e939b",
   "metadata": {},
   "outputs": [],
   "source": [
    "usol_bic =np.zeros((len(x),len(t))) #placeholder for solution - more effcient\n",
    "u0 = (10*np.cos((2*np.pi*x)/L) + 30*np.cos((8*np.pi*x)/L)).T\n",
    "usol_bic[:,0] = u0\n",
    "\n",
    "start = time.time()\n",
    "\n",
    "for j in range(time_steps):\n",
    "    u1,info= scipy.sparse.linalg.bicgstab(A,u0,x0 = u0)\n",
    "    u0=u1\n",
    "    usol_bic[:,j+1] = u1\n",
    "\n",
    "end = time.time()\n",
    "# print(end-start)\n",
    "\n",
    "# #plotting x and t \n",
    "# fig,ax = plt.subplots(1,1)\n",
    "# T,X = np.meshgrid(t,x)\n",
    "# cp=ax.pcolor(x,t,usol_bic.T,cmap=\"magma\",shading = 'auto') # point out instability for Time = 10\n",
    "# fig.colorbar(cp)\n",
    "# plt.show()"
   ]
  },
  {
   "cell_type": "code",
   "execution_count": 30,
   "id": "9d45cd15-a303-42d6-a0e9-6bc3171d611e",
   "metadata": {},
   "outputs": [],
   "source": [
    "A10 = usol_bic[:,-1].reshape(128,1)"
   ]
  },
  {
   "cell_type": "markdown",
   "id": "d0b8f791-5799-4e1f-a66b-c18231abd918",
   "metadata": {},
   "source": [
    "### Number 11 (A11 & A12)"
   ]
  },
  {
   "cell_type": "code",
   "execution_count": 31,
   "id": "652f82ec-27b7-4695-811e-8abf445a6df3",
   "metadata": {},
   "outputs": [],
   "source": [
    "exact_128 = np.genfromtxt(\"exact_128.csv\", delimiter=',')"
   ]
  },
  {
   "cell_type": "code",
   "execution_count": 32,
   "id": "ebf9de07-d5e2-4302-a806-d8c5ce7b5187",
   "metadata": {},
   "outputs": [],
   "source": [
    "A11 = np.linalg.norm(exact_128-A5)"
   ]
  },
  {
   "cell_type": "code",
   "execution_count": 33,
   "id": "f36d771d-a778-4754-ba4c-37ae1c613fb4",
   "metadata": {},
   "outputs": [
    {
     "data": {
      "text/plain": [
       "5.1091497362223745e+132"
      ]
     },
     "execution_count": 33,
     "metadata": {},
     "output_type": "execute_result"
    }
   ],
   "source": [
    "A11"
   ]
  },
  {
   "cell_type": "code",
   "execution_count": 34,
   "id": "6c3ce1e0-11dd-4082-a2ad-9cce5417708e",
   "metadata": {},
   "outputs": [],
   "source": [
    "A12 = np.linalg.norm(exact_128-A9)"
   ]
  },
  {
   "cell_type": "code",
   "execution_count": 35,
   "id": "53ca5477-b4ca-4bbd-94e3-afff8b4f8fef",
   "metadata": {},
   "outputs": [
    {
     "data": {
      "text/plain": [
       "nan"
      ]
     },
     "execution_count": 35,
     "metadata": {},
     "output_type": "execute_result"
    }
   ],
   "source": [
    "A12"
   ]
  },
  {
   "cell_type": "markdown",
   "id": "f13fb05b-0db8-46ef-abbb-89488623de15",
   "metadata": {},
   "source": [
    "### Number 12 (A13 & A14)"
   ]
  },
  {
   "cell_type": "code",
   "execution_count": 36,
   "id": "d8e1165a-b5b4-4a1e-8f1c-d07551ce1080",
   "metadata": {},
   "outputs": [],
   "source": [
    "#initialize \n",
    "Time = 2\n",
    "L = 10\n",
    "p = 256\n",
    "x2 = np.linspace(-L, L, p+1)\n",
    "x = x2[0:p]\n",
    "dx = x[1]-x[0]\n",
    "\n",
    "#time \n",
    "t = np.linspace(0, Time, 501)\n",
    "dt = t[1] - t[0]\n",
    "time_steps = int(Time/dt)"
   ]
  },
  {
   "cell_type": "code",
   "execution_count": 37,
   "id": "86364617-d781-4f6d-913f-3083ed725d07",
   "metadata": {},
   "outputs": [],
   "source": [
    "#Forward Euler \n",
    "usol_fe = np.zeros((len(x), len(t)))\n",
    "u0 = (10*np.cos((2*np.pi*x)/L) + 30*np.cos((8*np.pi*x)/L)).T\n",
    "usol_fe[:,0] = u0\n",
    "    \n",
    "u1 = u0\n",
    "for j in range(time_steps):\n",
    "    u2 = u1 + 0.5*CFL*A_256@u1\n",
    "    u1 = u2\n",
    "    usol_fe[:,j+1] = u2\n",
    "     \n",
    "# # plotting \n",
    "# fig, ax = plt.subplots(1,1)\n",
    "# T, X = np.meshgrid(t,x)\n",
    "# cp = ax.pcolor(x, t, usol_fe.T, cmap='magma', shading='auto')\n",
    "# fig.colorbar(cp)\n",
    "# plt.show()\n",
    "\n",
    "A5_256 = usol_fe[:,-1].reshape(256,1)"
   ]
  },
  {
   "cell_type": "code",
   "execution_count": 38,
   "id": "4ecb172b-360d-469f-9116-6b5e10db9630",
   "metadata": {},
   "outputs": [],
   "source": [
    "exact_256 = np.genfromtxt(\"exact_256.csv\", delimiter=',')"
   ]
  },
  {
   "cell_type": "code",
   "execution_count": 39,
   "id": "32ad9212-f92e-47d8-aaf1-0428e97a6ea0",
   "metadata": {},
   "outputs": [],
   "source": [
    "A13 = np.linalg.norm(exact_256-A5_256)"
   ]
  },
  {
   "cell_type": "code",
   "execution_count": 40,
   "id": "4ed98b48-280f-4376-afc7-86beca944330",
   "metadata": {},
   "outputs": [],
   "source": [
    "#initialize \n",
    "Time = 2\n",
    "L = 10\n",
    "p = 256\n",
    "x2 = np.linspace(-L, L, p+1)\n",
    "x = x2[0:p]\n",
    "dx = x[1]-x[0]\n",
    "\n",
    "#time \n",
    "t = np.linspace(0, Time, 501)\n",
    "dt = t[1] - t[0]\n",
    "time_steps = int(Time/dt)"
   ]
  },
  {
   "cell_type": "code",
   "execution_count": 45,
   "id": "c08b58cf-16c0-4c64-abcb-1a39fb7d6933",
   "metadata": {},
   "outputs": [],
   "source": [
    "A_256 = scipy.sparse.linalg.inv(B_256)*C_256\n",
    "PLU_256 = scipy.sparse.linalg.splu(A_256)\n",
    "    \n",
    "usol_plu = np.zeros((len(x),len(t))) #placeholder for solution - more effcient\n",
    "u0 = (10*np.cos((2*np.pi*x)/L) + 30*np.cos((8*np.pi*x)/L)).T\n",
    "usol_plu[:,0] = u0\n",
    "\n",
    "start = time.time()\n",
    "for j in range(time_steps):\n",
    "    u1 = PLU_256.solve(u0)\n",
    "    u0 = u1 \n",
    "    usol_plu[:,j+1] = u1\n",
    "\n",
    "end = time.time()\n",
    "# print(end-start)\n",
    "\n",
    "A9_256 = usol_plu[:,-1].reshape(256,1)"
   ]
  },
  {
   "cell_type": "code",
   "execution_count": 46,
   "id": "d2dbbecd-1be0-464c-adc9-cd295034cbdd",
   "metadata": {},
   "outputs": [],
   "source": [
    "A14 = np.linalg.norm(exact_256-A9_256)"
   ]
  }
 ],
 "metadata": {
  "kernelspec": {
   "display_name": "Python 3 (ipykernel)",
   "language": "python",
   "name": "python3"
  },
  "language_info": {
   "codemirror_mode": {
    "name": "ipython",
    "version": 3
   },
   "file_extension": ".py",
   "mimetype": "text/x-python",
   "name": "python",
   "nbconvert_exporter": "python",
   "pygments_lexer": "ipython3",
   "version": "3.9.7"
  }
 },
 "nbformat": 4,
 "nbformat_minor": 5
}
