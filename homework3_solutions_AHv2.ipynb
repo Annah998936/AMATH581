{
 "cells": [
  {
   "cell_type": "code",
   "execution_count": 1,
   "id": "7396293b-a470-4150-ab34-b5cd495a8b5e",
   "metadata": {},
   "outputs": [],
   "source": [
    "import numpy as np\n",
    "import numpy.matlib\n",
    "\n",
    "import matplotlib.pyplot as plt\n",
    "import matplotlib.pylab as plt\n",
    "from matplotlib.pyplot import figure\n",
    "\n",
    "import scipy.integrate\n",
    "from scipy.integrate import solve_ivp\n",
    "from scipy.sparse import csr_matrix, triu, spdiags\n",
    "from scipy.sparse.linalg import spsolve, splu\n",
    "import scipy.sparse\n",
    "\n",
    "# import sys\n",
    "# np.set_printoptions(threshold=sys.maxsize)\n",
    "\n",
    "import time\n",
    "# import warnings\n",
    "# warnings.filterwarnings('ignore')\n",
    "# %matplotlib notebook\n",
    "# %matplotlib widget"
   ]
  },
  {
   "cell_type": "markdown",
   "id": "85d8cea5-d055-4ab2-8df5-01371eab195e",
   "metadata": {},
   "source": [
    "### Problem 1"
   ]
  },
  {
   "cell_type": "markdown",
   "id": "b98bc300-1296-4236-bcb9-9c22df7cfa93",
   "metadata": {},
   "source": [
    "### A1"
   ]
  },
  {
   "cell_type": "code",
   "execution_count": 2,
   "id": "54f79f18-ef76-4a41-9c49-7f412627b0d4",
   "metadata": {},
   "outputs": [],
   "source": [
    "# L = 10 \n",
    "# x_change = np.linspace(-L, L, 200)\n",
    "# deltax = x_change[-1] - x_change[-2]"
   ]
  },
  {
   "cell_type": "code",
   "execution_count": 3,
   "id": "63133bb6-6064-4b7d-aea0-0e1a8cfdc27c",
   "metadata": {},
   "outputs": [],
   "source": [
    "L = 10\n",
    "x = np.arange(-L, L, 0.1)\n",
    "deltax = x[-1] - x[-2]"
   ]
  },
  {
   "cell_type": "code",
   "execution_count": 4,
   "id": "058a1949-2ea3-4e06-b769-128cca79169c",
   "metadata": {},
   "outputs": [],
   "source": [
    "m = 200\n",
    "zero = np.zeros((m))\n",
    "one = np.ones((m))\n",
    "Bin = np.array([-one, zero, one])\n",
    "d = np.array([-1,0,1])\n",
    "A = spdiags(Bin, d, m, m, format = 'csc')"
   ]
  },
  {
   "cell_type": "code",
   "execution_count": 5,
   "id": "6e1e158f-0bd6-4b25-84d9-b01cbd524837",
   "metadata": {},
   "outputs": [
    {
     "name": "stderr",
     "output_type": "stream",
     "text": [
      "/Users/annahuang/opt/anaconda3/lib/python3.9/site-packages/scipy/sparse/_index.py:82: SparseEfficiencyWarning: Changing the sparsity structure of a csc_matrix is expensive. lil_matrix is more efficient.\n",
      "  self._set_intXint(row, col, x.flat[0])\n"
     ]
    }
   ],
   "source": [
    "A[0,-1] = 1\n",
    "A[-1,0] = -1"
   ]
  },
  {
   "cell_type": "code",
   "execution_count": 6,
   "id": "8aee02b6-204f-48d1-8c3a-e947d228b811",
   "metadata": {},
   "outputs": [],
   "source": [
    "A = A/(2*deltax)"
   ]
  },
  {
   "cell_type": "code",
   "execution_count": 7,
   "id": "aeb5d302-da1d-4428-a451-c2d480d74c72",
   "metadata": {},
   "outputs": [],
   "source": [
    "A1 = A.todense().copy()"
   ]
  },
  {
   "cell_type": "code",
   "execution_count": 8,
   "id": "7df67bbe-e345-4850-8484-5bef00b9549d",
   "metadata": {},
   "outputs": [],
   "source": [
    "# plt.spy(A)"
   ]
  },
  {
   "cell_type": "markdown",
   "id": "53ab1eaf-3725-43cf-a179-e01fc64fbb93",
   "metadata": {},
   "source": [
    "### A2"
   ]
  },
  {
   "cell_type": "code",
   "execution_count": 9,
   "id": "fc9770eb-f689-476a-a334-84c867953dac",
   "metadata": {},
   "outputs": [],
   "source": [
    "f = lambda x: np.exp(-(x-5)**2)\n",
    "xp = [-L, L]\n",
    "\n",
    "dt = 0.5\n",
    "term = 10 # t = 10 \n",
    "x = np.arange(-L,L,0.1)\n",
    "N = len(x)\n",
    "\n",
    "x_evals = np.arange(0,term+dt, dt)\n",
    "\n",
    "y0 = f(x)"
   ]
  },
  {
   "cell_type": "code",
   "execution_count": 10,
   "id": "6b39f6d5-725b-4ee7-b3be-282b4a620ef3",
   "metadata": {},
   "outputs": [],
   "source": [
    "# C = -0.5 \n",
    "A_2 = (-0.5*A)"
   ]
  },
  {
   "cell_type": "code",
   "execution_count": 11,
   "id": "73e88137-5ac3-474f-951a-29c623b0ecdc",
   "metadata": {},
   "outputs": [],
   "source": [
    "def PDE(t,x,A):\n",
    "    u_t = A@x\n",
    "    return u_t "
   ]
  },
  {
   "cell_type": "code",
   "execution_count": 12,
   "id": "c877d1e4-3956-41a4-acd2-f9ba111cb504",
   "metadata": {},
   "outputs": [],
   "source": [
    "tic = time.time()\n",
    "sol = solve_ivp(lambda t,x: PDE(t,x,A_2), xp, y0, t_eval = x_evals)\n",
    "toc = time.time()\n",
    "# print(toc-tic)"
   ]
  },
  {
   "cell_type": "code",
   "execution_count": 13,
   "id": "3ae081be-7ba0-4e26-b909-82bd51367881",
   "metadata": {},
   "outputs": [],
   "source": [
    "A2 = sol.y"
   ]
  },
  {
   "cell_type": "code",
   "execution_count": 14,
   "id": "783d0ab2-6521-4de0-99c6-29c9688a8d4c",
   "metadata": {},
   "outputs": [],
   "source": [
    "# A2.shape"
   ]
  },
  {
   "cell_type": "markdown",
   "id": "ff012198-4bd6-4c78-bbbc-7cd8d7ab7ee8",
   "metadata": {
    "tags": []
   },
   "source": [
    "### A3"
   ]
  },
  {
   "cell_type": "code",
   "execution_count": 15,
   "id": "40fe6af9-9eea-4159-b1d9-aee17fa435c7",
   "metadata": {},
   "outputs": [],
   "source": [
    "f = lambda x: np.exp(-(x-5)**2)\n",
    "L = 10 \n",
    "xp = [-L, L]\n",
    "\n",
    "dt = 0.5\n",
    "term = 10 # t = 10 \n",
    "\n",
    "x_evals = np.arange(0,term+dt, dt)\n",
    "\n",
    "y0 = f(x)"
   ]
  },
  {
   "cell_type": "code",
   "execution_count": 16,
   "id": "7c683941-fe5f-497d-8f27-3b9a75e2fdfa",
   "metadata": {},
   "outputs": [],
   "source": [
    "x_range = np.arange(-L,L,0.1)\n",
    "# N = len(x)"
   ]
  },
  {
   "cell_type": "code",
   "execution_count": 17,
   "id": "127f3709-982a-4787-b1e4-542468251bf8",
   "metadata": {
    "tags": []
   },
   "outputs": [],
   "source": [
    "# # define heaviside function \n",
    "\n",
    "# def heavi_func():\n",
    "#     c = ([])\n",
    "\n",
    "#     for x in x_range:\n",
    "#         # c_array = -(1+2*np.sin(5*t)- np.heaviside((x-4),0))\n",
    "#         c_array = np.heaviside((x-4),0)\n",
    "#         c = np.append(c, c_array)\n",
    "        \n",
    "#     return c "
   ]
  },
  {
   "cell_type": "code",
   "execution_count": 18,
   "id": "34b82228-8fc8-4fdf-83c5-45bbde2eab4c",
   "metadata": {},
   "outputs": [],
   "source": [
    "# Rewrite ux as A*u (do this calculation) find the vector that is equal to number of spacial points \n",
    "# c is a vector equal to number of spaital points \n",
    "# element wise multiplcation between c and Au \n",
    "\n",
    "def funcPDE(t,u,A):\n",
    "    \n",
    "    c = ([])\n",
    "    \n",
    "    for x in x_range:\n",
    "        c_array = -(1+2*np.sin(5*t)- np.heaviside((x-4),0))\n",
    "        # c_array = np.heaviside((x-4),0)\n",
    "        c = np.append(c, c_array)\n",
    "        \n",
    "    u_t = np.multiply(c ,A@u) # element wise multipication \n",
    "    # u_t = np.multiply(-heavi_func(),A@u) # element wise multipication \n",
    "    return u_t\n",
    "\n",
    "\n",
    "# def funcPDE(t,u,A):\n",
    "#     c = -(1+2*np.sin(5*t)- np.heaviside((x-4),0))\n",
    "#     A_3 = -(c*A)\n",
    "#     u_t = A_3@u\n",
    "#     return u_t"
   ]
  },
  {
   "cell_type": "code",
   "execution_count": 19,
   "id": "9bcc1260-c41d-4586-8bf8-d87a7f2a45c8",
   "metadata": {},
   "outputs": [],
   "source": [
    "tic = time.time()\n",
    "sol1 = solve_ivp(lambda t,u: funcPDE(t,u,A),xp, y0, t_eval = x_evals)\n",
    "toc = time.time()\n",
    "# print(toc-tic)"
   ]
  },
  {
   "cell_type": "code",
   "execution_count": 20,
   "id": "8b7d275c-5ff1-4cbe-8658-2d5d9a3865ee",
   "metadata": {},
   "outputs": [],
   "source": [
    "A3 = sol1.y"
   ]
  },
  {
   "cell_type": "markdown",
   "id": "b56b8e76-e86b-48b8-91ed-3189965544dc",
   "metadata": {
    "tags": []
   },
   "source": [
    "### Problem 2"
   ]
  },
  {
   "cell_type": "markdown",
   "id": "d817efc5-e746-4121-a87b-6a7b7396552e",
   "metadata": {
    "tags": []
   },
   "source": [
    "### A4"
   ]
  },
  {
   "cell_type": "code",
   "execution_count": 21,
   "id": "e35c1428-777c-4e27-8dfc-37e9b373b35c",
   "metadata": {},
   "outputs": [],
   "source": [
    "# delta x or delta y \n",
    "n = 64\n",
    "L = 10\n",
    "l = np.linspace(-L, L, n+1)\n",
    "dl = l[1]-l[0]"
   ]
  },
  {
   "cell_type": "code",
   "execution_count": 22,
   "id": "688ed039-3cfa-4b11-adbc-0e218111883a",
   "metadata": {},
   "outputs": [],
   "source": [
    "def A(m):\n",
    "\n",
    "    # m = 64 # N value in x and y directions\n",
    "    n = m*m # total size of matrix\n",
    "\n",
    "    e1 = np.ones(n) # vector of ones\n",
    "    Low1 = np.tile(np.concatenate((np.ones(m-1), [0])), (m,)) # Lower diagonal 1\n",
    "    Low2 = np.tile(np.concatenate(([1], np.zeros(m-1))), (m,)) #Lower diagonal 2\n",
    "                                        # Low2 is NOT on the second lower diagonal,\n",
    "                                        # it is just the next lower diagonal we see\n",
    "                                        # in the matrix.\n",
    "\n",
    "    Up1 = np.roll(Low1, 1) # Shift the array for spdiags\n",
    "    Up2 = np.roll(Low2, m-1) # Shift the other array\n",
    "\n",
    "    A = scipy.sparse.spdiags([e1, e1, Low2, Low1, -4*e1, Up1, Up2, e1, e1],\n",
    "                             [-(n-m), -m, -m+1, -1, 0, 1, m-1, m, (n-m)], n, n,format = 'csr')\n",
    "    \n",
    "    return A"
   ]
  },
  {
   "cell_type": "code",
   "execution_count": 23,
   "id": "9c3ea250-3c1e-43a7-9dc6-feef9d577911",
   "metadata": {},
   "outputs": [],
   "source": [
    "# plt.spy(A(4)) # view the matrix structure\n",
    "# plt.show()"
   ]
  },
  {
   "cell_type": "code",
   "execution_count": 24,
   "id": "bd208a36-06e7-4852-bf6d-2450d363d338",
   "metadata": {},
   "outputs": [],
   "source": [
    "# A(64)[0,0] = 2\n",
    "A = A(64)\n",
    "A[0,0] = 2\n",
    "A = A/(dl**2)"
   ]
  },
  {
   "cell_type": "code",
   "execution_count": 25,
   "id": "849a8661-8aee-424b-8448-06b5f2632626",
   "metadata": {},
   "outputs": [],
   "source": [
    "A4 = np.copy(A.toarray())"
   ]
  },
  {
   "cell_type": "code",
   "execution_count": 26,
   "id": "b9bd4b6f-3491-446b-bb6f-5485addfcd78",
   "metadata": {},
   "outputs": [],
   "source": [
    "# print(A.toarray()[0:10,0:10])"
   ]
  },
  {
   "cell_type": "markdown",
   "id": "020f0f86-1436-4c07-977a-83335e153c2f",
   "metadata": {},
   "source": [
    "### A5"
   ]
  },
  {
   "cell_type": "code",
   "execution_count": 27,
   "id": "b97c1aee-466b-46db-9f28-4091cd4631f3",
   "metadata": {},
   "outputs": [],
   "source": [
    "def B(m):\n",
    "    # m = 5\n",
    "    n = m*m\n",
    "    e1_B = np.ones((n)).T # vector of ones\n",
    "\n",
    "    d_B = np.array([-((m**2)-m), - m, m, (m**2)-m])\n",
    "    Bin_B = np.array([e1_B, -e1_B, e1_B, -e1_B])\n",
    "\n",
    "\n",
    "    B = spdiags(Bin_B,d_B, n, n, format = 'csc')\n",
    "    B = B/(2 * dl)\n",
    "    return B"
   ]
  },
  {
   "cell_type": "code",
   "execution_count": 28,
   "id": "c336bc52-f7d8-4924-87de-b49b70c58dc6",
   "metadata": {},
   "outputs": [],
   "source": [
    "B = B(64)"
   ]
  },
  {
   "cell_type": "code",
   "execution_count": 29,
   "id": "7b1a2e33-6440-4bfc-9063-45d60894867b",
   "metadata": {},
   "outputs": [],
   "source": [
    "A5 = np.copy(B.toarray())"
   ]
  },
  {
   "cell_type": "code",
   "execution_count": 30,
   "id": "6d31bef0-8657-497f-aa90-ff017983bd03",
   "metadata": {},
   "outputs": [],
   "source": [
    "# plt.spy(B(4))\n",
    "# plt.show()"
   ]
  },
  {
   "cell_type": "code",
   "execution_count": 31,
   "id": "f26298b1-16d8-4d72-a9cc-7df746aaa998",
   "metadata": {},
   "outputs": [],
   "source": [
    "# print(B.toarray()[64:66,0:2])"
   ]
  },
  {
   "cell_type": "markdown",
   "id": "dc9a102a-1db2-49ce-8243-41c8fd967fd7",
   "metadata": {},
   "source": [
    "### A6"
   ]
  },
  {
   "cell_type": "code",
   "execution_count": 32,
   "id": "8d6d64d0-2d55-4efc-96f6-6b66bcd84c68",
   "metadata": {},
   "outputs": [],
   "source": [
    "def C(m):\n",
    "    # m = 5 \n",
    "    n = m*m\n",
    "\n",
    "    e1_C = np.ones(n) # vector of ones\n",
    "    Low1_C = np.tile(np.concatenate((np.ones(m-1), [0])), (m,)) # Lower diagonal 1\n",
    "    Low2_C = np.tile(np.concatenate(([1], np.zeros(m-1))), (m,)) #Lower diagonal 2\n",
    "\n",
    "    Up1_C = np.roll(Low1_C, 1) \n",
    "    Up2_C = np.roll(Low2_C, m-1)\n",
    "\n",
    "    C = scipy.sparse.spdiags([Low2_C, -Low1_C, Up1_C, -Up2_C],\n",
    "                            [-m+1, -1, 1, m-1], n, n,format = 'csc')\n",
    "    C = C/(2 * dl)\n",
    "    return C\n",
    "# plt.spy(C(5))\n",
    "# plt.show()"
   ]
  },
  {
   "cell_type": "code",
   "execution_count": 33,
   "id": "f720eb57-85da-40cf-9ccd-a926605feb0d",
   "metadata": {},
   "outputs": [],
   "source": [
    "C = C(64)"
   ]
  },
  {
   "cell_type": "code",
   "execution_count": 34,
   "id": "5ccb89c8-3fe2-425c-9464-dae1dbe30af8",
   "metadata": {},
   "outputs": [],
   "source": [
    "A6 = np.copy(C.toarray())"
   ]
  },
  {
   "cell_type": "code",
   "execution_count": 35,
   "id": "3b87bc40-3777-496f-a15a-33b65aa342e0",
   "metadata": {},
   "outputs": [],
   "source": [
    "# print(C.toarray()[0:18,0:18])"
   ]
  },
  {
   "cell_type": "markdown",
   "id": "4e5eeb95-b138-4f67-8260-fb204773800c",
   "metadata": {
    "tags": []
   },
   "source": [
    "### A7"
   ]
  },
  {
   "cell_type": "code",
   "execution_count": 36,
   "id": "c9a411c9",
   "metadata": {},
   "outputs": [],
   "source": [
    "v = 0.001\n",
    "L = 10\n",
    "xp = [0, 4]\n",
    "\n",
    "# time\n",
    "t_evals = np.linspace(0,4,9)\n",
    "dt = 0.5\n",
    "\n",
    "# delta x or delta y \n",
    "n = 64\n",
    "l = np.linspace(-L, L, n+1)\n",
    "dl = l[1]-l[0]"
   ]
  },
  {
   "cell_type": "code",
   "execution_count": 37,
   "id": "dae77eea-3db4-4092-84b1-f0009437b465",
   "metadata": {},
   "outputs": [],
   "source": [
    "# # initial conditions \n",
    "# for x and y (1 - 64)\n",
    "\n",
    "w0 = np.array([])\n",
    "\n",
    "for x in range(1, 65):\n",
    "    for y in range(1, 65):\n",
    "        k = np.exp(-2*(x**2) - ((y**2)/20))\n",
    "        w0 = np.append(w0,k)"
   ]
  },
  {
   "cell_type": "code",
   "execution_count": 38,
   "id": "d99cf54e-4499-4296-ae92-6b7bcc7a7736",
   "metadata": {},
   "outputs": [],
   "source": [
    "def func_ivp(t, w):\n",
    "    \n",
    "    v = 0.001\n",
    "    \n",
    "    # update psi \n",
    "    psi = scipy.sparse.linalg.spsolve(A, w)\n",
    "    \n",
    "    dw = (v*A@w) - ((B@psi)*(C@w)) + ((C@psi)*(B@w))\n",
    "    \n",
    "    return dw "
   ]
  },
  {
   "cell_type": "code",
   "execution_count": 39,
   "id": "6d2732b8-0e53-43fc-a38c-39bb7205e422",
   "metadata": {},
   "outputs": [],
   "source": [
    "sol = scipy.integrate.solve_ivp(lambda t, w: func_ivp(t, w), xp, w0, t_eval = t_evals)"
   ]
  },
  {
   "cell_type": "code",
   "execution_count": 40,
   "id": "5e578c45-070a-4d2a-a80e-cc018421e435",
   "metadata": {},
   "outputs": [],
   "source": [
    "A7 = sol.y.T"
   ]
  },
  {
   "cell_type": "markdown",
   "id": "4e38d177-ba6a-4986-8f00-116c8e455775",
   "metadata": {
    "tags": []
   },
   "source": [
    "### A8"
   ]
  },
  {
   "cell_type": "code",
   "execution_count": 41,
   "id": "16e9f236-77dd-4157-984b-7b107fd7f724",
   "metadata": {},
   "outputs": [],
   "source": [
    "v = 0.001\n",
    "L = 10\n",
    "xp = [0, 4]\n",
    "\n",
    "# time\n",
    "t_evals = np.linspace(0,4,9)\n",
    "dt = 0.5\n",
    "\n",
    "# delta x or delta y \n",
    "n = 64\n",
    "l = np.linspace(-L, L, n+1)\n",
    "dl = l[1]-l[0]"
   ]
  },
  {
   "cell_type": "code",
   "execution_count": 42,
   "id": "64e84a85-3b7d-4cd9-97c5-e1b05584957e",
   "metadata": {},
   "outputs": [],
   "source": [
    "# # initial conditions \n",
    "# for x and y (1 - 64)\n",
    "\n",
    "w0 = np.array([])\n",
    "\n",
    "for x in range(1, 65):\n",
    "    for y in range(1, 65):\n",
    "        k = np.exp(-2*(x**2) - ((y**2)/20))\n",
    "        w0 = np.append(w0,k)"
   ]
  },
  {
   "cell_type": "code",
   "execution_count": 43,
   "id": "b07de5c1-d708-43b5-bc7a-7e48db49fe04",
   "metadata": {},
   "outputs": [],
   "source": [
    "P,L,U = scipy.linalg.lu(A.todense())\n",
    "\n",
    "def func_ivp_plu(t, w):\n",
    "    \n",
    "    v = 0.001\n",
    "    \n",
    "    # update psi \n",
    "    y = np.linalg.solve(L,P.T@w)\n",
    "    psi = np.linalg.solve(U,y)\n",
    "    \n",
    "    dw = (v*A@w) - ((B@psi)*(C@w)) + ((C@psi)*(B@w))\n",
    "    \n",
    "    return dw "
   ]
  },
  {
   "cell_type": "code",
   "execution_count": 44,
   "id": "439f71f4-1a07-4c50-9143-38d7203b803c",
   "metadata": {},
   "outputs": [],
   "source": [
    "sol2 = scipy.integrate.solve_ivp(lambda t, w: func_ivp(t, w), xp, w0, t_eval = t_evals)"
   ]
  },
  {
   "cell_type": "code",
   "execution_count": 45,
   "id": "90c8f638-d780-4a46-9498-faf8d0308453",
   "metadata": {},
   "outputs": [],
   "source": [
    "A8 = sol2.y.T"
   ]
  },
  {
   "cell_type": "markdown",
   "id": "e509a473-d95b-46ea-a8e3-4345b09c403d",
   "metadata": {},
   "source": [
    "### A9"
   ]
  },
  {
   "cell_type": "code",
   "execution_count": 46,
   "id": "fc1d6564-e7d0-4f36-aac9-d2690897d4c3",
   "metadata": {},
   "outputs": [],
   "source": [
    "q = sol2.y[:,0].reshape(64,64)"
   ]
  },
  {
   "cell_type": "code",
   "execution_count": 47,
   "id": "17ced87d-d6ba-4640-90df-f6f221a4e81b",
   "metadata": {},
   "outputs": [],
   "source": [
    "w = sol2.y[:,1].reshape(64, 64)"
   ]
  },
  {
   "cell_type": "code",
   "execution_count": 48,
   "id": "7d2592c6-f116-420f-a4c1-2c1ccea81a3d",
   "metadata": {},
   "outputs": [],
   "source": [
    "e = sol2.y[:,2].reshape(64, 64)"
   ]
  },
  {
   "cell_type": "code",
   "execution_count": 49,
   "id": "226d28d6-e369-403c-8782-0bfb486ad60d",
   "metadata": {},
   "outputs": [],
   "source": [
    "r = sol2.y[:,3].reshape(64, 64)"
   ]
  },
  {
   "cell_type": "code",
   "execution_count": 50,
   "id": "1c8e2111-b971-491e-8284-c6adfb3f47f3",
   "metadata": {},
   "outputs": [],
   "source": [
    "t = sol2.y[:,4].reshape(64, 64)"
   ]
  },
  {
   "cell_type": "code",
   "execution_count": 51,
   "id": "f1718e87-37ee-4f6d-9ccd-8b03e62900db",
   "metadata": {},
   "outputs": [],
   "source": [
    "y = sol2.y[:,5].reshape(64, 64)"
   ]
  },
  {
   "cell_type": "code",
   "execution_count": 52,
   "id": "4ce862ae-d1ab-46d7-80c0-f2b680ae7607",
   "metadata": {},
   "outputs": [],
   "source": [
    "u = sol2.y[:,6].reshape(64, 64)"
   ]
  },
  {
   "cell_type": "code",
   "execution_count": 53,
   "id": "452014b4-dceb-4536-93be-de95e35fae7f",
   "metadata": {},
   "outputs": [],
   "source": [
    "i = sol2.y[:,6].reshape(64, 64)"
   ]
  },
  {
   "cell_type": "code",
   "execution_count": 54,
   "id": "7638bbda-424b-47e6-b3a3-3079c18971f5",
   "metadata": {},
   "outputs": [],
   "source": [
    "o = sol2.y[:,6].reshape(64, 64)"
   ]
  },
  {
   "cell_type": "code",
   "execution_count": 55,
   "id": "e131ef02-234a-454a-8bbf-3b66dcc6a9eb",
   "metadata": {},
   "outputs": [],
   "source": [
    "A9 = np.stack([q,w,e,r,t,y,u,i,o])"
   ]
  },
  {
   "cell_type": "code",
   "execution_count": 56,
   "id": "bc7bf7be-e892-4be2-908d-fe89377f3e21",
   "metadata": {},
   "outputs": [],
   "source": [
    "# stack = np.array([])\n",
    "\n",
    "# for r in range(0,2):\n",
    "#     d = sol1.y[:,r].reshape(64,64)\n",
    "#     np.stack\n",
    "    "
   ]
  }
 ],
 "metadata": {
  "kernelspec": {
   "display_name": "Python 3 (ipykernel)",
   "language": "python",
   "name": "python3"
  },
  "language_info": {
   "codemirror_mode": {
    "name": "ipython",
    "version": 3
   },
   "file_extension": ".py",
   "mimetype": "text/x-python",
   "name": "python",
   "nbconvert_exporter": "python",
   "pygments_lexer": "ipython3",
   "version": "3.9.7"
  }
 },
 "nbformat": 4,
 "nbformat_minor": 5
}
