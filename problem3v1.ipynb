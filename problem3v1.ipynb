{
 "cells": [
  {
   "cell_type": "code",
   "execution_count": 1,
   "id": "2b86f005",
   "metadata": {
    "scrolled": true
   },
   "outputs": [],
   "source": [
    "import numpy as np\n",
    "from numpy.linalg import norm\n",
    "import matplotlib.pyplot as plt\n",
    "import scipy.integrate\n",
    "from matplotlib.pyplot import figure"
   ]
  },
  {
   "cell_type": "code",
   "execution_count": 2,
   "id": "be90f1cf",
   "metadata": {},
   "outputs": [],
   "source": [
    "import sys\n",
    "np.set_printoptions(threshold=sys.maxsize)"
   ]
  },
  {
   "cell_type": "markdown",
   "id": "4bb48bc0",
   "metadata": {},
   "source": [
    "### Problem 3"
   ]
  },
  {
   "cell_type": "code",
   "execution_count": 3,
   "id": "d6aa0a0c",
   "metadata": {},
   "outputs": [],
   "source": [
    "# Define the function\n",
    "def rhs_ivp(x, y, ep, gamma):\n",
    "    f1 = y[1]\n",
    "    f2 = ((gamma*np.abs(y[0])**2)+x**2 - ep) * y[0]\n",
    "    \n",
    "    return np.array([f1,f2])"
   ]
  },
  {
   "cell_type": "code",
   "execution_count": 4,
   "id": "7b16f3d8",
   "metadata": {},
   "outputs": [],
   "source": [
    "# Define some constants \n",
    "K = 1\n",
    "L = 3\n",
    "ep_start = 0\n",
    "tol = 10**(-5) \n",
    "\n",
    "xp = [-L, L]\n",
    "x_span = np.linspace(-L,L,20*L+1) \n",
    "gamma = -0.05\n",
    "\n",
    "ep = ep_start\n",
    "dep = K/100"
   ]
  },
  {
   "cell_type": "code",
   "execution_count": 5,
   "id": "6bba0099",
   "metadata": {},
   "outputs": [],
   "source": [
    "# Define our initial conditions \n",
    "A = 0.000001 # This will change\n",
    "# y0 = np.array([A,(((gamma*(A**2) + (K*L**2) - ep))**.5)*(A**2)])\n",
    "y0 = np.array([A,((((K*L**2) - ep))**.5)*(A)])"
   ]
  },
  {
   "cell_type": "code",
   "execution_count": 6,
   "id": "376b53d9",
   "metadata": {},
   "outputs": [],
   "source": [
    "A15 = np.array([])\n",
    "Eigenfunctions = {}\n",
    "\n",
    "for modes in range(2):\n",
    "    ep = ep_start\n",
    "    dep = K/100\n",
    "    \n",
    "    for j in range(1000): # using for loop to make sure it stops. \n",
    "        # update initial condition\n",
    "        y0 = np.array([A,((((K*L**2) - ep))**.5)*(A)])\n",
    "        \n",
    "        # solve ODE \n",
    "        sol = scipy.integrate.solve_ivp(lambda x,y: rhs_ivp(x,y,ep,gamma), xp, y0, t_eval = x_span)\n",
    "        y_sol = sol.y[0,:] # f1 \n",
    "        y_sol_dx = sol.y[1,:] #f2\n",
    "        \n",
    "        # define/compute norm and boundary conditions \n",
    "        norm = np.abs(scipy.integrate.trapz(y_sol**2,x_span)) #norm\n",
    "        norm_tol = np.abs(scipy.integrate.trapz(y_sol**2,x_span)-1)\n",
    "        boundary = np.abs(y_sol_dx[-1] + (((K*L**2)-ep)**.5)*y_sol[-1]) # same bc as problem 1 and 2. \n",
    "#         boundary = np.abs(y_sol_dx[-1] + (((gamma*np.abs(y_sol[-1])**2)+(K*L**2)-ep)**.5)*y_sol[-1])\n",
    "        \n",
    "# Norm Shooting \n",
    "        \n",
    "        #if norm and boundary condiiton met, break, else A = A/sqrt(norm)\n",
    "        if boundary < tol and norm_tol < tol:\n",
    "            break\n",
    "        else:\n",
    "            A = A/np.sqrt(norm)\n",
    "#             print('norm:', norm)\n",
    "#             print('A:', A)\n",
    "             \n",
    "# BC Shooting\n",
    "        \n",
    "        # update initial condition with new A \n",
    "        y0 = np.array([A,((((K*L**2) - ep))**.5)*(A)])\n",
    "        \n",
    "        # solve ODE \n",
    "        sol = scipy.integrate.solve_ivp(lambda x,y: rhs_ivp(x,y,ep,gamma), xp, y0, t_eval = x_span)\n",
    "        y_sol = sol.y[0,:] # f1 \n",
    "        y_sol_dx = sol.y[1,:] #f2 \n",
    "        \n",
    "        # define/compute norm and boundary conditions \n",
    "        norm = np.abs(scipy.integrate.trapz(y_sol**2,x_span)) #norm\n",
    "        norm_tol = np.abs(scipy.integrate.trapz(y_sol**2,x_span)-1)\n",
    "        boundary = np.abs(y_sol_dx[-1] + (((K*L**2)-ep)**.5)*y_sol[-1])\n",
    "        \n",
    "        if boundary < tol and norm_tol < tol:\n",
    "            break\n",
    "            \n",
    "        if (-1)**(modes)*(y_sol_dx[-1] + (((K*L**2)-ep)**.5)*y_sol[-1]) > tol:\n",
    "            ep = ep + dep # Increase \n",
    "        else:\n",
    "            ep = ep - dep/2 # Decrease \n",
    "            dep = dep/2 # Cut dep in half to make sure we converge\n",
    "    \n",
    "    ep_start = ep + 0.1 \n",
    "    A = A\n",
    "\n",
    "    A15 = np.append(A15, ep)\n",
    "    Eigenfunctions[modes] = y_sol"
   ]
  },
  {
   "cell_type": "code",
   "execution_count": 7,
   "id": "c35458c4",
   "metadata": {},
   "outputs": [
    {
     "data": {
      "text/plain": [
       "array([[0.97994629, 2.98324341]])"
      ]
     },
     "execution_count": 7,
     "metadata": {},
     "output_type": "execute_result"
    }
   ],
   "source": [
    "A15 = A15.reshape(1,2)\n",
    "A15"
   ]
  },
  {
   "cell_type": "code",
   "execution_count": 8,
   "id": "9ea0ac3c",
   "metadata": {},
   "outputs": [
    {
     "data": {
      "text/plain": [
       "<matplotlib.legend.Legend at 0x7fdc1a5d2d00>"
      ]
     },
     "execution_count": 8,
     "metadata": {},
     "output_type": "execute_result"
    },
    {
     "data": {
      "image/png": "[encoded data removed]",
      "text/plain": [
       "<Figure size 432x288 with 1 Axes>"
      ]
     },
     "metadata": {
      "needs_background": "light"
     },
     "output_type": "display_data"
    }
   ],
   "source": [
    "plt.plot(sol.t, y_sol, linewidth=2, label = modes)\n",
    "plt.plot(sol.t, 0*sol.t, 'k')\n",
    "plt.legend(loc=\"lower right\")"
   ]
  },
  {
   "cell_type": "code",
   "execution_count": 9,
   "id": "87897a71",
   "metadata": {},
   "outputs": [],
   "source": [
    "A13 = Eigenfunctions[0]\n",
    "A14 = Eigenfunctions[1]"
   ]
  },
  {
   "cell_type": "code",
   "execution_count": 10,
   "id": "2e66b8c4",
   "metadata": {
    "scrolled": true
   },
   "outputs": [
    {
     "data": {
      "text/plain": [
       "array([0.008511  , 0.01128725, 0.01490342, 0.01954599, 0.0254252 ,\n",
       "       0.03277117, 0.04184308, 0.05292374, 0.06628958, 0.0822095 ,\n",
       "       0.10093409, 0.1227037 , 0.14770869, 0.17604875, 0.20773277,\n",
       "       0.24267894, 0.28073224, 0.32153215, 0.36455597, 0.40917894,\n",
       "       0.45467417, 0.50021272, 0.54486352, 0.58759378, 0.62738712,\n",
       "       0.6631755 , 0.6939366 , 0.71881954, 0.73714495, 0.74840487,\n",
       "       0.75226284, 0.74855384, 0.73730925, 0.71893636, 0.69406218,\n",
       "       0.6634059 , 0.6277779 , 0.5880798 , 0.5453044 , 0.50053573,\n",
       "       0.45491945, 0.40938681, 0.36474601, 0.32171455, 0.28090613,\n",
       "       0.24283067, 0.20786529, 0.17617367, 0.1478229 , 0.12279871,\n",
       "       0.10100457, 0.08226172, 0.06632586, 0.05295322, 0.04187852,\n",
       "       0.03280299, 0.0254337 , 0.01954786, 0.01491958, 0.01130782,\n",
       "       0.00852563])"
      ]
     },
     "execution_count": 10,
     "metadata": {},
     "output_type": "execute_result"
    }
   ],
   "source": [
    "A13"
   ]
  },
  {
   "cell_type": "code",
   "execution_count": 11,
   "id": "76aaea2a",
   "metadata": {},
   "outputs": [
    {
     "data": {
      "text/plain": [
       "array([ 3.68115020e-02,  4.70025675e-02,  5.97402269e-02,  7.53874192e-02,\n",
       "        9.42827744e-02,  1.16728462e-01,  1.42964637e-01,  1.73170375e-01,\n",
       "        2.07371278e-01,  2.45396371e-01,  2.86878102e-01,  3.31279205e-01,\n",
       "        3.77935430e-01,  4.25516738e-01,  4.72495967e-01,  5.17251615e-01,\n",
       "        5.58067833e-01,  5.93134430e-01,  6.20546869e-01,  6.38306272e-01,\n",
       "        6.44593553e-01,  6.38051400e-01,  6.17470706e-01,  5.82252598e-01,\n",
       "        5.32418065e-01,  4.68607958e-01,  3.92047881e-01,  3.04479635e-01,\n",
       "        2.08158074e-01,  1.05661956e-01, -1.16315965e-04, -1.05970689e-01,\n",
       "       -2.08524766e-01, -3.04962253e-01, -3.92557179e-01, -4.69057432e-01,\n",
       "       -5.32748789e-01, -5.82454912e-01, -6.17561375e-01, -6.38154462e-01,\n",
       "       -6.44834277e-01, -6.38599062e-01, -6.20844508e-01, -5.93363748e-01,\n",
       "       -5.58201723e-01, -5.17285953e-01, -4.72490552e-01, -4.25557334e-01,\n",
       "       -3.78094575e-01, -3.31576935e-01, -2.87224788e-01, -2.45762833e-01,\n",
       "       -2.07702141e-01, -1.73403913e-01, -1.43079473e-01, -1.16784267e-01,\n",
       "       -9.43055468e-02, -7.53915492e-02, -5.97601874e-02, -4.70511061e-02,\n",
       "       -3.68549939e-02])"
      ]
     },
     "execution_count": 11,
     "metadata": {},
     "output_type": "execute_result"
    }
   ],
   "source": [
    "A14"
   ]
  },
  {
   "cell_type": "code",
   "execution_count": 12,
   "id": "d1a8bf94",
   "metadata": {},
   "outputs": [
    {
     "data": {
      "text/plain": [
       "array([[0.97994629, 2.98324341]])"
      ]
     },
     "execution_count": 12,
     "metadata": {},
     "output_type": "execute_result"
    }
   ],
   "source": [
    "A15"
   ]
  }
 ],
 "metadata": {
  "kernelspec": {
   "display_name": "Python 3 (ipykernel)",
   "language": "python",
   "name": "python3"
  },
  "language_info": {
   "codemirror_mode": {
    "name": "ipython",
    "version": 3
   },
   "file_extension": ".py",
   "mimetype": "text/x-python",
   "name": "python",
   "nbconvert_exporter": "python",
   "pygments_lexer": "ipython3",
   "version": "3.9.7"
  }
 },
 "nbformat": 4,
 "nbformat_minor": 5
}
