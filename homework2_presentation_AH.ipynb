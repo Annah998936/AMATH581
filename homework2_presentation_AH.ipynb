{
 "cells": [
  {
   "cell_type": "code",
   "execution_count": 37,
   "id": "2b86f005",
   "metadata": {
    "scrolled": true
   },
   "outputs": [],
   "source": [
    "import numpy as np\n",
    "from numpy.linalg import norm\n",
    "import matplotlib.pyplot as plt\n",
    "import scipy.integrate\n",
    "from matplotlib.pyplot import figure"
   ]
  },
  {
   "cell_type": "code",
   "execution_count": 38,
   "id": "be90f1cf",
   "metadata": {},
   "outputs": [],
   "source": [
    "import sys\n",
    "np.set_printoptions(threshold=sys.maxsize)"
   ]
  },
  {
   "cell_type": "markdown",
   "id": "55579c84",
   "metadata": {},
   "source": [
    "### Problem 1 "
   ]
  },
  {
   "cell_type": "code",
   "execution_count": 39,
   "id": "91a36ae2",
   "metadata": {
    "scrolled": true
   },
   "outputs": [],
   "source": [
    "# Define the function\n",
    "def rhsfunc(x, y, ep):\n",
    "    f1 = y[1]\n",
    "    f2 = (x**2 - ep) * y[0]\n",
    "    \n",
    "    return np.array([f1,f2])"
   ]
  },
  {
   "cell_type": "code",
   "execution_count": 40,
   "id": "81d4eb74",
   "metadata": {
    "scrolled": true
   },
   "outputs": [],
   "source": [
    "# Define some constants \n",
    "K = 1\n",
    "L = 4\n",
    "ep_start = 0\n",
    "tol = 10**(-6) \n",
    "\n",
    "xp = [-L, L]\n",
    "x_evals = np.linspace(-L,L,20*L+1) "
   ]
  },
  {
   "cell_type": "code",
   "execution_count": 41,
   "id": "e60a9251",
   "metadata": {
    "scrolled": true
   },
   "outputs": [],
   "source": [
    "ep = ep_start\n",
    "dep = K/100 "
   ]
  },
  {
   "cell_type": "code",
   "execution_count": 42,
   "id": "68f0523d",
   "metadata": {},
   "outputs": [],
   "source": [
    "# Define our initial conditions \n",
    "y0 = np.array([1,((K*L**2)-ep)**.5])"
   ]
  },
  {
   "cell_type": "code",
   "execution_count": 43,
   "id": "afa623f0",
   "metadata": {
    "scrolled": true
   },
   "outputs": [],
   "source": [
    "A6 = np.array([])\n",
    "A = {}\n",
    "\n",
    "for modes in range(5):\n",
    "    ep = ep_start\n",
    "    dep = K/100\n",
    "    \n",
    "    \n",
    "    for j in range(1000): # using for loop to make sure it stops. \n",
    "        sol = scipy.integrate.solve_ivp(lambda x,y: rhsfunc(x,y,ep), xp, y0, t_eval = x_evals)\n",
    "        y_sol = sol.y[0,:] # f1 \n",
    "        y_sol_dx = sol.y[1,:] #f2 \n",
    "        \n",
    "        # Normalize eigenfunction\n",
    "        y_sol_norm = y_sol/(np.sqrt(scipy.integrate.trapz(y_sol**2, x_evals)))\n",
    "\n",
    "        if np.abs(y_sol_dx[-1] + (((K*L**2)-ep)**.5)*y_sol[-1]) < tol:\n",
    "            print('We got the eigenvalue:', ep)\n",
    "            A6 = np.append(A6, ep)\n",
    "            break \n",
    "\n",
    "        if (-1)**(modes)*(y_sol_dx[-1] + (((K*L**2)-ep)**.5)*y_sol[-1]) > tol:\n",
    "            ep = ep + dep # Increase \n",
    "        else: \n",
    "            ep = ep - dep/2 # Decrease \n",
    "            dep = dep/2 # Cut dep in half to make sure we converge \n",
    "    \n",
    "    A[modes] = y_sol_norm\n",
    "    \n",
    "    ep_start = ep + 0.1\n",
    "    \n",
    "#     print(y_sol_norm)\n",
    "#     plt.plot(sol.t, y_sol_norm, linewidth=2)\n",
    "#     plt.plot(sol.t, sol.y[0, :], linewidth=2)\n",
    "#     plt.plot(sol.t, 0*sol.t, 'k')"
   ]
  },
  {
   "cell_type": "code",
   "execution_count": 44,
   "id": "5adbc2d0",
   "metadata": {},
   "outputs": [],
   "source": [
    "A1 = np.abs(A[0].copy()).reshape(81,1)\n",
    "A2 = np.abs(A[1].copy()).reshape(81,1)\n",
    "A3 = np.abs(A[2].copy()).reshape(81,1)\n",
    "A4 = np.abs(A[3].copy()).reshape(81,1)\n",
    "A5 = np.abs(A[4].copy()).reshape(81,1)"
   ]
  },
  {
   "cell_type": "code",
   "execution_count": 45,
   "id": "57d25d67",
   "metadata": {},
   "outputs": [],
   "source": [
    "A6 = A6.reshape(1,5)"
   ]
  },
  {
   "cell_type": "code",
   "execution_count": null,
   "id": "2f17f4c2",
   "metadata": {},
   "outputs": [],
   "source": [
    "eigenfuncs = np.vstack((A[0],A[1],A[2],A[3],A[4]))\n",
    "eigenfuncs = eigenfuncs.T\n",
    "eigenfuncs.shape"
   ]
  },
  {
   "cell_type": "code",
   "execution_count": null,
   "id": "0ff3ba11",
   "metadata": {},
   "outputs": [],
   "source": [
    "L = 3\n",
    "x = np.linspace(-L, L, 20*L+1)\n",
    "fig, ax = plt.subplots()\n",
    "ax.plot(x, eigenfuncs, linewidth=3)\n",
    "ax.legend([r\"$\\phi_1$\", r\"$\\phi_2$\", r\"$\\phi_3$\", r\"$\\phi_4$\", r\"$\\phi_5$\"])"
   ]
  },
  {
   "cell_type": "code",
   "execution_count": null,
   "id": "e829735f",
   "metadata": {},
   "outputs": [],
   "source": [
    "eigenfuncs[0,:]"
   ]
  },
  {
   "cell_type": "code",
   "execution_count": null,
   "id": "296c70cf",
   "metadata": {},
   "outputs": [],
   "source": [
    "f = np.cos(x**2)"
   ]
  },
  {
   "cell_type": "code",
   "execution_count": null,
   "id": "a07d2cd1",
   "metadata": {},
   "outputs": [],
   "source": [
    "a = np.zeros([1, len(eigenfuncs[0,:])])\n",
    "for j in range(len(eigenfuncs[0,:])):\n",
    "    a[:,j] = np.trapz( eigenfuncs[:, j]*f, x = x)"
   ]
  },
  {
   "cell_type": "code",
   "execution_count": null,
   "id": "6e2631ce",
   "metadata": {},
   "outputs": [],
   "source": [
    "t = np.linspace(0, 5, 100);"
   ]
  },
  {
   "cell_type": "code",
   "execution_count": null,
   "id": "d0bcc43d",
   "metadata": {},
   "outputs": [],
   "source": [
    "part = j*np.outer(eigenvals, t)/2"
   ]
  },
  {
   "cell_type": "code",
   "execution_count": null,
   "id": "f163ff1b",
   "metadata": {},
   "outputs": [],
   "source": []
  },
  {
   "cell_type": "code",
   "execution_count": null,
   "id": "2fb7de4b",
   "metadata": {},
   "outputs": [],
   "source": []
  },
  {
   "cell_type": "code",
   "execution_count": null,
   "id": "ba3cbd34",
   "metadata": {},
   "outputs": [],
   "source": []
  },
  {
   "cell_type": "code",
   "execution_count": null,
   "id": "fe252562",
   "metadata": {},
   "outputs": [],
   "source": []
  },
  {
   "cell_type": "code",
   "execution_count": null,
   "id": "35fb8015",
   "metadata": {},
   "outputs": [],
   "source": []
  },
  {
   "cell_type": "code",
   "execution_count": null,
   "id": "c4396c14",
   "metadata": {},
   "outputs": [],
   "source": []
  },
  {
   "cell_type": "code",
   "execution_count": null,
   "id": "22efd69d",
   "metadata": {},
   "outputs": [],
   "source": []
  },
  {
   "cell_type": "code",
   "execution_count": null,
   "id": "34ed3c97",
   "metadata": {},
   "outputs": [],
   "source": []
  },
  {
   "cell_type": "markdown",
   "id": "4bb48bc0",
   "metadata": {},
   "source": [
    "### Problem 3"
   ]
  },
  {
   "cell_type": "code",
   "execution_count": 66,
   "id": "3c5dc22a",
   "metadata": {},
   "outputs": [],
   "source": [
    "# Define the function\n",
    "def rhs_ivp(x, y, ep, gamma):\n",
    "    f1 = y[1]\n",
    "    f2 = ((gamma*np.abs(y[0])**2)+x**2 - ep) * y[0]\n",
    "    \n",
    "    return np.array([f1,f2])"
   ]
  },
  {
   "cell_type": "code",
   "execution_count": 67,
   "id": "b2385e10",
   "metadata": {},
   "outputs": [],
   "source": [
    "# Define some constants \n",
    "K = 1\n",
    "L = 3\n",
    "tol = 10**(-5) \n",
    "\n",
    "xp = [-L, L]\n",
    "x_span = np.linspace(-L,L,20*L+1) \n",
    "gamma = [0.05, -0.05]"
   ]
  },
  {
   "cell_type": "code",
   "execution_count": 68,
   "id": "a734b172",
   "metadata": {},
   "outputs": [],
   "source": [
    "A15_18 = np.array([])\n",
    "Eigenfunctions_all = np.array([])\n",
    "\n",
    "for gamma in gamma:\n",
    "    A = 0.000001\n",
    "    ep_start = 0j\n",
    "    ep = ep_start\n",
    "    dep = K/100 \n",
    "    y0 = np.array([A,(((K*L**2) - ep)**.5)*(A)])\n",
    "\n",
    "    for modes in range(2):\n",
    "        ep = ep_start\n",
    "        dep = K/100\n",
    "\n",
    "        for j in range(1000): # using for loop to make sure it stops. \n",
    "            # update initial condition\n",
    "            y0 = np.array([A,((((K*L**2) - ep))**.5)*(A)])\n",
    "\n",
    "            # solve ODE \n",
    "            sol = scipy.integrate.solve_ivp(lambda x,y: rhs_ivp(x,y,ep,gamma), xp, y0, t_eval = x_span)\n",
    "            y_sol = sol.y[0,:] # f1 \n",
    "            y_sol_dx = sol.y[1,:] #f2\n",
    "\n",
    "            # define/compute norm and boundary conditions \n",
    "            norm = np.abs(scipy.integrate.trapz(y_sol**2,x_span)) #norm\n",
    "            norm_tol = np.abs(scipy.integrate.trapz(y_sol**2,x_span)-1)\n",
    "            boundary = np.abs(y_sol_dx[-1] + (((K*L**2)-ep)**.5)*y_sol[-1]) # same bc as problem 1 and 2. \n",
    "    #         boundary = np.abs(y_sol_dx[-1] + (((gamma*np.abs(y_sol[-1])**2)+(K*L**2)-ep)**.5)*y_sol[-1])\n",
    "\n",
    "    # Norm Shooting \n",
    "\n",
    "            #if norm and boundary condiiton met, break, else A = A/sqrt(norm)\n",
    "            if boundary < tol and norm_tol < tol:\n",
    "                break\n",
    "            else:\n",
    "                A = A/np.sqrt(norm)\n",
    "    #             print('norm:', norm)\n",
    "    #             print('A:', A)\n",
    "\n",
    "    # BC Shooting\n",
    "\n",
    "            # update initial condition with new A \n",
    "            y0 = np.array([A,((((K*L**2) - ep))**.5)*(A)])\n",
    "\n",
    "            # solve ODE \n",
    "            sol = scipy.integrate.solve_ivp(lambda x,y: rhs_ivp(x,y,ep,gamma), xp, y0, t_eval = x_span)\n",
    "            y_sol = sol.y[0,:] # f1 \n",
    "            y_sol_dx = sol.y[1,:] #f2 \n",
    "\n",
    "            # define/compute norm and boundary conditions \n",
    "            norm = np.abs(scipy.integrate.trapz(y_sol**2,x_span)) #norm\n",
    "            norm_tol = np.abs(scipy.integrate.trapz(y_sol**2,x_span)-1)\n",
    "            boundary = np.abs(y_sol_dx[-1] + (((K*L**2)-ep)**.5)*y_sol[-1])\n",
    "\n",
    "            if boundary < tol and norm_tol < tol:\n",
    "                break\n",
    "\n",
    "            if (-1)**(modes)*(y_sol_dx[-1] + (((K*L**2)-ep)**.5)*y_sol[-1]) > tol:\n",
    "                ep = ep + dep # Increase \n",
    "            else:\n",
    "                ep = ep - dep/2 # Decrease \n",
    "                dep = dep/2 # Cut dep in half to make sure we converge\n",
    "\n",
    "        ep_start = ep + 0.1 \n",
    "        A = A\n",
    "\n",
    "        A15_18 = np.append(A15_18, ep)\n",
    "        Eigenfunctions_all = np.append(Eigenfunctions_all, y_sol)"
   ]
  },
  {
   "cell_type": "code",
   "execution_count": 69,
   "id": "a2545790",
   "metadata": {},
   "outputs": [],
   "source": [
    "A15 = A15_18[0:2].reshape(1,2)\n",
    "A18 = A15_18[2:4].reshape(1,2)\n",
    "\n",
    "# print('eigenvalues for gamma = 0.05', A15)\n",
    "# print('eigenvalues for gamma = 0', A15_18[4:46].reshape(1,2))\n",
    "# print('eigenvalues for gamma = -0.05', A18)"
   ]
  },
  {
   "cell_type": "code",
   "execution_count": 70,
   "id": "dbb19286",
   "metadata": {},
   "outputs": [],
   "source": [
    "A13 = np.abs(Eigenfunctions_all[0:61].reshape(61,1))"
   ]
  },
  {
   "cell_type": "code",
   "execution_count": 71,
   "id": "9126c6fd",
   "metadata": {},
   "outputs": [],
   "source": [
    "A14 = np.abs(Eigenfunctions_all[61:122].reshape(61,1))"
   ]
  },
  {
   "cell_type": "code",
   "execution_count": 72,
   "id": "ca855c72",
   "metadata": {},
   "outputs": [],
   "source": [
    "A16 = np.abs(Eigenfunctions_all[122:183].reshape(61,1))"
   ]
  },
  {
   "cell_type": "code",
   "execution_count": 73,
   "id": "2094d2de",
   "metadata": {},
   "outputs": [],
   "source": [
    "A17 = np.abs(Eigenfunctions_all[183:244].reshape(61,1))"
   ]
  }
 ],
 "metadata": {
  "kernelspec": {
   "display_name": "Python 3 (ipykernel)",
   "language": "python",
   "name": "python3"
  },
  "language_info": {
   "codemirror_mode": {
    "name": "ipython",
    "version": 3
   },
   "file_extension": ".py",
   "mimetype": "text/x-python",
   "name": "python",
   "nbconvert_exporter": "python",
   "pygments_lexer": "ipython3",
   "version": "3.9.7"
  }
 },
 "nbformat": 4,
 "nbformat_minor": 5
}
