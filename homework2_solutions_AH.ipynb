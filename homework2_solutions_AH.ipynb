{
 "cells": [
  {
   "cell_type": "code",
   "execution_count": 1,
   "id": "2b86f005",
   "metadata": {
    "scrolled": true
   },
   "outputs": [],
   "source": [
    "import numpy as np\n",
    "from numpy.linalg import norm\n",
    "import matplotlib.pyplot as plt\n",
    "import scipy.integrate\n",
    "from matplotlib.pyplot import figure"
   ]
  },
  {
   "cell_type": "code",
   "execution_count": 2,
   "id": "be90f1cf",
   "metadata": {},
   "outputs": [],
   "source": [
    "import sys\n",
    "np.set_printoptions(threshold=sys.maxsize)"
   ]
  },
  {
   "cell_type": "markdown",
   "id": "55579c84",
   "metadata": {},
   "source": [
    "### Problem 1 "
   ]
  },
  {
   "cell_type": "code",
   "execution_count": 3,
   "id": "91a36ae2",
   "metadata": {
    "scrolled": true
   },
   "outputs": [],
   "source": [
    "# Define the function\n",
    "def rhsfunc(x, y, ep):\n",
    "    f1 = y[1]\n",
    "    f2 = (x**2 - ep) * y[0]\n",
    "    \n",
    "    \n",
    "    return np.array([f1,f2])"
   ]
  },
  {
   "cell_type": "code",
   "execution_count": 4,
   "id": "81d4eb74",
   "metadata": {
    "scrolled": true
   },
   "outputs": [],
   "source": [
    "# Define some constants \n",
    "K = 1\n",
    "L = 4\n",
    "ep_start = 0\n",
    "tol = 10**(-6) \n",
    "\n",
    "xp = [-L, L]\n",
    "x_evals = np.linspace(-L,L,20*L+1) "
   ]
  },
  {
   "cell_type": "code",
   "execution_count": 5,
   "id": "e60a9251",
   "metadata": {
    "scrolled": true
   },
   "outputs": [],
   "source": [
    "ep = ep_start\n",
    "dep = K/100 "
   ]
  },
  {
   "cell_type": "code",
   "execution_count": 6,
   "id": "68f0523d",
   "metadata": {},
   "outputs": [],
   "source": [
    "# Define our initial conditions \n",
    "y0 = np.array([1,((K*L**2)-ep)**.5])"
   ]
  },
  {
   "cell_type": "code",
   "execution_count": 7,
   "id": "afa623f0",
   "metadata": {
    "scrolled": true
   },
   "outputs": [],
   "source": [
    "A6 = np.array([])\n",
    "A = {}\n",
    "\n",
    "for modes in range(5):\n",
    "    ep = ep_start\n",
    "    dep = K/100\n",
    "    \n",
    "    \n",
    "    for j in range(1000): # using for loop to make sure it stops. \n",
    "        sol = scipy.integrate.solve_ivp(lambda x,y: rhsfunc(x,y,ep), xp, y0, t_eval = x_evals)\n",
    "        y_sol = sol.y[0,:] # f1 \n",
    "        y_sol_dx = sol.y[1,:] #f2 \n",
    "        \n",
    "        # Normalize eigenfunction\n",
    "        y_sol_norm = y_sol/(np.sqrt(scipy.integrate.trapz(y_sol**2, x_evals)))\n",
    "\n",
    "        if np.abs(y_sol_dx[-1] + (((K*L**2)-ep)**.5)*y_sol[-1]) < tol:\n",
    "#             print('We got the eigenvalue:', ep)\n",
    "            A6 = np.append(A6, ep)\n",
    "            break \n",
    "\n",
    "        if (-1)**(modes)*(y_sol_dx[-1] + (((K*L**2)-ep)**.5)*y_sol[-1]) > tol:\n",
    "            ep = ep + dep # Increase \n",
    "        else: \n",
    "            ep = ep - dep/2 # Decrease \n",
    "            dep = dep/2 # Cut dep in half to make sure we converge \n",
    "\n",
    "        y0 = np.array([1,((K*L**2)-ep)**.5])\n",
    "        \n",
    "    A[modes] = y_sol_norm\n",
    "    \n",
    "    ep_start = ep + 0.1\n",
    "    \n",
    "\n",
    "#     plt.plot(sol.t, y_sol_norm, linewidth=2)\n",
    "#     plt.plot(sol.t, 0*sol.t, 'k')"
   ]
  },
  {
   "cell_type": "code",
   "execution_count": 8,
   "id": "5adbc2d0",
   "metadata": {},
   "outputs": [],
   "source": [
    "A1 = np.abs(A[0].copy()).reshape(81,1)\n",
    "A2 = np.abs(A[1].copy()).reshape(81,1)\n",
    "A3 = np.abs(A[2].copy()).reshape(81,1)\n",
    "A4 = np.abs(A[3].copy()).reshape(81,1)\n",
    "A5 = np.abs(A[4].copy()).reshape(81,1)"
   ]
  },
  {
   "cell_type": "code",
   "execution_count": 9,
   "id": "57d25d67",
   "metadata": {},
   "outputs": [],
   "source": [
    "A6 = A6.reshape(1,5)"
   ]
  },
  {
   "cell_type": "markdown",
   "id": "7ab61484",
   "metadata": {},
   "source": [
    "### Problem 2"
   ]
  },
  {
   "cell_type": "code",
   "execution_count": 10,
   "id": "8faab56a",
   "metadata": {},
   "outputs": [],
   "source": [
    "import numpy as np\n",
    "from numpy.linalg import norm\n",
    "import matplotlib.pyplot as plt\n",
    "import scipy.integrate\n",
    "from matplotlib.pyplot import figure"
   ]
  },
  {
   "cell_type": "code",
   "execution_count": 11,
   "id": "243ccb57",
   "metadata": {},
   "outputs": [],
   "source": [
    "# Define some constants \n",
    "K = 1\n",
    "L = 4\n",
    "\n",
    "xp = [-L, L]\n",
    "x_evals = np.linspace(-L,L,20*L+1) \n",
    "deltax = x_evals[1] - x_evals[0]"
   ]
  },
  {
   "cell_type": "code",
   "execution_count": 12,
   "id": "5f0df4d0",
   "metadata": {},
   "outputs": [],
   "source": [
    "Diagonal = np.array([])\n",
    "for x in x_evals[1:80]:\n",
    "#     d = (2/(deltax**2))+(K*(x**2))\n",
    "    d = (2)+(K*(x**2)*deltax**2)\n",
    "    Diagonal = np.append(Diagonal,d)\n",
    "    \n",
    "Upper = (-1)*np.ones(x_evals.shape[0]-3)\n",
    "Lower = (-1)*np.ones(x_evals.shape[0]-3);\n",
    "A = np.diag(Diagonal) + np.diag(Upper, 1) + np.diag(Lower, -1)\n",
    "# A"
   ]
  },
  {
   "cell_type": "code",
   "execution_count": 13,
   "id": "adfd8f7e",
   "metadata": {},
   "outputs": [],
   "source": [
    "# Changing left end point boundary conditions\n",
    "A[0,0] = ((-4/3)+2) + (deltax**2*K*x_evals[1]**2)\n",
    "A[0,1] = (1/3)-1"
   ]
  },
  {
   "cell_type": "code",
   "execution_count": 14,
   "id": "5f8713fa",
   "metadata": {},
   "outputs": [],
   "source": [
    "# # Changing right end point boundary conditions\n",
    "A[78,-1] = ((-4/3)+2) + (deltax**2*K*x_evals[1]**2)\n",
    "A[78,-2] = (1/3)-1"
   ]
  },
  {
   "cell_type": "code",
   "execution_count": 15,
   "id": "84c02050",
   "metadata": {},
   "outputs": [],
   "source": [
    "w, v = np.linalg.eig(A) "
   ]
  },
  {
   "cell_type": "markdown",
   "id": "b1cf6f5a",
   "metadata": {},
   "source": [
    "### Eigenvalues"
   ]
  },
  {
   "cell_type": "code",
   "execution_count": 16,
   "id": "c57afb34",
   "metadata": {},
   "outputs": [],
   "source": [
    "# sort the values \n",
    "sort_id = np.argsort(w)\n",
    "w = w[sort_id]\n",
    "v = v[:,sort_id]"
   ]
  },
  {
   "cell_type": "code",
   "execution_count": 17,
   "id": "9498654a",
   "metadata": {},
   "outputs": [],
   "source": [
    "# w = w/(deltax**2)"
   ]
  },
  {
   "cell_type": "code",
   "execution_count": 18,
   "id": "a06ef442",
   "metadata": {},
   "outputs": [],
   "source": [
    "# Obtain the eigenvalues\n",
    "A12 = np.abs(w[0:5])\n",
    "A12 = A12.reshape(1,5)\n",
    "A12 = A12/(deltax**2)"
   ]
  },
  {
   "cell_type": "markdown",
   "id": "77100f01",
   "metadata": {},
   "source": [
    "### Eigenfunctions"
   ]
  },
  {
   "cell_type": "code",
   "execution_count": 19,
   "id": "f0542612",
   "metadata": {},
   "outputs": [],
   "source": [
    "phi_0 = np.array([])\n",
    "\n",
    "for n in range(0,v.shape[0]):\n",
    "    k = (4*v[0,n] - v[1,n])/(3+(2*deltax*np.sqrt(K*L**2 - w[n])))\n",
    "    phi_0 = np.append(phi_0,k)"
   ]
  },
  {
   "cell_type": "code",
   "execution_count": 20,
   "id": "d673d1ae",
   "metadata": {},
   "outputs": [],
   "source": [
    "phi_n = np.array([])\n",
    "\n",
    "for n in range(0,v.shape[0]):\n",
    "    m = (4*v[78,n] - v[77,n])/(3+(2*deltax*np.sqrt(K*L**2 - w[n])))\n",
    "    phi_n = np.append(phi_n,m)"
   ]
  },
  {
   "cell_type": "code",
   "execution_count": 21,
   "id": "a7fa18f7",
   "metadata": {},
   "outputs": [],
   "source": [
    "# Add phi_0 and phi_n to the matrix A\n",
    "v = np.vstack((phi_0,v,phi_n))"
   ]
  },
  {
   "cell_type": "code",
   "execution_count": 22,
   "id": "b98f6c19",
   "metadata": {},
   "outputs": [],
   "source": [
    "# Select eigenfunctions\n",
    "A7 = v[:,0]\n",
    "A8 = v[:,1]\n",
    "A9 = v[:,2]\n",
    "A10 = v[:,3]\n",
    "A11 = v[:,4]"
   ]
  },
  {
   "cell_type": "code",
   "execution_count": 23,
   "id": "89151495",
   "metadata": {},
   "outputs": [],
   "source": [
    "# Normalizing \n",
    "A7 = np.abs(A7/(np.sqrt(scipy.integrate.trapz(A7**2, x_evals))))\n",
    "A8 = np.abs(A8/(np.sqrt(scipy.integrate.trapz(A8**2, x_evals))))\n",
    "A9 = np.abs(A9/(np.sqrt(scipy.integrate.trapz(A9**2, x_evals))))\n",
    "A10 = np.abs(A10/(np.sqrt(scipy.integrate.trapz(A10**2, x_evals))))\n",
    "A11 = np.abs(A11/(np.sqrt(scipy.integrate.trapz(A11**2, x_evals))))"
   ]
  },
  {
   "cell_type": "code",
   "execution_count": 24,
   "id": "cb1b6d2d",
   "metadata": {},
   "outputs": [],
   "source": [
    "A7 = A7.reshape(81,1)\n",
    "A8 = A8.reshape(81,1)\n",
    "A9 = A9.reshape(81,1)\n",
    "A10 = A10.reshape(81,1)\n",
    "A11 = A11.reshape(81,1)"
   ]
  },
  {
   "cell_type": "code",
   "execution_count": 25,
   "id": "a939d53c",
   "metadata": {},
   "outputs": [],
   "source": [
    "# plt.plot(x_evals, A7, linewidth=2, label=\"A7\")\n",
    "# plt.plot(x_evals, A8, linewidth=2, label=\"A8\")\n",
    "# plt.plot(x_evals, A9, linewidth=2, label=\"A9\")\n",
    "# plt.plot(x_evals, A10, linewidth=2, label=\"A10\")\n",
    "# plt.plot(x_evals, A11, linewidth=2, label=\"A11\")\n",
    "# plt.plot(x_evals, 0*x_evals, 'k', label=\"0\")\n",
    "# plt.legend(loc=\"lower right\")"
   ]
  },
  {
   "cell_type": "markdown",
   "id": "4bb48bc0",
   "metadata": {},
   "source": [
    "### Problem 3"
   ]
  },
  {
   "cell_type": "code",
   "execution_count": 26,
   "id": "3c5dc22a",
   "metadata": {},
   "outputs": [],
   "source": [
    "# Define the function\n",
    "def rhs_ivp(x, y, ep, gamma):\n",
    "    f1 = y[1]\n",
    "    f2 = ((gamma*np.abs(y[0])**2)+x**2 - ep) * y[0]\n",
    "    \n",
    "    return np.array([f1,f2])"
   ]
  },
  {
   "cell_type": "code",
   "execution_count": 27,
   "id": "b2385e10",
   "metadata": {},
   "outputs": [],
   "source": [
    "# Define some constants \n",
    "K = 1\n",
    "L = 3\n",
    "tol = 10**(-5) \n",
    "\n",
    "xp = [-L, L]\n",
    "x_span = np.linspace(-L,L,20*L+1) \n",
    "gamma = [0.05, -0.05]"
   ]
  },
  {
   "cell_type": "code",
   "execution_count": 28,
   "id": "a734b172",
   "metadata": {},
   "outputs": [],
   "source": [
    "A15_18 = np.array([])\n",
    "Eigenfunctions_all = np.array([])\n",
    "\n",
    "for gamma in gamma:\n",
    "    A = 0.000001\n",
    "    ep_start = 0j\n",
    "    ep = ep_start\n",
    "    dep = K/100 \n",
    "    y0 = np.array([A,(((K*L**2) - ep)**.5)*(A)])\n",
    "\n",
    "    for modes in range(2):\n",
    "        ep = ep_start\n",
    "        dep = K/100\n",
    "\n",
    "        for j in range(1000): # using for loop to make sure it stops. \n",
    "            # update initial condition\n",
    "            y0 = np.array([A,((((K*L**2) - ep))**.5)*(A)])\n",
    "\n",
    "            # solve ODE \n",
    "            sol = scipy.integrate.solve_ivp(lambda x,y: rhs_ivp(x,y,ep,gamma), xp, y0, t_eval = x_span)\n",
    "            y_sol = sol.y[0,:] # f1 \n",
    "            y_sol_dx = sol.y[1,:] #f2\n",
    "\n",
    "            # define/compute norm and boundary conditions \n",
    "            norm = np.abs(scipy.integrate.trapz(y_sol**2,x_span)) #norm\n",
    "            norm_tol = np.abs(scipy.integrate.trapz(y_sol**2,x_span)-1)\n",
    "            boundary = np.abs(y_sol_dx[-1] + (((K*L**2)-ep)**.5)*y_sol[-1]) # same bc as problem 1 and 2. \n",
    "    #         boundary = np.abs(y_sol_dx[-1] + (((gamma*np.abs(y_sol[-1])**2)+(K*L**2)-ep)**.5)*y_sol[-1])\n",
    "\n",
    "    # Norm Shooting \n",
    "\n",
    "            #if norm and boundary condiiton met, break, else A = A/sqrt(norm)\n",
    "            if boundary < tol and norm_tol < tol:\n",
    "                break\n",
    "            else:\n",
    "                A = A/np.sqrt(norm)\n",
    "    #             print('norm:', norm)\n",
    "    #             print('A:', A)\n",
    "\n",
    "    # BC Shooting\n",
    "\n",
    "            # update initial condition with new A \n",
    "            y0 = np.array([A,((((K*L**2) - ep))**.5)*(A)])\n",
    "\n",
    "            # solve ODE \n",
    "            sol = scipy.integrate.solve_ivp(lambda x,y: rhs_ivp(x,y,ep,gamma), xp, y0, t_eval = x_span)\n",
    "            y_sol = sol.y[0,:] # f1 \n",
    "            y_sol_dx = sol.y[1,:] #f2 \n",
    "\n",
    "            # define/compute norm and boundary conditions \n",
    "            norm = np.abs(scipy.integrate.trapz(y_sol**2,x_span)) #norm\n",
    "            norm_tol = np.abs(scipy.integrate.trapz(y_sol**2,x_span)-1)\n",
    "            boundary = np.abs(y_sol_dx[-1] + (((K*L**2)-ep)**.5)*y_sol[-1])\n",
    "\n",
    "            if boundary < tol and norm_tol < tol:\n",
    "                break\n",
    "\n",
    "            if (-1)**(modes)*(y_sol_dx[-1] + (((K*L**2)-ep)**.5)*y_sol[-1]) > tol:\n",
    "                ep = ep + dep # Increase \n",
    "            else:\n",
    "                ep = ep - dep/2 # Decrease \n",
    "                dep = dep/2 # Cut dep in half to make sure we converge\n",
    "\n",
    "        ep_start = ep + 0.1 \n",
    "        A = A\n",
    "\n",
    "        A15_18 = np.append(A15_18, ep)\n",
    "        Eigenfunctions_all = np.append(Eigenfunctions_all, y_sol)"
   ]
  },
  {
   "cell_type": "code",
   "execution_count": 29,
   "id": "a2545790",
   "metadata": {},
   "outputs": [],
   "source": [
    "A15 = A15_18[0:2].reshape(1,2)\n",
    "A18 = A15_18[2:4].reshape(1,2)\n",
    "\n",
    "# print('eigenvalues for gamma = 0.05', A15)\n",
    "# print('eigenvalues for gamma = 0', A15_18[4:46].reshape(1,2))\n",
    "# print('eigenvalues for gamma = -0.05', A18)"
   ]
  },
  {
   "cell_type": "code",
   "execution_count": 30,
   "id": "dbb19286",
   "metadata": {},
   "outputs": [],
   "source": [
    "A13 = np.abs(Eigenfunctions_all[0:61].reshape(61,1))"
   ]
  },
  {
   "cell_type": "code",
   "execution_count": 31,
   "id": "9126c6fd",
   "metadata": {},
   "outputs": [],
   "source": [
    "A14 = np.abs(Eigenfunctions_all[61:122].reshape(61,1))"
   ]
  },
  {
   "cell_type": "code",
   "execution_count": 32,
   "id": "ca855c72",
   "metadata": {},
   "outputs": [],
   "source": [
    "A16 = np.abs(Eigenfunctions_all[122:183].reshape(61,1))"
   ]
  },
  {
   "cell_type": "code",
   "execution_count": 33,
   "id": "2094d2de",
   "metadata": {},
   "outputs": [],
   "source": [
    "A17 = np.abs(Eigenfunctions_all[183:244].reshape(61,1))"
   ]
  }
 ],
 "metadata": {
  "kernelspec": {
   "display_name": "Python 3 (ipykernel)",
   "language": "python",
   "name": "python3"
  },
  "language_info": {
   "codemirror_mode": {
    "name": "ipython",
    "version": 3
   },
   "file_extension": ".py",
   "mimetype": "text/x-python",
   "name": "python",
   "nbconvert_exporter": "python",
   "pygments_lexer": "ipython3",
   "version": "3.9.7"
  }
 },
 "nbformat": 4,
 "nbformat_minor": 5
}
