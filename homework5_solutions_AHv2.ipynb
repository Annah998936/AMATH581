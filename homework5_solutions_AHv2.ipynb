{
 "cells": [
  {
   "cell_type": "code",
   "execution_count": 1,
   "id": "c8b22ca2-7df0-4abb-b11f-80ae3cf25a23",
   "metadata": {},
   "outputs": [],
   "source": [
    "import numpy as np\n",
    "import numpy.matlib\n",
    "from scipy.fft import fft, ifft, fft2, ifft2\n",
    "from scipy import integrate\n",
    "import matplotlib.pyplot as plt\n",
    "import matplotlib.animation as animation\n",
    "\n",
    "import time"
   ]
  },
  {
   "cell_type": "markdown",
   "id": "36b5709b-c41a-4e0d-8069-672aa24611d2",
   "metadata": {},
   "source": [
    "# Problem 1 "
   ]
  },
  {
   "cell_type": "code",
   "execution_count": 2,
   "id": "4aa9bb36-960e-4997-a10a-8fd77ae6e113",
   "metadata": {},
   "outputs": [],
   "source": [
    "m = 3\n",
    "alpha = 0\n",
    "n = 64\n",
    "\n",
    "dt = 0.5\n",
    "T = 25\n",
    "tspan = np.arange(0,25.5,dt)\n",
    "\n",
    "L = 10 \n",
    "x2 = np.linspace(-L/2,L/2,n+1) \n",
    "x=x2[0:-1] \n",
    "y=x.copy()\n",
    "\n",
    "B = 1 \n",
    "D1 = 0.1\n",
    "D2 = D1 \n",
    "\n",
    "#Scale our k values to the length-L domain\n",
    "r1=np.arange(0,n/2,1)\n",
    "r2=np.arange(-n/2,0,1)\n",
    "kx = (2*np.pi/L)*np.concatenate((r1,r2))\n",
    "ky = kx.copy()"
   ]
  },
  {
   "cell_type": "code",
   "execution_count": 3,
   "id": "8fe2b7de-f0cb-4434-b872-a603d1b90d05",
   "metadata": {},
   "outputs": [],
   "source": [
    "#Do the same for the k values\n",
    "[KX,KY]=np.meshgrid(kx,ky)\n",
    "\n",
    "#This term shows up in the Laplacian\n",
    "K = KX**2+KY**2\n",
    "Kvec = K.reshape(n**2)"
   ]
  },
  {
   "cell_type": "code",
   "execution_count": 4,
   "id": "5716229c-d7a8-4915-9be9-1601e8a1e1f1",
   "metadata": {},
   "outputs": [],
   "source": [
    "#reaction-diffusion system ODE (take the real part at the end?)\n",
    "def FFT_RD(t, yhat, n):\n",
    "    \n",
    "    #Unstack and Convert back to matrix\n",
    "    u_f = yhat[:4096].reshape(n,n)\n",
    "    v_f = yhat[4096:].reshape(n,n)\n",
    "\n",
    "    #Convert back to physical space \n",
    "    u = np.real(ifft2(u_f))\n",
    "    v = np.real(ifft2(v_f))\n",
    "    \n",
    "    # #Reshape to n**2\n",
    "    # u = u.reshape(n**2) #do not do step\n",
    "    # v = v.reshape(n**2) #do not do step\n",
    "    \n",
    "    #defining lambdaA and wA  \n",
    "    lambda_A = 1 - (u**2 + v**2) #nxn matrix\n",
    "    w_A = -B*(u**2 + v**2) #nxn matrix\n",
    "    \n",
    "    #Convert everything back and return a vector in the Fourier space\n",
    "    dudt = fft2(lambda_A*u - w_A*v).reshape(n**2,) + (-D1 * Kvec * yhat[:4096]) \n",
    "    dvdt = fft2(w_A*u - lambda_A*v).reshape(n**2,) + (-D2 * Kvec * yhat[4096:])\n",
    "    \n",
    "    # #reshape\n",
    "    # dudt = dudt.reshape(n**2,)\n",
    "    # dvdt = dvdt.reshape(n**2,)\n",
    "    \n",
    "    #stack dudt and dvdt \n",
    "    rhs = np.hstack([dudt, dvdt])\n",
    "    \n",
    "    return rhs"
   ]
  },
  {
   "cell_type": "markdown",
   "id": "bc2040b3-e11d-4fe3-a737-c8a92e96e2e0",
   "metadata": {},
   "source": [
    "### 1a & 1b -  A1 and A2"
   ]
  },
  {
   "cell_type": "code",
   "execution_count": 5,
   "id": "66baa394-5ef0-4dab-849b-5b29177c6999",
   "metadata": {},
   "outputs": [],
   "source": [
    "X, Y = np.meshgrid(x,y)\n",
    "m = 3\n",
    "alpha = 0\n",
    "u = (np.tanh(np.sqrt(X**2+Y**2))-alpha)*np.cos(m*np.angle(X+1j*Y) - np.sqrt(X**2+Y**2))\n",
    "v = (np.tanh(np.sqrt(X**2+Y**2))-alpha)*np.sin(m*np.angle(X+1j*Y) - np.sqrt(X**2+Y**2))"
   ]
  },
  {
   "cell_type": "code",
   "execution_count": 6,
   "id": "ee85c751-38be-47b4-8dca-b20713863e8c",
   "metadata": {},
   "outputs": [],
   "source": [
    "A1 = X.copy()"
   ]
  },
  {
   "cell_type": "code",
   "execution_count": 7,
   "id": "8dd580e2-8f23-4056-8ff4-24df935c66b0",
   "metadata": {},
   "outputs": [],
   "source": [
    "A2 = u.copy()"
   ]
  },
  {
   "cell_type": "markdown",
   "id": "cdf2ca31-2f9c-4b3e-ac6a-d2b4541833df",
   "metadata": {},
   "source": [
    "### 1c - A3"
   ]
  },
  {
   "cell_type": "code",
   "execution_count": 8,
   "id": "80821ad8-6648-4fe6-bc2b-a6b2bb00ad21",
   "metadata": {},
   "outputs": [],
   "source": [
    "u0_hat = np.real(fft2(u))\n",
    "u0hat_vector = u0_hat.reshape(n**2)\n",
    "\n",
    "v0_hat = np.real(fft2(v))\n",
    "v0hat_vector = v0_hat.reshape(n**2)"
   ]
  },
  {
   "cell_type": "code",
   "execution_count": 9,
   "id": "9ac14706-6f1b-4f7c-91fe-c0b3876982db",
   "metadata": {},
   "outputs": [
    {
     "data": {
      "text/plain": [
       "(64, 64)"
      ]
     },
     "execution_count": 9,
     "metadata": {},
     "output_type": "execute_result"
    }
   ],
   "source": [
    "u0_hat.shape"
   ]
  },
  {
   "cell_type": "code",
   "execution_count": 10,
   "id": "0e52ae26-a4cb-443e-8325-c3e4af530b33",
   "metadata": {},
   "outputs": [],
   "source": [
    "A3 = u0_hat"
   ]
  },
  {
   "cell_type": "markdown",
   "id": "50224984-0e6e-4f12-b966-fb5dcd15d91e",
   "metadata": {},
   "source": [
    "### 1d - A4"
   ]
  },
  {
   "cell_type": "code",
   "execution_count": 11,
   "id": "2a356814-5e7a-4ee1-8d3d-4c1491a26dd0",
   "metadata": {},
   "outputs": [],
   "source": [
    "y0hat = np.hstack([u0hat_vector, v0hat_vector])"
   ]
  },
  {
   "cell_type": "code",
   "execution_count": 12,
   "id": "8ac43995-eba3-45da-9998-fa4a81dc8592",
   "metadata": {},
   "outputs": [
    {
     "data": {
      "text/plain": [
       "(8192,)"
      ]
     },
     "execution_count": 12,
     "metadata": {},
     "output_type": "execute_result"
    }
   ],
   "source": [
    "y0hat.shape"
   ]
  },
  {
   "cell_type": "code",
   "execution_count": 13,
   "id": "f00faeec-c9de-4eec-bea4-bc9883b93519",
   "metadata": {},
   "outputs": [],
   "source": [
    "A4 = np.imag(y0hat).reshape(8192,1)"
   ]
  },
  {
   "cell_type": "markdown",
   "id": "849f56ff-c50c-44fa-b80a-e5831ae132e0",
   "metadata": {},
   "source": [
    "### 1e - A5"
   ]
  },
  {
   "cell_type": "code",
   "execution_count": 14,
   "id": "7cb5c427-14db-46fb-b797-62ffac10122a",
   "metadata": {},
   "outputs": [
    {
     "name": "stderr",
     "output_type": "stream",
     "text": [
      "/Users/annahuang/opt/anaconda3/lib/python3.9/site-packages/numpy/core/_asarray.py:102: ComplexWarning: Casting complex values to real discards the imaginary part\n",
      "  return array(a, dtype, copy=False, order=order)\n"
     ]
    }
   ],
   "source": [
    "# sol = integrate.solve_ivp(lambda t, y: FFT_RD(t, y), [0, T], y0hat, t_eval = tspan)\n",
    "sol = integrate.solve_ivp(lambda t, yhat: FFT_RD(t, yhat, n), [0, T], y0hat, t_eval = tspan)"
   ]
  },
  {
   "cell_type": "code",
   "execution_count": 15,
   "id": "16bd5230-7c62-4dfe-a6bf-6d94cb2360c6",
   "metadata": {},
   "outputs": [],
   "source": [
    "A5 = np.real(sol.y)"
   ]
  },
  {
   "cell_type": "markdown",
   "id": "91c28620-0835-4f29-b1a2-f7d82394babe",
   "metadata": {},
   "source": [
    "### 1e - A6"
   ]
  },
  {
   "cell_type": "code",
   "execution_count": 16,
   "id": "453de095-0ff2-445d-beb2-507bc173ae38",
   "metadata": {},
   "outputs": [],
   "source": [
    "A6 = np.imag(sol.y)"
   ]
  },
  {
   "cell_type": "markdown",
   "id": "8ae10016-3a89-4d63-96d4-083e5b6c7351",
   "metadata": {},
   "source": [
    "### 1f - A7"
   ]
  },
  {
   "cell_type": "code",
   "execution_count": 17,
   "id": "343029c3-6047-403a-a1bd-1c8da0c1d98c",
   "metadata": {},
   "outputs": [],
   "source": [
    "A7 = sol.y[:4096,4].reshape(4096,1)"
   ]
  },
  {
   "cell_type": "markdown",
   "id": "1d9a90fd-1e01-40b6-a187-1369aa364cf0",
   "metadata": {},
   "source": [
    "### 1g - A8"
   ]
  },
  {
   "cell_type": "code",
   "execution_count": 18,
   "id": "deba46b9-81ca-413a-9a44-6825ffbc13af",
   "metadata": {},
   "outputs": [],
   "source": [
    "# z = np.array([1, 2, 3, 4, 5, 6, 7, 8, 9])\n",
    "# z.reshape(3,3).T"
   ]
  },
  {
   "cell_type": "code",
   "execution_count": 19,
   "id": "5ef930dc-6b5e-4671-b637-400ea5a748ad",
   "metadata": {},
   "outputs": [],
   "source": [
    "A8 = A7.reshape(64, 64).T"
   ]
  },
  {
   "cell_type": "markdown",
   "id": "07f2e9ae-5e2b-448d-91bb-34ee2d058484",
   "metadata": {},
   "source": [
    "### 1h - A9"
   ]
  },
  {
   "cell_type": "code",
   "execution_count": 20,
   "id": "30fe7881-ed95-4e9a-b326-f5b977a10355",
   "metadata": {},
   "outputs": [],
   "source": [
    "A9 = ifft2(A8)\n",
    "# y = ifft(sol.y, n=n,axis=0)\n",
    "#We will plot the modulus squared, which is real\n",
    "# y = abs(y.T)**2"
   ]
  },
  {
   "cell_type": "code",
   "execution_count": 21,
   "id": "88c3c176-a08c-4def-8272-d20f9a5f253f",
   "metadata": {},
   "outputs": [
    {
     "data": {
      "text/plain": [
       "(64, 64)"
      ]
     },
     "execution_count": 21,
     "metadata": {},
     "output_type": "execute_result"
    }
   ],
   "source": [
    "A9.shape"
   ]
  },
  {
   "cell_type": "markdown",
   "id": "5d4d745b-c3b0-45b0-9f05-af455c5b6ecf",
   "metadata": {
    "tags": []
   },
   "source": [
    "### Problem 2 "
   ]
  },
  {
   "cell_type": "code",
   "execution_count": 22,
   "id": "d3327849-038d-4189-bb7a-9c83782b36ec",
   "metadata": {},
   "outputs": [],
   "source": [
    "from cheb import *"
   ]
  },
  {
   "cell_type": "code",
   "execution_count": 23,
   "id": "8ece2507-54a2-4906-9972-09cef40b3e94",
   "metadata": {},
   "outputs": [],
   "source": [
    "N = 30 \n",
    "\n",
    "[D, x] = cheb(N)\n",
    "x = x.reshape(N+1)\n",
    "\n",
    "# Derivative operator squared is second derivative\n",
    "DD2 = D@D\n",
    "\n",
    "DD2 = DD2[1:-1,1:-1]\n",
    "x2 = x[1:-1]\n",
    "y2 = x2.copy()\n",
    "\n",
    "[X,Y] = np.meshgrid(x2,y2)\n",
    "m = 2\n",
    "alpha = 0\n",
    "\n",
    "#Initial conditions\n",
    "u = (np.tanh(np.sqrt(X**2+Y**2))-alpha)*np.cos(m*np.angle(X+1j*Y) - np.sqrt(X**2+Y**2))\n",
    "v = (np.tanh(np.sqrt(X**2+Y**2))-alpha)*np.sin(m*np.angle(X+1j*Y) - np.sqrt(X**2+Y**2))"
   ]
  },
  {
   "cell_type": "code",
   "execution_count": 24,
   "id": "e0616417-aa07-49de-8d8b-b5e90daa41fd",
   "metadata": {},
   "outputs": [],
   "source": [
    "u0_vec = u.reshape((N-1)**2)\n",
    "v0_vec = v.reshape((N-1)**2)"
   ]
  },
  {
   "cell_type": "markdown",
   "id": "3cd930bb-0ca1-46e4-905b-fbc2e3b82a62",
   "metadata": {},
   "source": [
    "### 2a - A10"
   ]
  },
  {
   "cell_type": "code",
   "execution_count": 25,
   "id": "7e4bf88b-a4f6-41ad-8544-81c3fe28e78f",
   "metadata": {},
   "outputs": [],
   "source": [
    "I = np.eye(len(DD2))\n",
    "\n",
    "Lap = np.kron(DD2, I) + np.kron(I,DD2)"
   ]
  },
  {
   "cell_type": "code",
   "execution_count": 26,
   "id": "95693752-619a-4ae3-92b3-303c111c8227",
   "metadata": {},
   "outputs": [],
   "source": [
    "A10 = Lap.copy()"
   ]
  },
  {
   "cell_type": "markdown",
   "id": "9cf4e99b-dce3-405c-b7a8-28051f58714a",
   "metadata": {},
   "source": [
    "### 2b - A11 "
   ]
  },
  {
   "cell_type": "code",
   "execution_count": 27,
   "id": "92023aee-61d9-4352-8218-19f18d07b88c",
   "metadata": {},
   "outputs": [],
   "source": [
    "A11 = Y.copy()"
   ]
  },
  {
   "cell_type": "markdown",
   "id": "40c0af57-340d-4014-a703-3821ec752cb7",
   "metadata": {
    "tags": []
   },
   "source": [
    "### 2c - A12"
   ]
  },
  {
   "cell_type": "code",
   "execution_count": 28,
   "id": "ac6b8b46-ce97-492a-92ed-3fcf7fbc240e",
   "metadata": {},
   "outputs": [],
   "source": [
    "A12 = v.copy()"
   ]
  },
  {
   "cell_type": "markdown",
   "id": "98f13235-ea2d-43c3-8831-7cf6ce82b13b",
   "metadata": {},
   "source": [
    "### 2d - A13"
   ]
  },
  {
   "cell_type": "code",
   "execution_count": 29,
   "id": "02fac90f-44a7-4a3f-82cb-1a14bf8c5ee6",
   "metadata": {},
   "outputs": [],
   "source": [
    "y0vec = np.hstack([u0_vec, v0_vec])"
   ]
  },
  {
   "cell_type": "code",
   "execution_count": 30,
   "id": "8eb0334a-7ef7-4cf7-828c-ae4101a66f07",
   "metadata": {},
   "outputs": [],
   "source": [
    "A13 = y0vec.reshape(1682,1)"
   ]
  },
  {
   "cell_type": "markdown",
   "id": "0ce92c52-6047-4961-8c21-adfc78699837",
   "metadata": {},
   "source": [
    "### 2e - A14"
   ]
  },
  {
   "cell_type": "code",
   "execution_count": 31,
   "id": "9d4f56dd-39a7-4368-8167-7aaf3418a872",
   "metadata": {},
   "outputs": [],
   "source": [
    "#reaction-diffusion system ODE\n",
    "def Chebyshev_RD(t, y, Lap):\n",
    "    \n",
    "    #define u and v from y \n",
    "    u = y[:841]\n",
    "    v = y[841:]\n",
    "        \n",
    "    #defining lambdaA and wA  \n",
    "    lambda_A = 1 - (u**2 + v**2)\n",
    "    w_A = -B*(u**2 + v**2)\n",
    "    \n",
    "    dudt = lambda_A*u - w_A*v + D1*(Lap@u) \n",
    "    dvdt = w_A*u - lambda_A*v + D2*(Lap@v)\n",
    "    \n",
    "    #reshape dudt and dvdt\n",
    "    dudt = dudt.reshape(841,)\n",
    "    dvdt = dvdt.reshape(841,)\n",
    "    \n",
    "    #stack dudt and dvdt \n",
    "    rhs = np.hstack([dudt, dvdt])\n",
    "    \n",
    "    return rhs"
   ]
  },
  {
   "cell_type": "code",
   "execution_count": 32,
   "id": "ff692cde-4f47-4bf4-87ec-a73528955e2e",
   "metadata": {
    "tags": []
   },
   "outputs": [
    {
     "name": "stdout",
     "output_type": "stream",
     "text": [
      "87.67351984977722\n"
     ]
    }
   ],
   "source": [
    "tic_gaus = time.time()\n",
    "sol_cheb = integrate.solve_ivp(lambda t, y: Chebyshev_RD(t, y, Lap), [0, T], y0vec, t_eval = tspan)\n",
    "toc_gaus = time.time()\n",
    "print(toc_gaus-tic_gaus)"
   ]
  },
  {
   "cell_type": "markdown",
   "id": "cf1b88b4-07ec-437c-83ee-5bf103fb906a",
   "metadata": {},
   "source": [
    "### 2f - A15"
   ]
  },
  {
   "cell_type": "code",
   "execution_count": 33,
   "id": "ef2eb421-9f01-44f6-aec1-43786c2b6140",
   "metadata": {},
   "outputs": [],
   "source": [
    "A15 = sol_cheb.y[841:,4].reshape(841,1)"
   ]
  },
  {
   "cell_type": "markdown",
   "id": "8dc0e3e4-db09-4643-b771-43a2f199b76e",
   "metadata": {},
   "source": [
    "### 2g - A16"
   ]
  },
  {
   "cell_type": "code",
   "execution_count": 34,
   "id": "bc70f7e8-3dda-46cd-9e83-d50ff3eace40",
   "metadata": {
    "tags": []
   },
   "outputs": [],
   "source": [
    "A15_reshape = A15.reshape(29, 29).T"
   ]
  },
  {
   "cell_type": "code",
   "execution_count": 35,
   "id": "aa2748b3-740a-4480-9a2d-816aab6db527",
   "metadata": {},
   "outputs": [
    {
     "data": {
      "text/plain": [
       "(29, 29)"
      ]
     },
     "execution_count": 35,
     "metadata": {},
     "output_type": "execute_result"
    }
   ],
   "source": [
    "A15_reshape.shape"
   ]
  },
  {
   "cell_type": "code",
   "execution_count": 36,
   "id": "6f3cec39-12b7-42bd-8311-aed7a1fe6598",
   "metadata": {},
   "outputs": [],
   "source": [
    "zero = np.zeros(N-1)"
   ]
  },
  {
   "cell_type": "code",
   "execution_count": 37,
   "id": "724d4590-cf77-4de2-9f75-30e6b5d2f553",
   "metadata": {
    "tags": []
   },
   "outputs": [],
   "source": [
    "A16 = np.vstack([zero,A15_reshape,zero])"
   ]
  },
  {
   "cell_type": "code",
   "execution_count": 38,
   "id": "96c0b660-5591-4d4b-9205-61d03c4b54a4",
   "metadata": {},
   "outputs": [],
   "source": [
    "zero_cols = np.zeros(N+1).reshape(31,1)"
   ]
  },
  {
   "cell_type": "code",
   "execution_count": 39,
   "id": "be85f77e-47f2-425c-acfb-250132cbaa72",
   "metadata": {},
   "outputs": [],
   "source": [
    "A16 = np.hstack([zero_cols,A16,zero_cols])"
   ]
  },
  {
   "cell_type": "code",
   "execution_count": 40,
   "id": "bb03934d-233e-4748-b41b-3b6dacdda29b",
   "metadata": {},
   "outputs": [
    {
     "data": {
      "text/plain": [
       "(31, 31)"
      ]
     },
     "execution_count": 40,
     "metadata": {},
     "output_type": "execute_result"
    }
   ],
   "source": [
    "A16.shape"
   ]
  }
 ],
 "metadata": {
  "kernelspec": {
   "display_name": "Python 3 (ipykernel)",
   "language": "python",
   "name": "python3"
  },
  "language_info": {
   "codemirror_mode": {
    "name": "ipython",
    "version": 3
   },
   "file_extension": ".py",
   "mimetype": "text/x-python",
   "name": "python",
   "nbconvert_exporter": "python",
   "pygments_lexer": "ipython3",
   "version": "3.9.7"
  }
 },
 "nbformat": 4,
 "nbformat_minor": 5
}
