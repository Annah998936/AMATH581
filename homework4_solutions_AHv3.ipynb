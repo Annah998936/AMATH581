{
 "cells": [
  {
   "cell_type": "code",
   "execution_count": 37,
   "id": "9c526d3c-fca3-4ba5-96bb-b040707f8633",
   "metadata": {},
   "outputs": [],
   "source": [
    "import numpy as np\n",
    "import numpy.matlib\n",
    "\n",
    "# import matplotlib.pyplot as plt\n",
    "# import matplotlib.pylab as plt\n",
    "# from matplotlib.pyplot import figure\n",
    "# from matplotlib import cm\n",
    "# from mpl_toolkits.mplot3d import axes3d\n",
    "\n",
    "import scipy.integrate\n",
    "from scipy.integrate import solve_ivp\n",
    "from scipy.sparse import csr_matrix, triu, spdiags\n",
    "from scipy.sparse.linalg import spsolve, splu\n",
    "import scipy.sparse\n",
    "import scipy.optimize\n",
    "from numpy.linalg import inv\n",
    "\n",
    "import time"
   ]
  },
  {
   "cell_type": "markdown",
   "id": "e5c49710-3328-4591-b377-7ee8a1e654f8",
   "metadata": {},
   "source": [
    "### Number 1"
   ]
  },
  {
   "cell_type": "code",
   "execution_count": 38,
   "id": "dc8cc414-2c60-42c3-9084-1b94588577de",
   "metadata": {},
   "outputs": [],
   "source": [
    "#initialize \n",
    "Time = 2\n",
    "L = 10\n",
    "n = 256 \n",
    "x2 = np.linspace(-L, L, n+1)\n",
    "x = x2[0:n]\n",
    "dx = x[1]-x[0]\n",
    "\n",
    "#time\n",
    "t = np.linspace(0, Time, 501)\n",
    "dt = t[1] - t[0]\n",
    "time_steps = int(Time/dt)\n",
    "\n",
    "CFL = (2*dt)/(dx**2)"
   ]
  },
  {
   "cell_type": "code",
   "execution_count": 34,
   "id": "f2ed27ad-4083-4913-ab49-f2ea695beb7e",
   "metadata": {},
   "outputs": [],
   "source": [
    "#initialize \n",
    "Time = 2\n",
    "L = 10\n",
    "n1 = 256 \n",
    "x2_256 = np.linspace(-L, L, n1+1)\n",
    "x_256 = x2_256[0:n1]\n",
    "dx_256 = x_256[1]-x_256[0]\n",
    "\n",
    "#time\n",
    "t = np.linspace(0, Time, 501)\n",
    "dt = t[1] - t[0]\n",
    "time_steps = int(Time/dt)\n",
    "\n",
    "CFL_256 = (2*dt)/(dx_256**2)"
   ]
  },
  {
   "cell_type": "markdown",
   "id": "183c7514-e7f0-47b3-9c01-684e71743911",
   "metadata": {},
   "source": [
    "### Number 2 (A1)"
   ]
  },
  {
   "cell_type": "code",
   "execution_count": 4,
   "id": "c11a6f73-4433-4056-9ad5-496a8053fd8f",
   "metadata": {},
   "outputs": [],
   "source": [
    "#von-Neumann analysis \n",
    "\n",
    "G = lambda l,z: (1/6)*(6-(15*l)+(16*l*np.cos(z))-(l*np.cos(2*z)))\n",
    "\n",
    "# zvals = np.linspace(-np.pi,np.pi,128)\n",
    "# lvals = np.linspace(0,3,128)\n",
    "# [Z, L] = np.meshgrid(zvals,lvals)\n",
    "\n",
    "# fig,ax = plt.subplots(figsize=(10,10),subplot_kw = {\"projection\":\"3d\"})\n",
    "# ax.plot_surface(Z,L,G(L,Z), cmap = \"magma\")\n",
    "\n",
    "A1 = np.abs(G(CFL,1))"
   ]
  },
  {
   "cell_type": "markdown",
   "id": "a47e8226-2b04-4973-9429-1d9c9656a633",
   "metadata": {},
   "source": [
    "### Number 3 (A2)"
   ]
  },
  {
   "cell_type": "code",
   "execution_count": 5,
   "id": "477d7003-7c95-437d-bd05-118fa0dca4c4",
   "metadata": {},
   "outputs": [],
   "source": [
    "G_one = lambda z: np.abs(G(CFL,z))\n",
    "x_optimize = scipy.optimize.fminbound(lambda z:-G_one(z), -np.pi,np.pi) # This gives the *maximizer*\n",
    "A2 = G_one(x_optimize)"
   ]
  },
  {
   "cell_type": "markdown",
   "id": "73659e97-e692-42bb-bd8b-731d8a08ac95",
   "metadata": {},
   "source": [
    "### Number 4 (A3)"
   ]
  },
  {
   "cell_type": "code",
   "execution_count": 6,
   "id": "7b33ecb1-11ef-4e46-bd5e-114f3ace6a9a",
   "metadata": {},
   "outputs": [],
   "source": [
    "def matrix_FE(n):\n",
    "    e1 = np.ones(n)\n",
    "    A = scipy.sparse.spdiags([-e1, -e1,16*e1,-30*e1,16*e1,-e1, -e1], [-n+2,-2,-1,0,1,2,n-2],n,n, format = 'csc')\n",
    "    A[0,n-1] = 16\n",
    "    A[n-1,0] = 16\n",
    "    \n",
    "    A = A/12\n",
    "    \n",
    "    return A "
   ]
  },
  {
   "cell_type": "code",
   "execution_count": 7,
   "id": "f689f80e-d953-4a83-babd-94d91eb2f7d7",
   "metadata": {
    "tags": []
   },
   "outputs": [
    {
     "name": "stderr",
     "output_type": "stream",
     "text": [
      "/Users/annahuang/opt/anaconda3/lib/python3.9/site-packages/scipy/sparse/_index.py:82: SparseEfficiencyWarning: Changing the sparsity structure of a csc_matrix is expensive. lil_matrix is more efficient.\n",
      "  self._set_intXint(row, col, x.flat[0])\n"
     ]
    }
   ],
   "source": [
    "A3 = matrix_FE(128).todense()"
   ]
  },
  {
   "cell_type": "markdown",
   "id": "61b8014d-4c70-4ecf-a921-e15e6a44a6d4",
   "metadata": {},
   "source": [
    "### Number 6 (A5)"
   ]
  },
  {
   "cell_type": "code",
   "execution_count": 8,
   "id": "894978d8-f5bf-4029-84d0-cca04afaa115",
   "metadata": {},
   "outputs": [],
   "source": [
    "#Forward Euler \n",
    "def FE(A, n, CFL):\n",
    "    L = 10\n",
    "    x2 = np.linspace(-L, L, n+1)\n",
    "    x = x2[0:n]\n",
    "    \n",
    "    usol_fe = np.zeros((len(x), len(t)))\n",
    "    u0 = (10*np.cos((2*np.pi*x)/L) + 30*np.cos((8*np.pi*x)/L)).T\n",
    "    usol_fe[:,0] = u0\n",
    "    u1 = u0 # In Erin's example, she has this but do we need u1 = u0? \n",
    "    \n",
    "    for j in range(time_steps):\n",
    "        u2 = u1 + 0.5*CFL*A@u1\n",
    "        u1 = u2\n",
    "        usol_fe[:,j+1] = u2\n",
    "    \n",
    "    return usol_fe"
   ]
  },
  {
   "cell_type": "code",
   "execution_count": 9,
   "id": "82c32e05-1621-447c-9dd9-e3ed6e012eac",
   "metadata": {},
   "outputs": [],
   "source": [
    "A5 = FE(matrix_FE(128), 128, CFL)[:,-1].reshape(128,1)"
   ]
  },
  {
   "cell_type": "code",
   "execution_count": 10,
   "id": "1878f3f9-a2de-47fc-a1ad-494e67e920e7",
   "metadata": {},
   "outputs": [],
   "source": [
    "# # plotting \n",
    "# fig, ax = plt.subplots(1,1)\n",
    "# T, X = np.meshgrid(t,x)\n",
    "# cp = ax.pcolor(x, t, FE(matrix_FE(128), 128).T, cmap='magma', shading='auto')\n",
    "# fig.colorbar(cp)\n",
    "# plt.show()\n",
    "\n",
    "# # A lot of instability in this solution "
   ]
  },
  {
   "cell_type": "markdown",
   "id": "04401af1-95de-4c18-9cfc-38c7fed24564",
   "metadata": {},
   "source": [
    "### Number 7 (A6)"
   ]
  },
  {
   "cell_type": "code",
   "execution_count": 11,
   "id": "42bf65aa-8014-430c-9b24-3d151f3f1f53",
   "metadata": {},
   "outputs": [],
   "source": [
    "G1 = lambda l,z: (1-l+(l*np.cos(z)))/(1+l-(l*np.cos(z)))\n",
    "\n",
    "G_one1 = lambda z: np.abs(G1(CFL,z))\n",
    "x_optimize1 = scipy.optimize.fminbound(lambda z:-G_one1(z), -np.pi,np.pi) # This gives the *maximizer*\n",
    "A6 = G_one1(x_optimize1)"
   ]
  },
  {
   "cell_type": "code",
   "execution_count": 12,
   "id": "ad466e37-5cfb-4f9e-a9bc-34e2adaf781d",
   "metadata": {},
   "outputs": [],
   "source": [
    "# zvals = np.linspace(-np.pi,np.pi,128)\n",
    "# lvals = np.linspace(0,3,128)\n",
    "# [Z, L] = np.meshgrid(zvals,lvals)\n",
    "\n",
    "# fig,ax = plt.subplots(figsize=(10,10),subplot_kw = {\"projection\":\"3d\"})\n",
    "# ax.plot_surface(Z,L,G1(L,Z), cmap = \"magma\")"
   ]
  },
  {
   "cell_type": "markdown",
   "id": "4c0e17f2-0066-405e-9ddb-3a5918f722d0",
   "metadata": {},
   "source": [
    "### Number 8 (A7 & A8)"
   ]
  },
  {
   "cell_type": "code",
   "execution_count": 13,
   "id": "3e26c0fe-5695-401d-b220-2189198cf618",
   "metadata": {},
   "outputs": [],
   "source": [
    "def matrix_PLU(n, CFL):\n",
    "    e1 = np.ones(n)\n",
    "    \n",
    "    M = scipy.sparse.spdiags([e1,-2*e1,e1], [-1,0,1],n,n, format = 'csc')\n",
    "    \n",
    "    M[0,n-1] = 1\n",
    "    M[n-1,0] = 1\n",
    "    \n",
    "    B = (scipy.sparse.eye(n, format = 'csc') - ((CFL/2)*M))\n",
    "    C = (scipy.sparse.eye(n, format = 'csc') + ((CFL/2)*M))\n",
    "    \n",
    "    return B, C"
   ]
  },
  {
   "cell_type": "code",
   "execution_count": 14,
   "id": "9b4763bf-64eb-41f3-b307-6c3d3bf9923e",
   "metadata": {},
   "outputs": [],
   "source": [
    "B = matrix_PLU(128, CFL)[0]\n",
    "C = matrix_PLU(128, CFL)[1]"
   ]
  },
  {
   "cell_type": "code",
   "execution_count": 15,
   "id": "bcbf2331-8a0d-4db5-8015-ebf94e3df863",
   "metadata": {},
   "outputs": [],
   "source": [
    "A7 = B.todense()\n",
    "A8 = C.todense()"
   ]
  },
  {
   "cell_type": "markdown",
   "id": "54a2ba6c-5c4c-4f1f-8055-0a249b6dca37",
   "metadata": {},
   "source": [
    "### Number 9 (A9)"
   ]
  },
  {
   "cell_type": "code",
   "execution_count": 16,
   "id": "4d6c86b5-c8e4-4218-a666-b885b6f61dbf",
   "metadata": {},
   "outputs": [],
   "source": [
    "def PLU(B, C, n):\n",
    "    L = 10\n",
    "    x2 = np.linspace(-L, L, n+1)\n",
    "    x = x2[0:n]\n",
    "\n",
    "    PLU = scipy.sparse.linalg.splu(B)\n",
    "    \n",
    "    usol_plu = np.zeros((len(x),len(t))) #placeholder for solution - more effcient\n",
    "    u0 = ((10*np.cos((2*np.pi*x)/L) + 30*np.cos((8*np.pi*x)/L)).T)\n",
    "    usol_plu[:,0] = C@u0\n",
    "\n",
    "    start = time.time()\n",
    "    for j in range(time_steps):\n",
    "        u1 = PLU.solve(C@u0)\n",
    "        u0 = u1 \n",
    "        usol_plu[:,j+1] = u1\n",
    "\n",
    "    end = time.time()\n",
    "    # print(end-start)\n",
    "    \n",
    "    return usol_plu"
   ]
  },
  {
   "cell_type": "code",
   "execution_count": 17,
   "id": "35008507-4e44-4881-8cae-a05ee24bd355",
   "metadata": {},
   "outputs": [],
   "source": [
    "A9 = PLU(B, C, 128)[:,-1].reshape(128,1)"
   ]
  },
  {
   "cell_type": "code",
   "execution_count": 18,
   "id": "d35f268e-ea83-416c-b9b9-28851614050f",
   "metadata": {},
   "outputs": [],
   "source": [
    "# #plotting x and t \n",
    "# fig,ax = plt.subplots(1,1)\n",
    "# T,X = np.meshgrid(t,x)\n",
    "# cp=ax.pcolor(x,t,PLU(B,C, 128).T,cmap=\"magma\",shading = 'auto')\n",
    "# fig.colorbar(cp)\n",
    "# plt.show()"
   ]
  },
  {
   "cell_type": "markdown",
   "id": "50722bf9-1696-47e6-9fc7-8938ac5b4535",
   "metadata": {},
   "source": [
    "### Number 10 (A10)"
   ]
  },
  {
   "cell_type": "code",
   "execution_count": 19,
   "id": "5588fba6-345b-4d05-9fbc-3a9b45092405",
   "metadata": {},
   "outputs": [],
   "source": [
    "def BIC(B, C, n):\n",
    "    L = 10\n",
    "    x2 = np.linspace(-L, L, n+1)\n",
    "    x = x2[0:n]\n",
    "    dx = x[1]-x[0]\n",
    "    \n",
    "    # A_BIC = scipy.sparse.linalg.inv(B)\n",
    "    \n",
    "    usol_bic =np.zeros((len(x),len(t)))\n",
    "    u0 = (10*np.cos((2*np.pi*x)/L) + 30*np.cos((8*np.pi*x)/L)).T\n",
    "    usol_bic[:,0] = C@u0\n",
    "\n",
    "    start = time.time()\n",
    "\n",
    "    for j in range(time_steps):\n",
    "        u1,info = scipy.sparse.linalg.bicgstab(B,C@u0,x0 = u0)\n",
    "        u0 = u1\n",
    "        usol_bic[:,j+1] = u1\n",
    "\n",
    "    end = time.time()\n",
    "    \n",
    "    return usol_bic"
   ]
  },
  {
   "cell_type": "code",
   "execution_count": 20,
   "id": "21c02564-c91b-45a8-a7c5-7a8fb75c25d6",
   "metadata": {},
   "outputs": [],
   "source": [
    "A10 = BIC(B, C, 128)[:,-1].reshape(128,1)"
   ]
  },
  {
   "cell_type": "markdown",
   "id": "890a53ca-1a0a-4b2b-ab5b-45d50949b262",
   "metadata": {
    "tags": []
   },
   "source": [
    "### Number 11 (A11 & A12)"
   ]
  },
  {
   "cell_type": "code",
   "execution_count": 21,
   "id": "755f5f6e-961d-49d1-a0b2-7aac80043532",
   "metadata": {},
   "outputs": [],
   "source": [
    "exact_128 = np.genfromtxt(\"exact_128.csv\", delimiter=',')"
   ]
  },
  {
   "cell_type": "code",
   "execution_count": 22,
   "id": "c879db6e-c32f-4812-aeef-f1137793fd75",
   "metadata": {},
   "outputs": [],
   "source": [
    "A11 = np.linalg.norm(exact_128-A5.reshape(128))"
   ]
  },
  {
   "cell_type": "code",
   "execution_count": 23,
   "id": "95017f33-b55c-4c8f-bdfe-b27193990e66",
   "metadata": {},
   "outputs": [],
   "source": [
    "A12 = np.linalg.norm(exact_128-A9.reshape(128))"
   ]
  },
  {
   "cell_type": "markdown",
   "id": "bb4a543c-e979-4879-9f67-4aee156f94d4",
   "metadata": {},
   "source": [
    "### Number 12 (A13 & A14)"
   ]
  },
  {
   "cell_type": "code",
   "execution_count": 24,
   "id": "00bda5dc-d01b-4acb-9538-c4a2f4d3ea7c",
   "metadata": {},
   "outputs": [],
   "source": [
    "exact_256 = np.genfromtxt(\"exact_256.csv\", delimiter=',')"
   ]
  },
  {
   "cell_type": "code",
   "execution_count": 25,
   "id": "260a6cf8-94ae-42d1-80cb-b14b1e50a0de",
   "metadata": {},
   "outputs": [],
   "source": [
    "A13 = np.linalg.norm(exact_256-FE(matrix_FE(256), 256, CFL_256)[:,-1].reshape(256,1))"
   ]
  },
  {
   "cell_type": "code",
   "execution_count": 26,
   "id": "627522bc-73ac-449c-85e2-2e1afdf543f2",
   "metadata": {},
   "outputs": [],
   "source": [
    "B256 = matrix_PLU(256, CFL_256)[0]\n",
    "C256 = matrix_PLU(256, CFL_256)[1]"
   ]
  },
  {
   "cell_type": "code",
   "execution_count": 27,
   "id": "2bedfceb-63ab-4429-80ec-27b65828d52c",
   "metadata": {},
   "outputs": [],
   "source": [
    "A14 = np.linalg.norm(exact_256-PLU(B256,C256, 256)[:,-1].reshape(256,1))"
   ]
  },
  {
   "cell_type": "code",
   "execution_count": 28,
   "id": "b0fe8037-e2ca-4b89-a63f-9b61fe783b40",
   "metadata": {},
   "outputs": [
    {
     "data": {
      "text/plain": [
       "19.80838794532189"
      ]
     },
     "execution_count": 28,
     "metadata": {},
     "output_type": "execute_result"
    }
   ],
   "source": [
    "A11"
   ]
  },
  {
   "cell_type": "code",
   "execution_count": 29,
   "id": "0f39f070-09eb-4655-9634-b103edea6821",
   "metadata": {},
   "outputs": [
    {
     "data": {
      "text/plain": [
       "0.02090281135171564"
      ]
     },
     "execution_count": 29,
     "metadata": {},
     "output_type": "execute_result"
    }
   ],
   "source": [
    "A12"
   ]
  },
  {
   "cell_type": "code",
   "execution_count": 30,
   "id": "392ab577-aab5-4e13-b18c-ad636f127c79",
   "metadata": {},
   "outputs": [
    {
     "data": {
      "text/plain": [
       "inf"
      ]
     },
     "execution_count": 30,
     "metadata": {},
     "output_type": "execute_result"
    }
   ],
   "source": [
    "A13"
   ]
  },
  {
   "cell_type": "code",
   "execution_count": 31,
   "id": "9e10e850-ea73-4e40-af21-473e57166d50",
   "metadata": {},
   "outputs": [
    {
     "data": {
      "text/plain": [
       "527.8349990238819"
      ]
     },
     "execution_count": 31,
     "metadata": {},
     "output_type": "execute_result"
    }
   ],
   "source": [
    "A14"
   ]
  }
 ],
 "metadata": {
  "kernelspec": {
   "display_name": "Python 3 (ipykernel)",
   "language": "python",
   "name": "python3"
  },
  "language_info": {
   "codemirror_mode": {
    "name": "ipython",
    "version": 3
   },
   "file_extension": ".py",
   "mimetype": "text/x-python",
   "name": "python",
   "nbconvert_exporter": "python",
   "pygments_lexer": "ipython3",
   "version": "3.9.7"
  }
 },
 "nbformat": 4,
 "nbformat_minor": 5
}
