{
 "cells": [
  {
   "cell_type": "code",
   "execution_count": 1,
   "id": "9c526d3c-fca3-4ba5-96bb-b040707f8633",
   "metadata": {},
   "outputs": [],
   "source": [
    "import numpy as np\n",
    "import numpy.matlib\n",
    "\n",
    "import matplotlib.pyplot as plt\n",
    "import matplotlib.pylab as plt\n",
    "from matplotlib.pyplot import figure\n",
    "from matplotlib import cm\n",
    "from mpl_toolkits.mplot3d import axes3d\n",
    "\n",
    "import scipy.integrate\n",
    "from scipy.integrate import solve_ivp\n",
    "from scipy.sparse import csr_matrix, triu, spdiags\n",
    "from scipy.sparse.linalg import spsolve, splu\n",
    "import scipy.sparse\n",
    "import scipy.optimize\n",
    "from numpy.linalg import inv\n",
    "\n",
    "import time"
   ]
  },
  {
   "cell_type": "markdown",
   "id": "e5c49710-3328-4591-b377-7ee8a1e654f8",
   "metadata": {},
   "source": [
    "### Number 1"
   ]
  },
  {
   "cell_type": "code",
   "execution_count": 2,
   "id": "dc8cc414-2c60-42c3-9084-1b94588577de",
   "metadata": {},
   "outputs": [],
   "source": [
    "#initialize for n = 128\n",
    "L = 10\n",
    "n = 128 \n",
    "x2 = np.linspace(-L, L, n+1)\n",
    "x = x2[0:n]\n",
    "dx = x[1]-x[0]\n",
    "\n",
    "#time\n",
    "Time = 2\n",
    "t = np.linspace(0, Time, 501)\n",
    "dt = t[1] - t[0]\n",
    "time_steps = int(Time/dt)\n",
    "\n",
    "CFL = (2*dt)/(dx**2)"
   ]
  },
  {
   "cell_type": "markdown",
   "id": "73659e97-e692-42bb-bd8b-731d8a08ac95",
   "metadata": {},
   "source": [
    "### Number 4 (A3) - Correct"
   ]
  },
  {
   "cell_type": "code",
   "execution_count": 3,
   "id": "7b33ecb1-11ef-4e46-bd5e-114f3ace6a9a",
   "metadata": {},
   "outputs": [],
   "source": [
    "def matrix_FE(n):\n",
    "    e1 = np.ones(n)\n",
    "    A = scipy.sparse.spdiags([-e1, -e1,16*e1,-30*e1,16*e1,-e1, -e1], [-n+2,-2,-1,0,1,2,n-2],n,n, format = 'csc')\n",
    "    A[0,n-1] = 16\n",
    "    A[n-1,0] = 16\n",
    "    \n",
    "    A = A/12\n",
    "    \n",
    "    return A "
   ]
  },
  {
   "cell_type": "code",
   "execution_count": 4,
   "id": "f689f80e-d953-4a83-babd-94d91eb2f7d7",
   "metadata": {
    "tags": []
   },
   "outputs": [
    {
     "name": "stderr",
     "output_type": "stream",
     "text": [
      "/Users/annahuang/opt/anaconda3/lib/python3.9/site-packages/scipy/sparse/_index.py:82: SparseEfficiencyWarning: Changing the sparsity structure of a csc_matrix is expensive. lil_matrix is more efficient.\n",
      "  self._set_intXint(row, col, x.flat[0])\n"
     ]
    }
   ],
   "source": [
    "A3 = matrix_FE(128).todense()"
   ]
  },
  {
   "cell_type": "markdown",
   "id": "61b8014d-4c70-4ecf-a921-e15e6a44a6d4",
   "metadata": {},
   "source": [
    "### Number 6 (A5) - Correct"
   ]
  },
  {
   "cell_type": "code",
   "execution_count": 5,
   "id": "894978d8-f5bf-4029-84d0-cca04afaa115",
   "metadata": {},
   "outputs": [],
   "source": [
    "#Forward Euler \n",
    "def FE(A, n, CFL, t):\n",
    "    L = 10\n",
    "    x2 = np.linspace(-L, L, n+1)\n",
    "    x = x2[0:n]\n",
    "    \n",
    "    Time = 2\n",
    "    t = np.linspace(0, Time, t)\n",
    "    dt = t[1] - t[0]\n",
    "    time_steps = int(Time/dt)\n",
    "    \n",
    "    # print(f\"length of x: {len(x)}\")\n",
    "    # print(f\"length of t: {len(t)}\")\n",
    "    # print(f\"time steps: {time_steps}\")\n",
    "    \n",
    "    usol_fe = np.zeros((len(x), len(t)))\n",
    "    u0 = (10*np.cos((2*np.pi*x)/L) + 30*np.cos((8*np.pi*x)/L)).T\n",
    "    usol_fe[:,0] = u0\n",
    "    u1 = u0 \n",
    "    \n",
    "    for j in range(time_steps):\n",
    "        u2 = u1 + CFL*A@u1\n",
    "        u1 = u2\n",
    "        usol_fe[:,j+1] = u2\n",
    "    \n",
    "    return usol_fe"
   ]
  },
  {
   "cell_type": "code",
   "execution_count": 6,
   "id": "82c32e05-1621-447c-9dd9-e3ed6e012eac",
   "metadata": {},
   "outputs": [],
   "source": [
    "A5 = FE(matrix_FE(128), 128, CFL, 501)[:,-1].reshape(128,1)"
   ]
  },
  {
   "cell_type": "markdown",
   "id": "4c0e17f2-0066-405e-9ddb-3a5918f722d0",
   "metadata": {},
   "source": [
    "### Number 8 (A7 & A8) - Correct"
   ]
  },
  {
   "cell_type": "code",
   "execution_count": 7,
   "id": "3e26c0fe-5695-401d-b220-2189198cf618",
   "metadata": {},
   "outputs": [],
   "source": [
    "def matrix_PLU(n, CFL):\n",
    "    e1 = np.ones(n)\n",
    "    \n",
    "    M = scipy.sparse.spdiags([e1,-2*e1,e1], [-1,0,1],n,n, format = 'csc')\n",
    "    \n",
    "    M[0,n-1] = 1\n",
    "    M[n-1,0] = 1\n",
    "    \n",
    "    B = (scipy.sparse.eye(n, format = 'csc') - ((CFL/2)*M))\n",
    "    C = (scipy.sparse.eye(n, format = 'csc') + ((CFL/2)*M))\n",
    "    \n",
    "    return B, C"
   ]
  },
  {
   "cell_type": "code",
   "execution_count": 8,
   "id": "9b4763bf-64eb-41f3-b307-6c3d3bf9923e",
   "metadata": {},
   "outputs": [],
   "source": [
    "B = matrix_PLU(128, CFL)[0]\n",
    "C = matrix_PLU(128, CFL)[1]"
   ]
  },
  {
   "cell_type": "code",
   "execution_count": 9,
   "id": "bcbf2331-8a0d-4db5-8015-ebf94e3df863",
   "metadata": {},
   "outputs": [],
   "source": [
    "A7 = B.todense()\n",
    "A8 = C.todense()"
   ]
  },
  {
   "cell_type": "markdown",
   "id": "54a2ba6c-5c4c-4f1f-8055-0a249b6dca37",
   "metadata": {},
   "source": [
    "### Number 9 (A9) - Correct"
   ]
  },
  {
   "cell_type": "code",
   "execution_count": 10,
   "id": "4d6c86b5-c8e4-4218-a666-b885b6f61dbf",
   "metadata": {},
   "outputs": [],
   "source": [
    "def PLU(B, C, n, t):\n",
    "    L = 10\n",
    "    Time = 2\n",
    "    x2 = np.linspace(-L, L, n+1)\n",
    "    x = x2[0:n]\n",
    "    \n",
    "    Time = 2\n",
    "    t = np.linspace(0, Time, t)\n",
    "    dt = t[1] - t[0]\n",
    "    time_steps = int(Time/dt)\n",
    "\n",
    "    PLU = scipy.sparse.linalg.splu(B)\n",
    "    \n",
    "    usol_plu = np.zeros((len(x),len(t))) #placeholder for solution - more effcient\n",
    "    u0 = ((10*np.cos((2*np.pi*x)/L) + 30*np.cos((8*np.pi*x)/L)).T)\n",
    "    usol_plu[:,0] = C@u0\n",
    "\n",
    "    start = time.time()\n",
    "    for j in range(time_steps):\n",
    "        u1 = PLU.solve(C@u0)\n",
    "        u0 = u1 \n",
    "        usol_plu[:,j+1] = u1\n",
    "\n",
    "    end = time.time()\n",
    "    # print(end-start)\n",
    "    \n",
    "    return usol_plu"
   ]
  },
  {
   "cell_type": "code",
   "execution_count": 11,
   "id": "35008507-4e44-4881-8cae-a05ee24bd355",
   "metadata": {},
   "outputs": [],
   "source": [
    "A9 = PLU(B, C, 128, 501)[:,-1].reshape(128,1)"
   ]
  },
  {
   "cell_type": "markdown",
   "id": "890a53ca-1a0a-4b2b-ab5b-45d50949b262",
   "metadata": {
    "tags": []
   },
   "source": [
    "### Number 11 (A11 & A12) - Correct"
   ]
  },
  {
   "cell_type": "code",
   "execution_count": 12,
   "id": "755f5f6e-961d-49d1-a0b2-7aac80043532",
   "metadata": {},
   "outputs": [],
   "source": [
    "exact_128 = np.genfromtxt(\"exact_128.csv\", delimiter=',')"
   ]
  },
  {
   "cell_type": "code",
   "execution_count": 13,
   "id": "c879db6e-c32f-4812-aeef-f1137793fd75",
   "metadata": {},
   "outputs": [],
   "source": [
    "A11 = np.linalg.norm(exact_128-A5.reshape(128))"
   ]
  },
  {
   "cell_type": "code",
   "execution_count": 14,
   "id": "95017f33-b55c-4c8f-bdfe-b27193990e66",
   "metadata": {},
   "outputs": [],
   "source": [
    "A12 = np.linalg.norm(exact_128-A9.reshape(128))"
   ]
  },
  {
   "cell_type": "markdown",
   "id": "bb4a543c-e979-4879-9f67-4aee156f94d4",
   "metadata": {},
   "source": [
    "### Number 12 (A13 & A14) - Incorrect"
   ]
  },
  {
   "cell_type": "code",
   "execution_count": 15,
   "id": "00bda5dc-d01b-4acb-9538-c4a2f4d3ea7c",
   "metadata": {},
   "outputs": [],
   "source": [
    "exact_256 = np.genfromtxt(\"exact_256.csv\", delimiter=',')"
   ]
  },
  {
   "cell_type": "code",
   "execution_count": 16,
   "id": "260a6cf8-94ae-42d1-80cb-b14b1e50a0de",
   "metadata": {},
   "outputs": [],
   "source": [
    "A13 = np.linalg.norm(exact_256-FE(matrix_FE(256), 256, CFL, 2001)[:,-1].reshape(256))"
   ]
  },
  {
   "cell_type": "code",
   "execution_count": 17,
   "id": "627522bc-73ac-449c-85e2-2e1afdf543f2",
   "metadata": {},
   "outputs": [],
   "source": [
    "B256 = matrix_PLU(256, CFL)[0]\n",
    "C256 = matrix_PLU(256, CFL)[1]"
   ]
  },
  {
   "cell_type": "code",
   "execution_count": 18,
   "id": "2bedfceb-63ab-4429-80ec-27b65828d52c",
   "metadata": {},
   "outputs": [],
   "source": [
    "A14 = np.linalg.norm(exact_256-PLU(B256,C256, 256, 2001)[:,-1].reshape(256))"
   ]
  },
  {
   "cell_type": "markdown",
   "id": "30930685-c3f3-4a41-850b-8bd745cc5c07",
   "metadata": {},
   "source": [
    "### 512"
   ]
  },
  {
   "cell_type": "code",
   "execution_count": 19,
   "id": "092d102a-d79a-4228-a598-c5282c7d92e7",
   "metadata": {},
   "outputs": [],
   "source": [
    "#For 512 points, it is 8001\n",
    "#For 1024 points, it is 32001 "
   ]
  },
  {
   "cell_type": "code",
   "execution_count": 20,
   "id": "d5e38b7f-7d3c-43f6-aef2-104796dec21b",
   "metadata": {},
   "outputs": [],
   "source": [
    "exact_512 = np.genfromtxt(\"exact_512.csv\", delimiter=',')"
   ]
  },
  {
   "cell_type": "code",
   "execution_count": 21,
   "id": "56f8650c-5acc-4eb1-b5e2-b18ec6c74d00",
   "metadata": {},
   "outputs": [],
   "source": [
    "A15 = np.linalg.norm(exact_512-FE(matrix_FE(512), 512, CFL, 8001)[:,-1].reshape(512))"
   ]
  },
  {
   "cell_type": "code",
   "execution_count": 22,
   "id": "9896904e-54bc-4d81-a18d-62a16d533de1",
   "metadata": {},
   "outputs": [],
   "source": [
    "B512 = matrix_PLU(512, CFL)[0]\n",
    "C512 = matrix_PLU(512, CFL)[1]"
   ]
  },
  {
   "cell_type": "code",
   "execution_count": 23,
   "id": "edf9ae80-646f-42b0-8eac-0b9f57b3e3ca",
   "metadata": {},
   "outputs": [],
   "source": [
    "A16 = np.linalg.norm(exact_512-PLU(B512,C512, 512, 8001)[:,-1].reshape(512))"
   ]
  },
  {
   "cell_type": "markdown",
   "id": "c26b369a-0897-40ec-aaa7-6cc7774758b2",
   "metadata": {},
   "source": [
    "### 1024"
   ]
  },
  {
   "cell_type": "code",
   "execution_count": 24,
   "id": "2a2b6566-053a-48cf-bfc6-2f2655a741de",
   "metadata": {},
   "outputs": [],
   "source": [
    "exact_1024 = np.genfromtxt(\"exact_1024.csv\", delimiter=',')"
   ]
  },
  {
   "cell_type": "code",
   "execution_count": 25,
   "id": "6a3c8171-1267-4881-9859-dea62fba7808",
   "metadata": {},
   "outputs": [],
   "source": [
    "A17 = np.linalg.norm(exact_1024-FE(matrix_FE(1024), 1024, CFL, 32001)[:,-1].reshape(1024))"
   ]
  },
  {
   "cell_type": "code",
   "execution_count": 26,
   "id": "dd094043-3bf4-43aa-9c75-295670a61d18",
   "metadata": {},
   "outputs": [],
   "source": [
    "B1024 = matrix_PLU(1024, CFL)[0]\n",
    "C1024 = matrix_PLU(1024, CFL)[1]"
   ]
  },
  {
   "cell_type": "code",
   "execution_count": 27,
   "id": "7cd88cb4-c971-4529-8634-d6a9d1217bd7",
   "metadata": {},
   "outputs": [],
   "source": [
    "A18 = np.linalg.norm(exact_1024-PLU(B1024,C1024, 1024, 32001)[:,-1].reshape(1024))"
   ]
  },
  {
   "cell_type": "code",
   "execution_count": 28,
   "id": "290ae9a1-638d-4f99-95bf-cc5832b0507e",
   "metadata": {},
   "outputs": [],
   "source": [
    "L = 10\n",
    "n = 256\n",
    "x2 = np.linspace(-L, L, n+1)\n",
    "x = x2[0:n]\n",
    "dx_256 = x[1]-x[0]"
   ]
  },
  {
   "cell_type": "code",
   "execution_count": 29,
   "id": "bbb87278-9ece-42fc-bdf5-f5dd4d3a4eee",
   "metadata": {},
   "outputs": [],
   "source": [
    "L = 10\n",
    "n = 512\n",
    "x2 = np.linspace(-L, L, n+1)\n",
    "x = x2[0:n]\n",
    "dx_512 = x[1]-x[0]"
   ]
  },
  {
   "cell_type": "code",
   "execution_count": 30,
   "id": "d6e9aa2d-a35b-4fd6-8e56-6745f643d799",
   "metadata": {},
   "outputs": [],
   "source": [
    "L = 10\n",
    "n = 1024\n",
    "x2 = np.linspace(-L, L, n+1)\n",
    "x = x2[0:n]\n",
    "dx_1024 = x[1]-x[0]"
   ]
  },
  {
   "cell_type": "code",
   "execution_count": 31,
   "id": "9c40b7c3-a0fa-4a68-9e56-fb022d8042a8",
   "metadata": {},
   "outputs": [],
   "source": [
    "dx_all = np.array([dx, dx_256, dx_512, dx_1024])"
   ]
  },
  {
   "cell_type": "code",
   "execution_count": 39,
   "id": "501d0c23-b94c-45a3-ba22-8904ee3bae43",
   "metadata": {},
   "outputs": [
    {
     "data": {
      "text/plain": [
       "array([0.15625   , 0.078125  , 0.0390625 , 0.01953125])"
      ]
     },
     "execution_count": 39,
     "metadata": {},
     "output_type": "execute_result"
    }
   ],
   "source": [
    "dx_all"
   ]
  },
  {
   "cell_type": "code",
   "execution_count": 32,
   "id": "c5fce581-d425-4826-b7fd-6bdd5f11f652",
   "metadata": {},
   "outputs": [],
   "source": [
    "FE_all = np.array([A11,A13,A15,A17])"
   ]
  },
  {
   "cell_type": "code",
   "execution_count": 33,
   "id": "7823a292-1eba-4bfc-a6e8-6200d75b0e25",
   "metadata": {},
   "outputs": [],
   "source": [
    "LU_all = np.array([A12,A14,A16,A18])"
   ]
  },
  {
   "cell_type": "code",
   "execution_count": 34,
   "id": "38ea6f5a-4eb2-486c-ad88-aea72e9225e7",
   "metadata": {},
   "outputs": [
    {
     "name": "stdout",
     "output_type": "stream",
     "text": [
      "Forward Euler (1,4) Slope: 1.500093276692452\n"
     ]
    }
   ],
   "source": [
    "trendline_FE = np.polyfit(np.log(dx_all), np.log(FE_all), 1)\n",
    "FE_trend = trendline_FE[0]\n",
    "print(f\"Forward Euler (1,4) Slope: {FE_trend}\")"
   ]
  },
  {
   "cell_type": "code",
   "execution_count": 35,
   "id": "3016563c-c67d-497b-b849-26bedd3ad4dc",
   "metadata": {},
   "outputs": [
    {
     "name": "stdout",
     "output_type": "stream",
     "text": [
      "At n = 128, the error is: 0.04113471729137664\n",
      "At n = 256, the error is: 0.01454107045824732\n",
      "At n = 512, the error is: 0.00514084686368391\n",
      "At n = 1024, the error is: 0.0018175464225023386\n"
     ]
    }
   ],
   "source": [
    "print(f\"At n = 128, the error is: {FE_all[0]}\")\n",
    "print(f\"At n = 256, the error is: {FE_all[1]}\")\n",
    "print(f\"At n = 512, the error is: {FE_all[2]}\")\n",
    "print(f\"At n = 1024, the error is: {FE_all[3]}\")"
   ]
  },
  {
   "cell_type": "code",
   "execution_count": 36,
   "id": "de75cc07-9010-45ae-95ef-96cbc6b73cb9",
   "metadata": {},
   "outputs": [
    {
     "name": "stdout",
     "output_type": "stream",
     "text": [
      "Crank-Nicolson (2,2) Slope: 1.4996731740992677\n"
     ]
    }
   ],
   "source": [
    "trendline_LU = np.polyfit(np.log(dx_all), np.log(LU_all), 1)\n",
    "LU_trend = trendline_LU[0]\n",
    "print(f\"Crank-Nicolson (2,2) Slope: {LU_trend}\")"
   ]
  },
  {
   "cell_type": "code",
   "execution_count": 37,
   "id": "0cea6d5f-e065-4433-ac51-f35a0a239de6",
   "metadata": {},
   "outputs": [
    {
     "name": "stdout",
     "output_type": "stream",
     "text": [
      "At n = 128, the error is: 0.02090281135171564\n",
      "At n = 256, the error is: 0.00739425697380374\n",
      "At n = 512, the error is: 0.0026146184479072404\n",
      "At n = 1024, the error is: 0.000924438612185603\n"
     ]
    }
   ],
   "source": [
    "print(f\"At n = 128, the error is: {LU_all[0]}\")\n",
    "print(f\"At n = 256, the error is: {LU_all[1]}\")\n",
    "print(f\"At n = 512, the error is: {LU_all[2]}\")\n",
    "print(f\"At n = 1024, the error is: {LU_all[3]}\")"
   ]
  },
  {
   "cell_type": "code",
   "execution_count": 40,
   "id": "1441f385-510f-4539-9198-708d75d91648",
   "metadata": {},
   "outputs": [
    {
     "data": {
      "image/png": "[encoded data removed]",
      "text/plain": [
       "<Figure size 504x360 with 1 Axes>"
      ]
     },
     "metadata": {
      "needs_background": "light"
     },
     "output_type": "display_data"
    }
   ],
   "source": [
    "figure = plt.figure(figsize=[7, 5])\n",
    "\n",
    "plt.loglog(dx_all,FE_all.T, linewidth = 0, marker= 'o', color = 'red', label=\"(1,4) Accurate Scheme Error\")\n",
    "plt.loglog(dx_all,LU_all.T, linewidth = 0, marker= 'o', color = 'blue', label=\"Crank-Nicolson LU Error\")\n",
    "\n",
    "plt.loglog(dx_all,dx_all**(FE_trend+.1), color='red', linewidth = 2, label=\"(1,4) Accurate Scheme trendline\")\n",
    "plt.loglog(dx_all,dx_all**(LU_trend+.35), color='blue', linewidth = 2, label=\"Crank-Nicolson trendline\")\n",
    "\n",
    "plt.legend(loc=\"lower right\")\n",
    "plt.title('Error vs. Δx', fontsize=18)\n",
    "plt.xlabel('Δx', fontsize=14)\n",
    "plt.ylabel('Error', fontsize=14)\n",
    "plt.show()\n",
    "\n",
    "figure.savefig(\"loglog.png\")"
   ]
  },
  {
   "cell_type": "code",
   "execution_count": null,
   "id": "4ee4964b-320e-4d6b-a0c4-df3102bdeeca",
   "metadata": {},
   "outputs": [],
   "source": []
  }
 ],
 "metadata": {
  "kernelspec": {
   "display_name": "Python 3 (ipykernel)",
   "language": "python",
   "name": "python3"
  },
  "language_info": {
   "codemirror_mode": {
    "name": "ipython",
    "version": 3
   },
   "file_extension": ".py",
   "mimetype": "text/x-python",
   "name": "python",
   "nbconvert_exporter": "python",
   "pygments_lexer": "ipython3",
   "version": "3.9.7"
  }
 },
 "nbformat": 4,
 "nbformat_minor": 5
}
