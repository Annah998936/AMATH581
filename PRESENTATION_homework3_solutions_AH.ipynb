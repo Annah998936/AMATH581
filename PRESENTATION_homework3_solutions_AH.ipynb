{
 "cells": [
  {
   "cell_type": "code",
   "execution_count": 1,
   "id": "7396293b-a470-4150-ab34-b5cd495a8b5e",
   "metadata": {},
   "outputs": [],
   "source": [
    "import numpy as np\n",
    "import numpy.matlib\n",
    "\n",
    "import matplotlib.pyplot as plt\n",
    "import matplotlib.pylab as plt\n",
    "from matplotlib.pyplot import figure\n",
    "\n",
    "import scipy.integrate\n",
    "from scipy.integrate import solve_ivp\n",
    "from scipy.sparse import csr_matrix, triu, spdiags\n",
    "from scipy.sparse.linalg import spsolve, splu\n",
    "import scipy.sparse\n",
    "import time"
   ]
  },
  {
   "cell_type": "markdown",
   "id": "b56b8e76-e86b-48b8-91ed-3189965544dc",
   "metadata": {
    "jp-MarkdownHeadingCollapsed": true,
    "tags": []
   },
   "source": [
    "### Problem 2"
   ]
  },
  {
   "cell_type": "markdown",
   "id": "d817efc5-e746-4121-a87b-6a7b7396552e",
   "metadata": {
    "tags": []
   },
   "source": [
    "### A4"
   ]
  },
  {
   "cell_type": "code",
   "execution_count": 2,
   "id": "e35c1428-777c-4e27-8dfc-37e9b373b35c",
   "metadata": {},
   "outputs": [],
   "source": [
    "# delta x or delta y \n",
    "n = 128\n",
    "L = 10\n",
    "l = np.linspace(-L, L, n+1)\n",
    "dl = l[1]-l[0]"
   ]
  },
  {
   "cell_type": "code",
   "execution_count": 3,
   "id": "688ed039-3cfa-4b11-adbc-0e218111883a",
   "metadata": {},
   "outputs": [],
   "source": [
    "def A(m):\n",
    "\n",
    "    # m = 64 # N value in x and y directions\n",
    "    n = m*m # total size of matrix\n",
    "\n",
    "    e1 = np.ones(n) # vector of ones\n",
    "    Low1 = np.tile(np.concatenate((np.ones(m-1), [0])), (m,)) # Lower diagonal 1\n",
    "    Low2 = np.tile(np.concatenate(([1], np.zeros(m-1))), (m,)) #Lower diagonal 2\n",
    "                                        # Low2 is NOT on the second lower diagonal,\n",
    "                                        # it is just the next lower diagonal we see\n",
    "                                        # in the matrix.\n",
    "\n",
    "    Up1 = np.roll(Low1, 1) # Shift the array for spdiags\n",
    "    Up2 = np.roll(Low2, m-1) # Shift the other array\n",
    "\n",
    "    A = scipy.sparse.spdiags([e1, e1, Low2, Low1, -4*e1, Up1, Up2, e1, e1],\n",
    "                             [-(n-m), -m, -m+1, -1, 0, 1, m-1, m, (n-m)], n, n,format = 'csr')\n",
    "    \n",
    "    return A"
   ]
  },
  {
   "cell_type": "code",
   "execution_count": 4,
   "id": "bd208a36-06e7-4852-bf6d-2450d363d338",
   "metadata": {},
   "outputs": [],
   "source": [
    "A = A(128)\n",
    "A[0,0] = 2\n",
    "A = A/(dl**2)"
   ]
  },
  {
   "cell_type": "code",
   "execution_count": 5,
   "id": "849a8661-8aee-424b-8448-06b5f2632626",
   "metadata": {},
   "outputs": [],
   "source": [
    "A4 = np.copy(A.toarray())"
   ]
  },
  {
   "cell_type": "markdown",
   "id": "020f0f86-1436-4c07-977a-83335e153c2f",
   "metadata": {},
   "source": [
    "### A5"
   ]
  },
  {
   "cell_type": "code",
   "execution_count": 6,
   "id": "b97c1aee-466b-46db-9f28-4091cd4631f3",
   "metadata": {},
   "outputs": [],
   "source": [
    "def B(m):\n",
    "    # m = 5\n",
    "    n = m*m\n",
    "    e1_B = np.ones((n)).T # vector of ones\n",
    "\n",
    "    d_B = np.array([-((m**2)-m), - m, m, (m**2)-m])\n",
    "    Bin_B = np.array([e1_B, -e1_B, e1_B, -e1_B])\n",
    "\n",
    "\n",
    "    B = spdiags(Bin_B,d_B, n, n, format = 'csc')\n",
    "    B = B/(2 * dl)\n",
    "    return B"
   ]
  },
  {
   "cell_type": "code",
   "execution_count": 7,
   "id": "c336bc52-f7d8-4924-87de-b49b70c58dc6",
   "metadata": {},
   "outputs": [],
   "source": [
    "B = B(128)"
   ]
  },
  {
   "cell_type": "code",
   "execution_count": 8,
   "id": "7b1a2e33-6440-4bfc-9063-45d60894867b",
   "metadata": {},
   "outputs": [],
   "source": [
    "A5 = np.copy(B.toarray())"
   ]
  },
  {
   "cell_type": "markdown",
   "id": "dc9a102a-1db2-49ce-8243-41c8fd967fd7",
   "metadata": {},
   "source": [
    "### A6"
   ]
  },
  {
   "cell_type": "code",
   "execution_count": 9,
   "id": "8d6d64d0-2d55-4efc-96f6-6b66bcd84c68",
   "metadata": {},
   "outputs": [],
   "source": [
    "def C(m):\n",
    "    # m = 5 \n",
    "    n = m*m\n",
    "\n",
    "    e1_C = np.ones(n) # vector of ones\n",
    "    Low1_C = np.tile(np.concatenate((np.ones(m-1), [0])), (m,)) # Lower diagonal 1\n",
    "    Low2_C = np.tile(np.concatenate(([1], np.zeros(m-1))), (m,)) #Lower diagonal 2\n",
    "\n",
    "    Up1_C = np.roll(Low1_C, 1) \n",
    "    Up2_C = np.roll(Low2_C, m-1)\n",
    "\n",
    "    C = scipy.sparse.spdiags([Low2_C, -Low1_C, Up1_C, -Up2_C],\n",
    "                            [-m+1, -1, 1, m-1], n, n,format = 'csc')\n",
    "    C = C/(2 * dl)\n",
    "    return C"
   ]
  },
  {
   "cell_type": "code",
   "execution_count": 10,
   "id": "f720eb57-85da-40cf-9ccd-a926605feb0d",
   "metadata": {},
   "outputs": [],
   "source": [
    "C = C(128)"
   ]
  },
  {
   "cell_type": "code",
   "execution_count": 11,
   "id": "5ccb89c8-3fe2-425c-9464-dae1dbe30af8",
   "metadata": {},
   "outputs": [],
   "source": [
    "A6 = np.copy(C.toarray())"
   ]
  },
  {
   "cell_type": "markdown",
   "id": "4e5eeb95-b138-4f67-8260-fb204773800c",
   "metadata": {
    "tags": []
   },
   "source": [
    "### A7"
   ]
  },
  {
   "cell_type": "code",
   "execution_count": 12,
   "id": "c9a411c9",
   "metadata": {},
   "outputs": [],
   "source": [
    "L = 10\n",
    "xp = [0, 4]\n",
    "\n",
    "# time\n",
    "t_evals = np.linspace(0,4,9)\n",
    "dt = 0.5"
   ]
  },
  {
   "cell_type": "code",
   "execution_count": 15,
   "id": "013502ae-e961-4790-8a55-b31c3478e1a2",
   "metadata": {},
   "outputs": [],
   "source": [
    "x = np.linspace(-10, 10, 128, endpoint=False)\n",
    "y = np.linspace(-10, 10, 128, endpoint=False)\n",
    "# k = np.exp(-2*(x**2) - ((y**2)/20))"
   ]
  },
  {
   "cell_type": "code",
   "execution_count": 16,
   "id": "dae77eea-3db4-4092-84b1-f0009437b465",
   "metadata": {},
   "outputs": [],
   "source": [
    "w0_func = lambda x,y: np.exp((-2*(x**2))-((y**2)/20))\n",
    "w0=np.zeros(len(x)**2)\n",
    "k=0\n",
    "for i in x:\n",
    "    for j in y:\n",
    "        w0[k]= w0_func(i,j)\n",
    "        k=k+1"
   ]
  },
  {
   "cell_type": "code",
   "execution_count": 17,
   "id": "d99cf54e-4499-4296-ae92-6b7bcc7a7736",
   "metadata": {},
   "outputs": [],
   "source": [
    "def func_ivp(t, w):\n",
    "    \n",
    "    v = 0.001\n",
    "    \n",
    "    # update psi \n",
    "    psi = scipy.sparse.linalg.spsolve(A, w)\n",
    "    \n",
    "    dw = (v*A@w) - ((B@psi)*(C@w)) + ((C@psi)*(B@w))\n",
    "    \n",
    "    return dw "
   ]
  },
  {
   "cell_type": "code",
   "execution_count": 18,
   "id": "6d2732b8-0e53-43fc-a38c-39bb7205e422",
   "metadata": {},
   "outputs": [
    {
     "name": "stdout",
     "output_type": "stream",
     "text": [
      "3.875181198120117\n"
     ]
    }
   ],
   "source": [
    "tic_gaus = time.time()\n",
    "sol = scipy.integrate.solve_ivp(lambda t, w: func_ivp(t, w), xp, w0, t_eval = t_evals)\n",
    "toc_gaus = time.time()\n",
    "print(toc_gaus-tic_gaus)"
   ]
  },
  {
   "cell_type": "code",
   "execution_count": 19,
   "id": "5e578c45-070a-4d2a-a80e-cc018421e435",
   "metadata": {},
   "outputs": [],
   "source": [
    "A7 = sol.y.T"
   ]
  },
  {
   "cell_type": "markdown",
   "id": "4e38d177-ba6a-4986-8f00-116c8e455775",
   "metadata": {
    "tags": []
   },
   "source": [
    "### A8"
   ]
  },
  {
   "cell_type": "code",
   "execution_count": 20,
   "id": "16e9f236-77dd-4157-984b-7b107fd7f724",
   "metadata": {},
   "outputs": [],
   "source": [
    "L = 10\n",
    "xp = [0, 4]\n",
    "\n",
    "# time\n",
    "t_evals = np.linspace(0,4,9)\n",
    "dt = 0.5"
   ]
  },
  {
   "cell_type": "code",
   "execution_count": 21,
   "id": "64e84a85-3b7d-4cd9-97c5-e1b05584957e",
   "metadata": {},
   "outputs": [],
   "source": [
    "w0_func = lambda x,y: np.exp((-2*(x**2))-((y**2)/20))\n",
    "w0=np.zeros(len(x)**2)\n",
    "k=0\n",
    "for i in x:\n",
    "    for j in y:\n",
    "        w0[k]= w0_func(i,j)\n",
    "        k=k+1"
   ]
  },
  {
   "cell_type": "code",
   "execution_count": 22,
   "id": "1f70d25a-a708-4c7a-8988-e71a5a67b4ca",
   "metadata": {},
   "outputs": [
    {
     "name": "stderr",
     "output_type": "stream",
     "text": [
      "/Users/annahuang/opt/anaconda3/lib/python3.9/site-packages/scipy/sparse/linalg/dsolve/linsolve.py:318: SparseEfficiencyWarning: splu requires CSC matrix format\n",
      "  warn('splu requires CSC matrix format', SparseEfficiencyWarning)\n"
     ]
    }
   ],
   "source": [
    "PLU = scipy.sparse.linalg.splu(A)\n",
    "\n",
    "def func_ivp_plu(t, w):\n",
    "    \n",
    "    v = 0.001\n",
    "    \n",
    "    # update psi \n",
    "    psi = PLU.solve(w)\n",
    "    \n",
    "    dw = (v*A@w) - ((B@psi)*(C@w)) + ((C@psi)*(B@w))\n",
    "    \n",
    "    return dw "
   ]
  },
  {
   "cell_type": "code",
   "execution_count": 23,
   "id": "439f71f4-1a07-4c50-9143-38d7203b803c",
   "metadata": {},
   "outputs": [
    {
     "name": "stdout",
     "output_type": "stream",
     "text": [
      "0.10508370399475098\n"
     ]
    }
   ],
   "source": [
    "tic_plu = time.time()\n",
    "sol2 = scipy.integrate.solve_ivp(lambda t, w: func_ivp_plu(t, w), xp, w0, t_eval = t_evals)\n",
    "toc_plu = time.time()\n",
    "print(toc_plu-tic_plu)"
   ]
  },
  {
   "cell_type": "code",
   "execution_count": 24,
   "id": "90c8f638-d780-4a46-9498-faf8d0308453",
   "metadata": {},
   "outputs": [],
   "source": [
    "A8 = sol2.y.T"
   ]
  },
  {
   "cell_type": "code",
   "execution_count": 25,
   "id": "fc1d6564-e7d0-4f36-aac9-d2690897d4c3",
   "metadata": {},
   "outputs": [],
   "source": [
    "q = sol2.y[:,0].reshape(128,128)"
   ]
  },
  {
   "cell_type": "code",
   "execution_count": 26,
   "id": "17ced87d-d6ba-4640-90df-f6f221a4e81b",
   "metadata": {},
   "outputs": [],
   "source": [
    "w = sol2.y[:,1].reshape(128,128)"
   ]
  },
  {
   "cell_type": "code",
   "execution_count": 27,
   "id": "7d2592c6-f116-420f-a4c1-2c1ccea81a3d",
   "metadata": {},
   "outputs": [],
   "source": [
    "e = sol2.y[:,2].reshape(128,128)"
   ]
  },
  {
   "cell_type": "code",
   "execution_count": 28,
   "id": "226d28d6-e369-403c-8782-0bfb486ad60d",
   "metadata": {},
   "outputs": [],
   "source": [
    "r = sol2.y[:,3].reshape(128,128)"
   ]
  },
  {
   "cell_type": "code",
   "execution_count": 29,
   "id": "1c8e2111-b971-491e-8284-c6adfb3f47f3",
   "metadata": {},
   "outputs": [],
   "source": [
    "t = sol2.y[:,4].reshape(128,128)"
   ]
  },
  {
   "cell_type": "code",
   "execution_count": 30,
   "id": "f1718e87-37ee-4f6d-9ccd-8b03e62900db",
   "metadata": {},
   "outputs": [],
   "source": [
    "y = sol2.y[:,5].reshape(128,128)"
   ]
  },
  {
   "cell_type": "code",
   "execution_count": 31,
   "id": "4ce862ae-d1ab-46d7-80c0-f2b680ae7607",
   "metadata": {},
   "outputs": [],
   "source": [
    "u = sol2.y[:,6].reshape(128,128)"
   ]
  },
  {
   "cell_type": "code",
   "execution_count": 32,
   "id": "452014b4-dceb-4536-93be-de95e35fae7f",
   "metadata": {},
   "outputs": [],
   "source": [
    "i = sol2.y[:,7].reshape(128,128)"
   ]
  },
  {
   "cell_type": "code",
   "execution_count": 33,
   "id": "7638bbda-424b-47e6-b3a3-3079c18971f5",
   "metadata": {},
   "outputs": [],
   "source": [
    "o = sol2.y[:,8].reshape(128,128)"
   ]
  },
  {
   "cell_type": "code",
   "execution_count": 34,
   "id": "e131ef02-234a-454a-8bbf-3b66dcc6a9eb",
   "metadata": {},
   "outputs": [],
   "source": [
    "A9 = np.stack([q,w,e,r,t,y,u,i,o])"
   ]
  },
  {
   "cell_type": "code",
   "execution_count": 35,
   "id": "6ae33db2-5e65-4067-86eb-b35a9efb9750",
   "metadata": {},
   "outputs": [],
   "source": [
    "# L = 10\n",
    "# term = 4\n",
    "# x = np.arange(-L, L, 0.3125)\n",
    "# y = np.arange(-L, L, 0.3125)\n",
    "# N = len(x)"
   ]
  },
  {
   "cell_type": "code",
   "execution_count": 36,
   "id": "3a59d757-7a2f-45fd-979c-2f1294401484",
   "metadata": {},
   "outputs": [],
   "source": [
    "# fig5, ax5 = plt.subplots()\n",
    "\n",
    "# X, Y = np.meshgrid(x, y)\n",
    "# surf = ax5.contourf(X, Y, w)\n",
    "# fig5.colorbar(surf)\n",
    "\n",
    "# # ax5.set_title('Contour plot of the time evolution of the second mode', fontsize = 16)\n",
    "# ax5.set_xlabel(r'$x-value$', fontsize=14)\n",
    "# ax5.set_ylabel(r'$y-value$', fontsize=14)"
   ]
  },
  {
   "cell_type": "code",
   "execution_count": null,
   "id": "7e42e4eb-a6d6-4ef1-b8c7-535cbe7ef401",
   "metadata": {},
   "outputs": [],
   "source": []
  }
 ],
 "metadata": {
  "kernelspec": {
   "display_name": "Python 3 (ipykernel)",
   "language": "python",
   "name": "python3"
  },
  "language_info": {
   "codemirror_mode": {
    "name": "ipython",
    "version": 3
   },
   "file_extension": ".py",
   "mimetype": "text/x-python",
   "name": "python",
   "nbconvert_exporter": "python",
   "pygments_lexer": "ipython3",
   "version": "3.9.7"
  }
 },
 "nbformat": 4,
 "nbformat_minor": 5
}
